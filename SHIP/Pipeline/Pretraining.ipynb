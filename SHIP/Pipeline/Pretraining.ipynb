{
 "cells": [
  {
   "cell_type": "code",
   "execution_count": 1,
   "id": "e6c437e0-9614-4303-b920-80112121f71e",
   "metadata": {
    "tags": []
   },
   "outputs": [
    {
     "data": {
      "text/html": [
       "<div>\n",
       "<style scoped>\n",
       "    .dataframe tbody tr th:only-of-type {\n",
       "        vertical-align: middle;\n",
       "    }\n",
       "\n",
       "    .dataframe tbody tr th {\n",
       "        vertical-align: top;\n",
       "    }\n",
       "\n",
       "    .dataframe thead th {\n",
       "        text-align: right;\n",
       "    }\n",
       "</style>\n",
       "<table border=\"1\" class=\"dataframe\">\n",
       "  <thead>\n",
       "    <tr style=\"text-align: right;\">\n",
       "      <th></th>\n",
       "      <th>Timestamp</th>\n",
       "      <th>Elapsed time (minutes)</th>\n",
       "      <th>Set B field (T)</th>\n",
       "      <th>B field (T)</th>\n",
       "      <th>Ramp speed (T/min)</th>\n",
       "      <th>Voltage (V)</th>\n",
       "      <th>Inner Lower Temperature</th>\n",
       "      <th>Outer Lower Temperature</th>\n",
       "      <th>Inner Upper Temperature</th>\n",
       "      <th>Outer Upper Temperature</th>\n",
       "      <th>1st Stage Temperature</th>\n",
       "      <th>Shield Temperature</th>\n",
       "      <th>2nd Stage Temperature</th>\n",
       "      <th>Magnetism_ID</th>\n",
       "    </tr>\n",
       "  </thead>\n",
       "  <tbody>\n",
       "    <tr>\n",
       "      <th>0</th>\n",
       "      <td>02/08/2019 03:27:38 PM</td>\n",
       "      <td>2.805300</td>\n",
       "      <td>0.0</td>\n",
       "      <td>0.00000</td>\n",
       "      <td>0.000000</td>\n",
       "      <td>0.0</td>\n",
       "      <td>281.797983</td>\n",
       "      <td>285.092215</td>\n",
       "      <td>280.715422</td>\n",
       "      <td>283.969736</td>\n",
       "      <td>145.612162</td>\n",
       "      <td>279.920378</td>\n",
       "      <td>204.958080</td>\n",
       "      <td>./T10/20190208_SMS.txt</td>\n",
       "    </tr>\n",
       "    <tr>\n",
       "      <th>1</th>\n",
       "      <td>02/08/2019 03:28:01 PM</td>\n",
       "      <td>3.175539</td>\n",
       "      <td>0.0</td>\n",
       "      <td>0.00000</td>\n",
       "      <td>0.000000</td>\n",
       "      <td>0.0</td>\n",
       "      <td>281.768245</td>\n",
       "      <td>285.065814</td>\n",
       "      <td>280.686698</td>\n",
       "      <td>283.941646</td>\n",
       "      <td>145.521580</td>\n",
       "      <td>279.884569</td>\n",
       "      <td>204.900535</td>\n",
       "      <td>./T10/20190208_SMS.txt</td>\n",
       "    </tr>\n",
       "    <tr>\n",
       "      <th>2</th>\n",
       "      <td>02/08/2019 03:28:23 PM</td>\n",
       "      <td>3.554124</td>\n",
       "      <td>0.0</td>\n",
       "      <td>0.00000</td>\n",
       "      <td>0.000000</td>\n",
       "      <td>0.0</td>\n",
       "      <td>281.737322</td>\n",
       "      <td>285.041573</td>\n",
       "      <td>280.652349</td>\n",
       "      <td>283.915624</td>\n",
       "      <td>145.428632</td>\n",
       "      <td>279.849350</td>\n",
       "      <td>204.839601</td>\n",
       "      <td>./T10/20190208_SMS.txt</td>\n",
       "    </tr>\n",
       "    <tr>\n",
       "      <th>3</th>\n",
       "      <td>02/08/2019 03:28:46 PM</td>\n",
       "      <td>3.933961</td>\n",
       "      <td>0.0</td>\n",
       "      <td>0.00000</td>\n",
       "      <td>0.000000</td>\n",
       "      <td>0.0</td>\n",
       "      <td>281.704371</td>\n",
       "      <td>285.016645</td>\n",
       "      <td>280.621349</td>\n",
       "      <td>283.886878</td>\n",
       "      <td>145.337971</td>\n",
       "      <td>279.809776</td>\n",
       "      <td>204.778354</td>\n",
       "      <td>./T10/20190208_SMS.txt</td>\n",
       "    </tr>\n",
       "    <tr>\n",
       "      <th>4</th>\n",
       "      <td>02/08/2019 03:29:09 PM</td>\n",
       "      <td>4.314683</td>\n",
       "      <td>0.0</td>\n",
       "      <td>0.00000</td>\n",
       "      <td>0.000000</td>\n",
       "      <td>0.0</td>\n",
       "      <td>281.673613</td>\n",
       "      <td>284.987751</td>\n",
       "      <td>280.583256</td>\n",
       "      <td>283.856319</td>\n",
       "      <td>145.245554</td>\n",
       "      <td>279.771382</td>\n",
       "      <td>204.720981</td>\n",
       "      <td>./T10/20190208_SMS.txt</td>\n",
       "    </tr>\n",
       "    <tr>\n",
       "      <th>...</th>\n",
       "      <td>...</td>\n",
       "      <td>...</td>\n",
       "      <td>...</td>\n",
       "      <td>...</td>\n",
       "      <td>...</td>\n",
       "      <td>...</td>\n",
       "      <td>...</td>\n",
       "      <td>...</td>\n",
       "      <td>...</td>\n",
       "      <td>...</td>\n",
       "      <td>...</td>\n",
       "      <td>...</td>\n",
       "      <td>...</td>\n",
       "      <td>...</td>\n",
       "    </tr>\n",
       "    <tr>\n",
       "      <th>2789982</th>\n",
       "      <td>03/20/2019 10:24:29 AM</td>\n",
       "      <td>9833.385706</td>\n",
       "      <td>0.0</td>\n",
       "      <td>-0.00000</td>\n",
       "      <td>0.006867</td>\n",
       "      <td>0.0</td>\n",
       "      <td>5.073398</td>\n",
       "      <td>5.019095</td>\n",
       "      <td>4.877788</td>\n",
       "      <td>4.965012</td>\n",
       "      <td>41.333217</td>\n",
       "      <td>63.687044</td>\n",
       "      <td>3.241164</td>\n",
       "      <td>././T10/20190313_SMS.txt</td>\n",
       "    </tr>\n",
       "    <tr>\n",
       "      <th>2789983</th>\n",
       "      <td>03/20/2019 10:24:35 AM</td>\n",
       "      <td>9833.491933</td>\n",
       "      <td>0.0</td>\n",
       "      <td>-0.00426</td>\n",
       "      <td>0.006867</td>\n",
       "      <td>0.0</td>\n",
       "      <td>5.071438</td>\n",
       "      <td>5.017297</td>\n",
       "      <td>4.876068</td>\n",
       "      <td>4.963015</td>\n",
       "      <td>41.332443</td>\n",
       "      <td>63.700309</td>\n",
       "      <td>3.242243</td>\n",
       "      <td>././T10/20190313_SMS.txt</td>\n",
       "    </tr>\n",
       "    <tr>\n",
       "      <th>2789984</th>\n",
       "      <td>03/20/2019 10:24:42 AM</td>\n",
       "      <td>9833.604840</td>\n",
       "      <td>0.0</td>\n",
       "      <td>-0.00000</td>\n",
       "      <td>0.006867</td>\n",
       "      <td>0.0</td>\n",
       "      <td>5.069822</td>\n",
       "      <td>5.015468</td>\n",
       "      <td>4.874303</td>\n",
       "      <td>4.960119</td>\n",
       "      <td>41.331908</td>\n",
       "      <td>63.710247</td>\n",
       "      <td>3.248909</td>\n",
       "      <td>././T10/20190313_SMS.txt</td>\n",
       "    </tr>\n",
       "    <tr>\n",
       "      <th>2789985</th>\n",
       "      <td>03/20/2019 10:24:48 AM</td>\n",
       "      <td>9833.707356</td>\n",
       "      <td>0.0</td>\n",
       "      <td>-0.00000</td>\n",
       "      <td>0.006867</td>\n",
       "      <td>0.0</td>\n",
       "      <td>5.068294</td>\n",
       "      <td>5.013746</td>\n",
       "      <td>4.872636</td>\n",
       "      <td>4.958283</td>\n",
       "      <td>41.331908</td>\n",
       "      <td>63.720780</td>\n",
       "      <td>3.325273</td>\n",
       "      <td>././T10/20190313_SMS.txt</td>\n",
       "    </tr>\n",
       "    <tr>\n",
       "      <th>2789986</th>\n",
       "      <td>03/20/2019 10:24:54 AM</td>\n",
       "      <td>9833.811411</td>\n",
       "      <td>0.0</td>\n",
       "      <td>-0.00000</td>\n",
       "      <td>0.006867</td>\n",
       "      <td>0.0</td>\n",
       "      <td>5.067143</td>\n",
       "      <td>5.012027</td>\n",
       "      <td>4.871808</td>\n",
       "      <td>4.957342</td>\n",
       "      <td>41.332640</td>\n",
       "      <td>63.733202</td>\n",
       "      <td>3.376410</td>\n",
       "      <td>././T10/20190313_SMS.txt</td>\n",
       "    </tr>\n",
       "  </tbody>\n",
       "</table>\n",
       "<p>2789987 rows × 14 columns</p>\n",
       "</div>"
      ],
      "text/plain": [
       "                      Timestamp  Elapsed time (minutes)  Set B field (T)  \\\n",
       "0        02/08/2019 03:27:38 PM                2.805300              0.0   \n",
       "1        02/08/2019 03:28:01 PM                3.175539              0.0   \n",
       "2        02/08/2019 03:28:23 PM                3.554124              0.0   \n",
       "3        02/08/2019 03:28:46 PM                3.933961              0.0   \n",
       "4        02/08/2019 03:29:09 PM                4.314683              0.0   \n",
       "...                         ...                     ...              ...   \n",
       "2789982  03/20/2019 10:24:29 AM             9833.385706              0.0   \n",
       "2789983  03/20/2019 10:24:35 AM             9833.491933              0.0   \n",
       "2789984  03/20/2019 10:24:42 AM             9833.604840              0.0   \n",
       "2789985  03/20/2019 10:24:48 AM             9833.707356              0.0   \n",
       "2789986  03/20/2019 10:24:54 AM             9833.811411              0.0   \n",
       "\n",
       "         B field (T)  Ramp speed (T/min)  Voltage (V)  \\\n",
       "0            0.00000            0.000000          0.0   \n",
       "1            0.00000            0.000000          0.0   \n",
       "2            0.00000            0.000000          0.0   \n",
       "3            0.00000            0.000000          0.0   \n",
       "4            0.00000            0.000000          0.0   \n",
       "...              ...                 ...          ...   \n",
       "2789982     -0.00000            0.006867          0.0   \n",
       "2789983     -0.00426            0.006867          0.0   \n",
       "2789984     -0.00000            0.006867          0.0   \n",
       "2789985     -0.00000            0.006867          0.0   \n",
       "2789986     -0.00000            0.006867          0.0   \n",
       "\n",
       "         Inner Lower Temperature  Outer Lower Temperature  \\\n",
       "0                     281.797983               285.092215   \n",
       "1                     281.768245               285.065814   \n",
       "2                     281.737322               285.041573   \n",
       "3                     281.704371               285.016645   \n",
       "4                     281.673613               284.987751   \n",
       "...                          ...                      ...   \n",
       "2789982                 5.073398                 5.019095   \n",
       "2789983                 5.071438                 5.017297   \n",
       "2789984                 5.069822                 5.015468   \n",
       "2789985                 5.068294                 5.013746   \n",
       "2789986                 5.067143                 5.012027   \n",
       "\n",
       "         Inner Upper Temperature  Outer Upper Temperature  \\\n",
       "0                     280.715422               283.969736   \n",
       "1                     280.686698               283.941646   \n",
       "2                     280.652349               283.915624   \n",
       "3                     280.621349               283.886878   \n",
       "4                     280.583256               283.856319   \n",
       "...                          ...                      ...   \n",
       "2789982                 4.877788                 4.965012   \n",
       "2789983                 4.876068                 4.963015   \n",
       "2789984                 4.874303                 4.960119   \n",
       "2789985                 4.872636                 4.958283   \n",
       "2789986                 4.871808                 4.957342   \n",
       "\n",
       "         1st Stage Temperature  Shield Temperature  2nd Stage Temperature  \\\n",
       "0                   145.612162          279.920378             204.958080   \n",
       "1                   145.521580          279.884569             204.900535   \n",
       "2                   145.428632          279.849350             204.839601   \n",
       "3                   145.337971          279.809776             204.778354   \n",
       "4                   145.245554          279.771382             204.720981   \n",
       "...                        ...                 ...                    ...   \n",
       "2789982              41.333217           63.687044               3.241164   \n",
       "2789983              41.332443           63.700309               3.242243   \n",
       "2789984              41.331908           63.710247               3.248909   \n",
       "2789985              41.331908           63.720780               3.325273   \n",
       "2789986              41.332640           63.733202               3.376410   \n",
       "\n",
       "                     Magnetism_ID  \n",
       "0          ./T10/20190208_SMS.txt  \n",
       "1          ./T10/20190208_SMS.txt  \n",
       "2          ./T10/20190208_SMS.txt  \n",
       "3          ./T10/20190208_SMS.txt  \n",
       "4          ./T10/20190208_SMS.txt  \n",
       "...                           ...  \n",
       "2789982  ././T10/20190313_SMS.txt  \n",
       "2789983  ././T10/20190313_SMS.txt  \n",
       "2789984  ././T10/20190313_SMS.txt  \n",
       "2789985  ././T10/20190313_SMS.txt  \n",
       "2789986  ././T10/20190313_SMS.txt  \n",
       "\n",
       "[2789987 rows x 14 columns]"
      ]
     },
     "execution_count": 1,
     "metadata": {},
     "output_type": "execute_result"
    }
   ],
   "source": [
    "import pandas as pd\n",
    "\n",
    "df = pd.read_csv(\"magnetism.csv\")\n",
    "df"
   ]
  },
  {
   "cell_type": "code",
   "execution_count": 2,
   "id": "a8e3d5e9-049d-459a-8671-82a917fce676",
   "metadata": {
    "tags": []
   },
   "outputs": [
    {
     "name": "stderr",
     "output_type": "stream",
     "text": [
      "/tmp/ipykernel_949605/2093529370.py:9: UserWarning: Could not infer format, so each element will be parsed individually, falling back to `dateutil`. To ensure parsing is consistent and as-expected, please specify a format.\n",
      "  df['Timestamp'] = pd.to_datetime(df['Timestamp'])\n"
     ]
    }
   ],
   "source": [
    "import pandas as pd\n",
    "from darts import TimeSeries\n",
    "\n",
    "# Assuming 'your_dataset.csv' is a string containing the dataset\n",
    "\n",
    "# df = pd.read_csv(pd.compat.StringIO('your_dataset.csv'))\n",
    "\n",
    "# Convert the 'Timestamp' column to datetime type\n",
    "df['Timestamp'] = pd.to_datetime(df['Timestamp'])\n",
    "\n",
    "time_series_list = []\n",
    "for ccr_id, group in df.groupby('Magnetism_ID'):\n",
    "    # Sort the group by 'Timestamp' if not already sorted\n",
    "    group.sort_values('Timestamp', inplace=True)\n",
    "    \n",
    "    # Set the 'Timestamp' column as the index\n",
    "    group.set_index('Timestamp', inplace=True)\n",
    "    \n",
    "    # Exclude the 'CCR_ID' column from numeric conversion and resampling\n",
    "    value_cols = ['Elapsed time (minutes)', 'Set B field (T)', 'B field (T)', 'Ramp speed (T/min)', 'Voltage (V)', 'Inner Lower Temperature', 'Outer Lower Temperature', 'Inner Upper Temperature', 'Outer Upper Temperature', '1st Stage Temperature', 'Shield Temperature', '2nd Stage Temperature', ]\n",
    "    # value_cols = ['Elapsed time (minutes)','Setpoint (K)','Sensor A (K)','Sensor B (K)', 'Heater Output % (0-100)', 'Heater Range (integer 0-5)', 'Slope','Intercept','Sensor C (K) or sensor A (sensor unit)','Sensor D (K) or sensor B (sensor unit)']\n",
    "    \n",
    "    # Convert the numeric columns to numeric format, handling non-numeric values as NaN\n",
    "    for col in value_cols:\n",
    "        group[col] = pd.to_numeric(group[col], errors='coerce')\n",
    "    \n",
    "    # Select only numeric columns for resampling\n",
    "    numeric_cols = group.select_dtypes(include='number').columns\n",
    "    \n",
    "    # Resample the numeric columns to a fixed frequency\n",
    "    group_resampled = group[numeric_cols].resample('1T').mean()  # Adjust '5S' to the desired frequency\n",
    "    \n",
    "    # Handle missing values if necessary\n",
    "    group_resampled = group_resampled.fillna(method='ffill')  # Forward fill missing values, or choose another appropriate method\n",
    "    \n",
    "    # Convert the resampled DataFrame to a Darts TimeSeries object\n",
    "    time_series = TimeSeries.from_dataframe(group_resampled, value_cols=value_cols)\n",
    "    \n",
    "    time_series_list.append(time_series)\n"
   ]
  },
  {
   "cell_type": "code",
   "execution_count": 3,
   "id": "c2a080d6-850a-48df-a22c-e85229936182",
   "metadata": {
    "tags": []
   },
   "outputs": [
    {
     "name": "stdout",
     "output_type": "stream",
     "text": [
      "<TimeSeries (DataArray) (Timestamp: 14590, component: 12, sample: 1)>\n",
      "array([[[3.61954000e-01],\n",
      "        [0.00000000e+00],\n",
      "        [2.92750000e-03],\n",
      "        ...,\n",
      "        [4.17271840e+01],\n",
      "        [6.11838142e+01],\n",
      "        [3.33105675e+00]],\n",
      "\n",
      "       [[1.06804011e+00],\n",
      "        [0.00000000e+00],\n",
      "        [2.64000000e-03],\n",
      "        ...,\n",
      "        [4.17078789e+01],\n",
      "        [6.12136258e+01],\n",
      "        [3.28302967e+00]],\n",
      "\n",
      "       [[2.04189467e+00],\n",
      "        [0.00000000e+00],\n",
      "        [3.62777778e-03],\n",
      "        ...,\n",
      "...\n",
      "        ...,\n",
      "        [0.00000000e+00],\n",
      "        [0.00000000e+00],\n",
      "        [0.00000000e+00]],\n",
      "\n",
      "       [[1.45878679e+04],\n",
      "        [0.00000000e+00],\n",
      "        [0.00000000e+00],\n",
      "        ...,\n",
      "        [0.00000000e+00],\n",
      "        [0.00000000e+00],\n",
      "        [0.00000000e+00]],\n",
      "\n",
      "       [[1.45887758e+04],\n",
      "        [0.00000000e+00],\n",
      "        [0.00000000e+00],\n",
      "        ...,\n",
      "        [0.00000000e+00],\n",
      "        [0.00000000e+00],\n",
      "        [0.00000000e+00]]])\n",
      "Coordinates:\n",
      "  * Timestamp  (Timestamp) datetime64[ns] 2019-02-19T12:55:00 ... 2019-03-01T...\n",
      "  * component  (component) object 'Elapsed time (minutes)' ... '2nd Stage Tem...\n",
      "Dimensions without coordinates: sample\n",
      "Attributes:\n",
      "    static_covariates:  None\n",
      "    hierarchy:          None\n"
     ]
    }
   ],
   "source": [
    "print(time_series_list[0])"
   ]
  },
  {
   "cell_type": "code",
   "execution_count": 4,
   "id": "906e2498-4751-4fff-8223-6141540614c8",
   "metadata": {
    "tags": []
   },
   "outputs": [
    {
     "name": "stdout",
     "output_type": "stream",
     "text": [
      "31\n"
     ]
    }
   ],
   "source": [
    "print(len(time_series_list))"
   ]
  },
  {
   "cell_type": "code",
   "execution_count": 5,
   "id": "bc053ee3-b878-4bce-a924-9d83f7604bcf",
   "metadata": {},
   "outputs": [
    {
     "data": {
      "image/png": "[encoded data removed]",
      "text/plain": [
       "<Figure size 1000x600 with 1 Axes>"
      ]
     },
     "metadata": {},
     "output_type": "display_data"
    }
   ],
   "source": [
    "import matplotlib.pyplot as plt\n",
    "from darts import TimeSeries\n",
    "\n",
    "# Assuming you have a multivariate Darts time series named 'multivariate_time_series'\n",
    "\n",
    "# Convert the Darts time series to a Pandas DataFrame\n",
    "df = (time_series_list[1]).pd_dataframe()\n",
    "\n",
    "# Plotting the multivariate time series\n",
    "plt.figure(figsize=(10, 6))\n",
    "\n",
    "# Plot each variable separately\n",
    "for column in df.columns:\n",
    "    plt.plot(df.index, df[column], label=column)\n",
    "\n",
    "plt.xlabel('Time')\n",
    "plt.ylabel('Value')\n",
    "plt.title('Multivariate Time Series Plot')\n",
    "plt.legend()\n",
    "plt.grid(True)\n",
    "plt.show()\n"
   ]
  },
  {
   "cell_type": "code",
   "execution_count": 6,
   "id": "caac3635-7d06-4597-b262-27689d0bef76",
   "metadata": {
    "tags": []
   },
   "outputs": [
    {
     "name": "stderr",
     "output_type": "stream",
     "text": [
      "2023-07-27 08:58:58 darts.models WARNING: The statsforecast module could not be imported. To enable support for the StatsForecastAutoARIMA, StatsForecastAutoETS and Croston models, please consider installing it.\n"
     ]
    }
   ],
   "source": [
    "# fix python path if working locally\n",
    "import pandas as pd\n",
    "import numpy as np\n",
    "import torch\n",
    "import matplotlib.pyplot as plt\n",
    "\n",
    "from darts import TimeSeries\n",
    "from darts.utils.timeseries_generation import (\n",
    "    gaussian_timeseries,\n",
    "    linear_timeseries,\n",
    "    sine_timeseries,\n",
    ")\n",
    "from darts.models import (\n",
    "    RNNModel,\n",
    "    TCNModel,\n",
    "    TransformerModel,\n",
    "    NBEATSModel,\n",
    "    BlockRNNModel,\n",
    "    VARIMA,\n",
    ")\n",
    "from darts.metrics import mape, smape, mae\n",
    "from darts.dataprocessing.transformers import Scaler\n",
    "from darts.utils.timeseries_generation import datetime_attribute_timeseries\n",
    "from darts.datasets import AirPassengersDataset, MonthlyMilkDataset, ElectricityDataset\n",
    "\n",
    "import logging\n",
    "\n",
    "logging.disable(logging.CRITICAL)\n",
    "\n",
    "import warnings\n",
    "\n",
    "warnings.filterwarnings(\"ignore\")\n",
    "\n",
    "%matplotlib inline\n",
    "\n",
    "# for reproducibility\n",
    "torch.manual_seed(1)\n",
    "np.random.seed(1)"
   ]
  },
  {
   "cell_type": "code",
   "execution_count": 7,
   "id": "d0c699a5-4e4e-47de-b655-b7a9e8808083",
   "metadata": {
    "tags": []
   },
   "outputs": [
    {
     "data": {
      "text/plain": [
       "14590"
      ]
     },
     "execution_count": 7,
     "metadata": {},
     "output_type": "execute_result"
    }
   ],
   "source": [
    "len(time_series_list[0])"
   ]
  },
  {
   "cell_type": "code",
   "execution_count": 8,
   "id": "1794132a-34e0-46fb-8dd0-463f43154934",
   "metadata": {
    "tags": []
   },
   "outputs": [],
   "source": [
    "time_series_list_scaled = []\n",
    "\n",
    "for time_series in time_series_list:\n",
    "    scaler = Scaler()\n",
    "    time_series_list_scaled.append(scaler.fit_transform(time_series))"
   ]
  },
  {
   "cell_type": "code",
   "execution_count": 9,
   "id": "b992e016-b78c-4805-920a-a99ce53c360d",
   "metadata": {
    "tags": []
   },
   "outputs": [
    {
     "name": "stdout",
     "output_type": "stream",
     "text": [
      "Index(['Normalized Elapsed time (minutes)', 'Normalized Set B field (T)',\n",
      "       'Normalized B field (T)', 'Normalized Ramp speed (T/min)',\n",
      "       'Normalized Voltage (V)', 'Normalized Inner Lower Temperature',\n",
      "       'Normalized Outer Lower Temperature',\n",
      "       'Normalized Inner Upper Temperature',\n",
      "       'Normalized Outer Upper Temperature',\n",
      "       'Normalized 1st Stage Temperature', 'Normalized Shield Temperature',\n",
      "       'Normalized 2nd Stage Temperature'],\n",
      "      dtype='object', name='component')\n"
     ]
    }
   ],
   "source": [
    "# print(time_series_list_scaled[0].columns)\n",
    "from darts import TimeSeries\n",
    "temp = []\n",
    "# Assuming you have a Darts TimeSeries object named 'ts'\n",
    "\n",
    "# Convert the TimeSeries to a pandas DataFrame\n",
    "for ts in time_series_list_scaled:\n",
    "    df = ts.pd_dataframe()\n",
    "\n",
    "    # Rename the columns in the pandas DataFrame\n",
    "    new_column_names = ['Normalized Elapsed time (minutes)', 'Normalized Set B field (T)', 'Normalized B field (T)',\n",
    "       'Normalized Ramp speed (T/min)', 'Normalized Voltage (V)', 'Normalized Inner Lower Temperature',\n",
    "       'Normalized Outer Lower Temperature', 'Normalized Inner Upper Temperature',\n",
    "       'Normalized Outer Upper Temperature', 'Normalized 1st Stage Temperature',\n",
    "       'Normalized Shield Temperature', 'Normalized 2nd Stage Temperature']  # Replace with the new column names you want\n",
    "    df.columns = new_column_names\n",
    "\n",
    "    # Convert the modified pandas DataFrame back to a Darts TimeSeries\n",
    "    temp.append(TimeSeries.from_dataframe(df))\n",
    "time_series_list_scaled = temp\n",
    "print(time_series_list_scaled[0].columns)"
   ]
  },
  {
   "cell_type": "code",
   "execution_count": 10,
   "id": "29da9d4e-89e6-4c0b-b90f-7a706d3a9280",
   "metadata": {
    "tags": []
   },
   "outputs": [
    {
     "name": "stdout",
     "output_type": "stream",
     "text": [
      "Index(['Elapsed time (minutes)', 'Set B field (T)', 'B field (T)',\n",
      "       'Ramp speed (T/min)', 'Voltage (V)', 'Inner Lower Temperature',\n",
      "       'Outer Lower Temperature', 'Inner Upper Temperature',\n",
      "       'Outer Upper Temperature', '1st Stage Temperature',\n",
      "       'Shield Temperature', '2nd Stage Temperature'],\n",
      "      dtype='object', name='component')\n"
     ]
    }
   ],
   "source": [
    "print((time_series_list[0]).columns)"
   ]
  },
  {
   "cell_type": "code",
   "execution_count": 11,
   "id": "2e9aa429-9f54-42c3-a74e-46cb929b701c",
   "metadata": {
    "tags": []
   },
   "outputs": [],
   "source": [
    "from darts import TimeSeries\n",
    "\n",
    "covariates = []\n",
    "for i in range(len(time_series_list)):\n",
    "    ts_df = (time_series_list[i]).pd_dataframe()\n",
    "    columns_to_keep = ['Set B field (T)', 'Elapsed time (minutes)', 'Ramp speed (T/min)', 'Inner Lower Temperature', \n",
    "                       'Outer Lower Temperature', 'Inner Upper Temperature',\n",
    "                       'Outer Upper Temperature', '1st Stage Temperature',\n",
    "                       'Shield Temperature', '2nd Stage Temperature']\n",
    "    covariate_ts_df = ts_df[columns_to_keep]\n",
    "    covariates.append(TimeSeries.from_dataframe(covariate_ts_df))\n"
   ]
  },
  {
   "cell_type": "code",
   "execution_count": 12,
   "id": "232f7365-439f-4bd3-9d2c-b03416a098d8",
   "metadata": {
    "tags": []
   },
   "outputs": [
    {
     "name": "stdout",
     "output_type": "stream",
     "text": [
      "Index(['Set B field (T)', 'Elapsed time (minutes)', 'Ramp speed (T/min)',\n",
      "       'Inner Lower Temperature', 'Outer Lower Temperature',\n",
      "       'Inner Upper Temperature', 'Outer Upper Temperature',\n",
      "       '1st Stage Temperature', 'Shield Temperature', '2nd Stage Temperature',\n",
      "       'Normalized Elapsed time (minutes)', 'Normalized Set B field (T)',\n",
      "       'Normalized B field (T)', 'Normalized Ramp speed (T/min)',\n",
      "       'Normalized Voltage (V)', 'Normalized Inner Lower Temperature',\n",
      "       'Normalized Outer Lower Temperature',\n",
      "       'Normalized Inner Upper Temperature',\n",
      "       'Normalized Outer Upper Temperature',\n",
      "       'Normalized 1st Stage Temperature', 'Normalized Shield Temperature',\n",
      "       'Normalized 2nd Stage Temperature'],\n",
      "      dtype='object', name='component')\n"
     ]
    }
   ],
   "source": [
    "updated_covariates = []\n",
    "for i in range(len(covariates)):\n",
    "    df = covariates[i].pd_dataframe()\n",
    "    # for time_series in time_series_list_scaled:\n",
    "    temp = time_series_list_scaled[i].pd_dataframe()\n",
    "    for col in temp.columns:\n",
    "        df[col] = temp[col]\n",
    "    updated_covariates.append(TimeSeries.from_dataframe(df))\n",
    "    \n",
    "print(updated_covariates[0].columns)\n",
    "covariates = updated_covariates"
   ]
  },
  {
   "cell_type": "code",
   "execution_count": 49,
   "id": "c94b4dc3-f111-4a73-a141-aee5c32ab265",
   "metadata": {
    "tags": []
   },
   "outputs": [
    {
     "name": "stdout",
     "output_type": "stream",
     "text": [
      "2\n"
     ]
    }
   ],
   "source": [
    "from darts import TimeSeries\n",
    "\n",
    "# ts_df = ts.pd_dataframe()\n",
    "time_final = []\n",
    "for i in range(len(time_series_list)):\n",
    "    ts_df = (time_series_list[i]).pd_dataframe()\n",
    "    columns_to_keep = ['B field (T)', 'Voltage (V)', ]\n",
    "    covariate_ts_df = ts_df[columns_to_keep]\n",
    "    time_final.append(TimeSeries.from_dataframe(covariate_ts_df))\n",
    "    \n",
    "print(len(time_final[0].columns))"
   ]
  },
  {
   "cell_type": "code",
   "execution_count": 60,
   "id": "ffcc3005-e412-4c8b-95f1-7c8c97278e04",
   "metadata": {
    "tags": []
   },
   "outputs": [],
   "source": [
    "model = TransformerModel(\n",
    "    input_chunk_length=50,\n",
    "    output_chunk_length=10,\n",
    "    model_name=\"test5\",\n",
    "    activation=\"relu\",\n",
    "    # random_state=42,\n",
    "    save_checkpoints=True,\n",
    "    # force_reset=True,\n",
    "    pl_trainer_kwargs = {\"accelerator\": \"gpu\", \"devices\": [1]}\n",
    ")\n",
    "\n",
    "train, test = [], []\n",
    "\n",
    "\n",
    "for time_series in time_final:\n",
    "    train_length = int(len(time_series) * 0.8)\n",
    "    train.append(time_series[:train_length])\n",
    "    test.append(time_series[train_length:])\n",
    "\n",
    "# forecast = model.predict(len(val_series))"
   ]
  },
  {
   "cell_type": "code",
   "execution_count": 61,
   "id": "63bd3d44-7ff7-4559-977b-8fecc0a8508a",
   "metadata": {
    "tags": []
   },
   "outputs": [
    {
     "name": "stdout",
     "output_type": "stream",
     "text": [
      "11672\n",
      "14590\n"
     ]
    }
   ],
   "source": [
    "print(len(train[0]))\n",
    "print(len(covariates[0]))"
   ]
  },
  {
   "cell_type": "code",
   "execution_count": 62,
   "id": "2f969e1b-e842-4cb2-8dce-c731891ed844",
   "metadata": {
    "tags": []
   },
   "outputs": [
    {
     "data": {
      "application/vnd.jupyter.widget-view+json": {
       "model_id": "b0ec6ba8a7b34944b8f69bf0939daf2d",
       "version_major": 2,
       "version_minor": 0
      },
      "text/plain": [
       "Training: 0it [00:00, ?it/s]"
      ]
     },
     "metadata": {},
     "output_type": "display_data"
    }
   ],
   "source": [
    "# model = TransformerModel.load('fourth.pth')\n",
    "model.fit(\n",
    "    series=train,\n",
    "    past_covariates=covariates,\n",
    ");"
   ]
  },
  {
   "cell_type": "code",
   "execution_count": 63,
   "id": "097a10a3-688c-4f68-a820-face58b20ed3",
   "metadata": {},
   "outputs": [],
   "source": [
    "model.save('fifth.pth')"
   ]
  },
  {
   "cell_type": "code",
   "execution_count": 65,
   "id": "2d7568e1-59f4-461f-a6a1-89b55cddf4d0",
   "metadata": {
    "tags": []
   },
   "outputs": [],
   "source": [
    "# fix python path if working locally\n",
    "import pandas as pd\n",
    "import numpy as np\n",
    "import torch\n",
    "import matplotlib.pyplot as plt\n",
    "\n",
    "from darts import TimeSeries\n",
    "from darts.utils.timeseries_generation import (\n",
    "    gaussian_timeseries,\n",
    "    linear_timeseries,\n",
    "    sine_timeseries,\n",
    ")\n",
    "from darts.models import (\n",
    "    RNNModel,\n",
    "    TCNModel,\n",
    "    TransformerModel,\n",
    "    NBEATSModel,\n",
    "    BlockRNNModel,\n",
    "    VARIMA,\n",
    ")\n",
    "from darts.metrics import mape, smape, mae\n",
    "from darts.dataprocessing.transformers import Scaler\n",
    "from darts.utils.timeseries_generation import datetime_attribute_timeseries\n",
    "from darts.datasets import AirPassengersDataset, MonthlyMilkDataset, ElectricityDataset\n",
    "\n",
    "import logging\n",
    "\n",
    "logging.disable(logging.CRITICAL)\n",
    "\n",
    "import warnings\n",
    "\n",
    "warnings.filterwarnings(\"ignore\")\n",
    "\n",
    "%matplotlib inline\n",
    "\n",
    "# for reproducibility\n",
    "torch.manual_seed(1)\n",
    "np.random.seed(1)\n",
    "\n",
    "loaded_model = TCNModel.load('fifth.pth')"
   ]
  },
  {
   "cell_type": "code",
   "execution_count": 110,
   "id": "78d3679f-ce02-4170-87ee-29b7ef467ab0",
   "metadata": {
    "tags": []
   },
   "outputs": [
    {
     "data": {
      "text/plain": [
       "2918"
      ]
     },
     "execution_count": 110,
     "metadata": {},
     "output_type": "execute_result"
    }
   ],
   "source": [
    "len(test[0])"
   ]
  },
  {
   "cell_type": "code",
   "execution_count": 88,
   "id": "243e69f9-5abd-40a0-b84e-0c222613227a",
   "metadata": {
    "tags": []
   },
   "outputs": [],
   "source": [
    "num = 0"
   ]
  },
  {
   "cell_type": "code",
   "execution_count": 111,
   "id": "3ae3ff0a-acc1-4bd8-acdd-5dae8652171a",
   "metadata": {
    "tags": []
   },
   "outputs": [
    {
     "data": {
      "application/vnd.jupyter.widget-view+json": {
       "model_id": "71c31365c8dc4bc68e396453cab9f72d",
       "version_major": 2,
       "version_minor": 0
      },
      "text/plain": [
       "Predicting: 0it [00:00, ?it/s]"
      ]
     },
     "metadata": {},
     "output_type": "display_data"
    }
   ],
   "source": [
    "n_forecast = len(test[num][500:700])  # Replace `test` with your test set\n",
    "pred_series = loaded_model.predict(n=n_forecast, series=train[num], past_covariates = covariates[num])  # Adjust the `n` parameter as needed"
   ]
  },
  {
   "cell_type": "code",
   "execution_count": 112,
   "id": "060f7e6e-88ba-471b-a5a7-8d96ccffcdf6",
   "metadata": {
    "tags": []
   },
   "outputs": [
    {
     "name": "stdout",
     "output_type": "stream",
     "text": [
      "MAPE: nan%\n",
      "RMSE: nan\n"
     ]
    }
   ],
   "source": [
    "from darts.metrics import mape, rmse\n",
    "\n",
    "mape_score = mape(pred_series, test[num][500:700])  # Replace `test` with your true future values\n",
    "rmse_score = rmse(pred_series, test[num][500:700])  # Replace `test` with your true future values\n",
    "\n",
    "print(f\"MAPE: {mape_score:.2f}%\")\n",
    "print(f\"RMSE: {rmse_score:.2f}\")"
   ]
  },
  {
   "cell_type": "code",
   "execution_count": 105,
   "id": "f89dd2a8-2592-4037-9b54-a246edd5d637",
   "metadata": {
    "tags": []
   },
   "outputs": [
    {
     "data": {
      "image/png": "[encoded data removed]",
      "text/plain": [
       "<Figure size 1000x600 with 1 Axes>"
      ]
     },
     "metadata": {},
     "output_type": "display_data"
    }
   ],
   "source": [
    "import matplotlib.pyplot as plt\n",
    "from darts import TimeSeries\n",
    "\n",
    "# Assuming you have a multivariate Darts time series named 'multivariate_time_series'\n",
    "\n",
    "# Convert the Darts time series to a Pandas DataFrame\n",
    "df = (pred_series).pd_dataframe()\n",
    "\n",
    "# Plotting the multivariate time series\n",
    "plt.figure(figsize=(10, 6))\n",
    "\n",
    "# Plot each variable separately\n",
    "for column in df.columns:\n",
    "    plt.plot(df.index, df[column], label=column)\n",
    "\n",
    "plt.xlabel('Time')\n",
    "plt.ylabel('Value')\n",
    "plt.title('Multivariate Time Series Plot')\n",
    "plt.legend()\n",
    "plt.grid(True)\n",
    "plt.show()\n"
   ]
  },
  {
   "cell_type": "code",
   "execution_count": 109,
   "id": "08d40dc0-959b-4d77-9000-349a3e1a1f28",
   "metadata": {
    "tags": []
   },
   "outputs": [
    {
     "data": {
      "image/png": "[encoded data removed]",
      "text/plain": [
       "<Figure size 1000x600 with 1 Axes>"
      ]
     },
     "metadata": {},
     "output_type": "display_data"
    }
   ],
   "source": [
    "import matplotlib.pyplot as plt\n",
    "from darts import TimeSeries\n",
    "\n",
    "# Assuming you have a multivariate Darts time series named 'multivariate_time_series'\n",
    "\n",
    "# Convert the Darts time series to a Pandas DataFrame\n",
    "df = (test[num]).pd_dataframe()\n",
    "\n",
    "# Plotting the multivariate time series\n",
    "plt.figure(figsize=(10, 6))\n",
    "\n",
    "# Plot each variable separately\n",
    "for column in df.columns:\n",
    "    plt.plot(df.index, df[column], label=column)\n",
    "\n",
    "plt.xlabel('Time')\n",
    "plt.ylabel('Value')\n",
    "plt.title('Multivariate Time Series Plot')\n",
    "plt.legend()\n",
    "plt.grid(True)\n",
    "plt.show()\n"
   ]
  },
  {
   "cell_type": "code",
   "execution_count": 26,
   "id": "dd9adf2d-606f-4570-8c0f-50d574748f57",
   "metadata": {},
   "outputs": [
    {
     "ename": "AttributeError",
     "evalue": "'TransformerModel' object has no attribute 'history'",
     "output_type": "error",
     "traceback": [
      "\u001b[0;31m---------------------------------------------------------------------------\u001b[0m",
      "\u001b[0;31mAttributeError\u001b[0m                            Traceback (most recent call last)",
      "Cell \u001b[0;32mIn[38], line 2\u001b[0m\n\u001b[1;32m      1\u001b[0m \u001b[38;5;66;03m# Assuming you have already trained your model and have a Darts TimeSeriesModel named 'model'\u001b[39;00m\n\u001b[0;32m----> 2\u001b[0m training_loss_history \u001b[38;5;241m=\u001b[39m \u001b[43mloaded_model\u001b[49m\u001b[38;5;241;43m.\u001b[39;49m\u001b[43mhistory\u001b[49m[\u001b[38;5;124m'\u001b[39m\u001b[38;5;124mtrain_loss\u001b[39m\u001b[38;5;124m'\u001b[39m]\n\u001b[1;32m      3\u001b[0m training_accuracy_history \u001b[38;5;241m=\u001b[39m loaded_model\u001b[38;5;241m.\u001b[39mhistory[\u001b[38;5;124m'\u001b[39m\u001b[38;5;124mtrain_accuracy\u001b[39m\u001b[38;5;124m'\u001b[39m]\n",
      "\u001b[0;31mAttributeError\u001b[0m: 'TransformerModel' object has no attribute 'history'"
     ]
    }
   ],
   "source": [
    "# Assuming you have already trained your model and have a Darts TimeSeriesModel named 'model'\n",
    "training_loss_history = loaded_model.history['train_loss']\n",
    "training_accuracy_history = loaded_model.history['train_accuracy']"
   ]
  },
  {
   "cell_type": "code",
   "execution_count": null,
   "id": "78d58dcc-0d09-4dc1-adee-0c9df99d21a7",
   "metadata": {},
   "outputs": [],
   "source": []
  }
 ],
 "metadata": {
  "kernelspec": {
   "display_name": "Python [conda env:jupyterhub] *",
   "language": "python",
   "name": "conda-env-jupyterhub-py"
  },
  "language_info": {
   "codemirror_mode": {
    "name": "ipython",
    "version": 3
   },
   "file_extension": ".py",
   "mimetype": "text/x-python",
   "name": "python",
   "nbconvert_exporter": "python",
   "pygments_lexer": "ipython3",
   "version": "3.10.9"
  }
 },
 "nbformat": 4,
 "nbformat_minor": 5
}
