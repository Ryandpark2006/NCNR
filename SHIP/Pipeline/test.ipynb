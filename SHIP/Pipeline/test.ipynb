{
 "cells": [
  {
   "cell_type": "code",
   "execution_count": null,
   "id": "95e7adf3-8b79-4fd1-9243-70a36c7c56ab",
   "metadata": {},
   "outputs": [],
   "source": [
    "print(\"hello\")"
   ]
  },
  {
   "cell_type": "code",
   "execution_count": null,
   "id": "31673890-0a17-481f-abfc-4e6d1fc6d463",
   "metadata": {},
   "outputs": [],
   "source": [
    "jupyter nbconvert --to notebook --execute test.ipynb"
   ]
  },
  {
   "cell_type": "code",
   "execution_count": null,
   "id": "f71efff3-7159-40c1-a538-a71baed1b896",
   "metadata": {},
   "outputs": [],
   "source": [
    "#!/bin/bash\n",
    "/storage/conda/mambaforge/envs/jupyterhub/bin/jupyter nbconvert --to notebook --execute test.ipynb"
   ]
  }
 ],
 "metadata": {
  "kernelspec": {
   "display_name": "Python 3 (ipykernel)",
   "language": "python",
   "name": "python3"
  },
  "language_info": {
   "codemirror_mode": {
    "name": "ipython",
    "version": 3
   },
   "file_extension": ".py",
   "mimetype": "text/x-python",
   "name": "python",
   "nbconvert_exporter": "python",
   "pygments_lexer": "ipython3",
   "version": "3.10.9"
  }
 },
 "nbformat": 4,
 "nbformat_minor": 5
}
