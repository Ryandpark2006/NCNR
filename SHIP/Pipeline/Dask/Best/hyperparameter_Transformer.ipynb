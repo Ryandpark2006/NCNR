{
 "cells": [
  {
   "cell_type": "code",
   "execution_count": 45,
   "id": "edbd61a4-9118-42b9-ba29-6893bd620923",
   "metadata": {
    "tags": []
   },
   "outputs": [
    {
     "data": {
      "text/html": [
       "<div>\n",
       "<style scoped>\n",
       "    .dataframe tbody tr th:only-of-type {\n",
       "        vertical-align: middle;\n",
       "    }\n",
       "\n",
       "    .dataframe tbody tr th {\n",
       "        vertical-align: top;\n",
       "    }\n",
       "\n",
       "    .dataframe thead th {\n",
       "        text-align: right;\n",
       "    }\n",
       "</style>\n",
       "<table border=\"1\" class=\"dataframe\">\n",
       "  <thead>\n",
       "    <tr style=\"text-align: right;\">\n",
       "      <th></th>\n",
       "      <th>Timestamp</th>\n",
       "      <th>Elapsed time (minutes)</th>\n",
       "      <th>Set B field (T)</th>\n",
       "      <th>B field (T)</th>\n",
       "      <th>Ramp speed (T/min)</th>\n",
       "      <th>Voltage (V)</th>\n",
       "      <th>Inner Lower Temperature</th>\n",
       "      <th>Outer Lower Temperature</th>\n",
       "      <th>Inner Upper Temperature</th>\n",
       "      <th>Outer Upper Temperature</th>\n",
       "      <th>1st Stage Temperature</th>\n",
       "      <th>Shield Temperature</th>\n",
       "      <th>2nd Stage Temperature</th>\n",
       "      <th>Magnetism_ID</th>\n",
       "      <th>Subsection</th>\n",
       "    </tr>\n",
       "  </thead>\n",
       "  <tbody>\n",
       "    <tr>\n",
       "      <th>0</th>\n",
       "      <td>2019-02-08 15:27:38</td>\n",
       "      <td>2.805300</td>\n",
       "      <td>0.0</td>\n",
       "      <td>0.00000</td>\n",
       "      <td>0.000000</td>\n",
       "      <td>0.0</td>\n",
       "      <td>281.797970</td>\n",
       "      <td>285.092220</td>\n",
       "      <td>280.715420</td>\n",
       "      <td>283.969730</td>\n",
       "      <td>145.612170</td>\n",
       "      <td>279.920380</td>\n",
       "      <td>204.958080</td>\n",
       "      <td>./T10/20190208_SMS.txt</td>\n",
       "      <td>1323.0</td>\n",
       "    </tr>\n",
       "    <tr>\n",
       "      <th>1</th>\n",
       "      <td>2019-02-08 15:28:01</td>\n",
       "      <td>3.175539</td>\n",
       "      <td>0.0</td>\n",
       "      <td>0.00000</td>\n",
       "      <td>0.000000</td>\n",
       "      <td>0.0</td>\n",
       "      <td>281.768250</td>\n",
       "      <td>285.065830</td>\n",
       "      <td>280.686700</td>\n",
       "      <td>283.941650</td>\n",
       "      <td>145.521580</td>\n",
       "      <td>279.884580</td>\n",
       "      <td>204.900530</td>\n",
       "      <td>./T10/20190208_SMS.txt</td>\n",
       "      <td>1323.0</td>\n",
       "    </tr>\n",
       "    <tr>\n",
       "      <th>2</th>\n",
       "      <td>2019-02-08 15:28:23</td>\n",
       "      <td>3.554124</td>\n",
       "      <td>0.0</td>\n",
       "      <td>0.00000</td>\n",
       "      <td>0.000000</td>\n",
       "      <td>0.0</td>\n",
       "      <td>281.737340</td>\n",
       "      <td>285.041560</td>\n",
       "      <td>280.652340</td>\n",
       "      <td>283.915620</td>\n",
       "      <td>145.428630</td>\n",
       "      <td>279.849370</td>\n",
       "      <td>204.839600</td>\n",
       "      <td>./T10/20190208_SMS.txt</td>\n",
       "      <td>1323.0</td>\n",
       "    </tr>\n",
       "    <tr>\n",
       "      <th>3</th>\n",
       "      <td>2019-02-08 15:28:46</td>\n",
       "      <td>3.933961</td>\n",
       "      <td>0.0</td>\n",
       "      <td>0.00000</td>\n",
       "      <td>0.000000</td>\n",
       "      <td>0.0</td>\n",
       "      <td>281.704380</td>\n",
       "      <td>285.016630</td>\n",
       "      <td>280.621340</td>\n",
       "      <td>283.886870</td>\n",
       "      <td>145.337970</td>\n",
       "      <td>279.809780</td>\n",
       "      <td>204.778350</td>\n",
       "      <td>./T10/20190208_SMS.txt</td>\n",
       "      <td>1323.0</td>\n",
       "    </tr>\n",
       "    <tr>\n",
       "      <th>4</th>\n",
       "      <td>2019-02-08 15:29:09</td>\n",
       "      <td>4.314683</td>\n",
       "      <td>0.0</td>\n",
       "      <td>0.00000</td>\n",
       "      <td>0.000000</td>\n",
       "      <td>0.0</td>\n",
       "      <td>281.673600</td>\n",
       "      <td>284.987760</td>\n",
       "      <td>280.583250</td>\n",
       "      <td>283.856320</td>\n",
       "      <td>145.245560</td>\n",
       "      <td>279.771400</td>\n",
       "      <td>204.720980</td>\n",
       "      <td>./T10/20190208_SMS.txt</td>\n",
       "      <td>1323.0</td>\n",
       "    </tr>\n",
       "    <tr>\n",
       "      <th>...</th>\n",
       "      <td>...</td>\n",
       "      <td>...</td>\n",
       "      <td>...</td>\n",
       "      <td>...</td>\n",
       "      <td>...</td>\n",
       "      <td>...</td>\n",
       "      <td>...</td>\n",
       "      <td>...</td>\n",
       "      <td>...</td>\n",
       "      <td>...</td>\n",
       "      <td>...</td>\n",
       "      <td>...</td>\n",
       "      <td>...</td>\n",
       "      <td>...</td>\n",
       "      <td>...</td>\n",
       "    </tr>\n",
       "    <tr>\n",
       "      <th>2789982</th>\n",
       "      <td>2019-03-20 10:24:29</td>\n",
       "      <td>9833.386000</td>\n",
       "      <td>0.0</td>\n",
       "      <td>-0.00000</td>\n",
       "      <td>0.006867</td>\n",
       "      <td>0.0</td>\n",
       "      <td>5.073398</td>\n",
       "      <td>5.019095</td>\n",
       "      <td>4.877788</td>\n",
       "      <td>4.965012</td>\n",
       "      <td>41.333218</td>\n",
       "      <td>63.687042</td>\n",
       "      <td>3.241164</td>\n",
       "      <td>././T10/20190313_SMS.txt</td>\n",
       "      <td>NaN</td>\n",
       "    </tr>\n",
       "    <tr>\n",
       "      <th>2789983</th>\n",
       "      <td>2019-03-20 10:24:35</td>\n",
       "      <td>9833.492000</td>\n",
       "      <td>0.0</td>\n",
       "      <td>-0.00426</td>\n",
       "      <td>0.006867</td>\n",
       "      <td>0.0</td>\n",
       "      <td>5.071438</td>\n",
       "      <td>5.017297</td>\n",
       "      <td>4.876068</td>\n",
       "      <td>4.963015</td>\n",
       "      <td>41.332443</td>\n",
       "      <td>63.700310</td>\n",
       "      <td>3.242243</td>\n",
       "      <td>././T10/20190313_SMS.txt</td>\n",
       "      <td>NaN</td>\n",
       "    </tr>\n",
       "    <tr>\n",
       "      <th>2789984</th>\n",
       "      <td>2019-03-20 10:24:42</td>\n",
       "      <td>9833.604500</td>\n",
       "      <td>0.0</td>\n",
       "      <td>-0.00000</td>\n",
       "      <td>0.006867</td>\n",
       "      <td>0.0</td>\n",
       "      <td>5.069822</td>\n",
       "      <td>5.015468</td>\n",
       "      <td>4.874303</td>\n",
       "      <td>4.960119</td>\n",
       "      <td>41.331910</td>\n",
       "      <td>63.710247</td>\n",
       "      <td>3.248909</td>\n",
       "      <td>././T10/20190313_SMS.txt</td>\n",
       "      <td>NaN</td>\n",
       "    </tr>\n",
       "    <tr>\n",
       "      <th>2789985</th>\n",
       "      <td>2019-03-20 10:24:48</td>\n",
       "      <td>9833.707000</td>\n",
       "      <td>0.0</td>\n",
       "      <td>-0.00000</td>\n",
       "      <td>0.006867</td>\n",
       "      <td>0.0</td>\n",
       "      <td>5.068294</td>\n",
       "      <td>5.013746</td>\n",
       "      <td>4.872636</td>\n",
       "      <td>4.958283</td>\n",
       "      <td>41.331910</td>\n",
       "      <td>63.720780</td>\n",
       "      <td>3.325273</td>\n",
       "      <td>././T10/20190313_SMS.txt</td>\n",
       "      <td>NaN</td>\n",
       "    </tr>\n",
       "    <tr>\n",
       "      <th>2789986</th>\n",
       "      <td>2019-03-20 10:24:54</td>\n",
       "      <td>9833.812000</td>\n",
       "      <td>0.0</td>\n",
       "      <td>-0.00000</td>\n",
       "      <td>0.006867</td>\n",
       "      <td>0.0</td>\n",
       "      <td>5.067143</td>\n",
       "      <td>5.012027</td>\n",
       "      <td>4.871808</td>\n",
       "      <td>4.957342</td>\n",
       "      <td>41.332640</td>\n",
       "      <td>63.733204</td>\n",
       "      <td>3.376410</td>\n",
       "      <td>././T10/20190313_SMS.txt</td>\n",
       "      <td>NaN</td>\n",
       "    </tr>\n",
       "  </tbody>\n",
       "</table>\n",
       "<p>2789987 rows × 15 columns</p>\n",
       "</div>"
      ],
      "text/plain": [
       "                   Timestamp  Elapsed time (minutes)  Set B field (T)  \\\n",
       "0        2019-02-08 15:27:38                2.805300              0.0   \n",
       "1        2019-02-08 15:28:01                3.175539              0.0   \n",
       "2        2019-02-08 15:28:23                3.554124              0.0   \n",
       "3        2019-02-08 15:28:46                3.933961              0.0   \n",
       "4        2019-02-08 15:29:09                4.314683              0.0   \n",
       "...                      ...                     ...              ...   \n",
       "2789982  2019-03-20 10:24:29             9833.386000              0.0   \n",
       "2789983  2019-03-20 10:24:35             9833.492000              0.0   \n",
       "2789984  2019-03-20 10:24:42             9833.604500              0.0   \n",
       "2789985  2019-03-20 10:24:48             9833.707000              0.0   \n",
       "2789986  2019-03-20 10:24:54             9833.812000              0.0   \n",
       "\n",
       "         B field (T)  Ramp speed (T/min)  Voltage (V)  \\\n",
       "0            0.00000            0.000000          0.0   \n",
       "1            0.00000            0.000000          0.0   \n",
       "2            0.00000            0.000000          0.0   \n",
       "3            0.00000            0.000000          0.0   \n",
       "4            0.00000            0.000000          0.0   \n",
       "...              ...                 ...          ...   \n",
       "2789982     -0.00000            0.006867          0.0   \n",
       "2789983     -0.00426            0.006867          0.0   \n",
       "2789984     -0.00000            0.006867          0.0   \n",
       "2789985     -0.00000            0.006867          0.0   \n",
       "2789986     -0.00000            0.006867          0.0   \n",
       "\n",
       "         Inner Lower Temperature  Outer Lower Temperature  \\\n",
       "0                     281.797970               285.092220   \n",
       "1                     281.768250               285.065830   \n",
       "2                     281.737340               285.041560   \n",
       "3                     281.704380               285.016630   \n",
       "4                     281.673600               284.987760   \n",
       "...                          ...                      ...   \n",
       "2789982                 5.073398                 5.019095   \n",
       "2789983                 5.071438                 5.017297   \n",
       "2789984                 5.069822                 5.015468   \n",
       "2789985                 5.068294                 5.013746   \n",
       "2789986                 5.067143                 5.012027   \n",
       "\n",
       "         Inner Upper Temperature  Outer Upper Temperature  \\\n",
       "0                     280.715420               283.969730   \n",
       "1                     280.686700               283.941650   \n",
       "2                     280.652340               283.915620   \n",
       "3                     280.621340               283.886870   \n",
       "4                     280.583250               283.856320   \n",
       "...                          ...                      ...   \n",
       "2789982                 4.877788                 4.965012   \n",
       "2789983                 4.876068                 4.963015   \n",
       "2789984                 4.874303                 4.960119   \n",
       "2789985                 4.872636                 4.958283   \n",
       "2789986                 4.871808                 4.957342   \n",
       "\n",
       "         1st Stage Temperature  Shield Temperature  2nd Stage Temperature  \\\n",
       "0                   145.612170          279.920380             204.958080   \n",
       "1                   145.521580          279.884580             204.900530   \n",
       "2                   145.428630          279.849370             204.839600   \n",
       "3                   145.337970          279.809780             204.778350   \n",
       "4                   145.245560          279.771400             204.720980   \n",
       "...                        ...                 ...                    ...   \n",
       "2789982              41.333218           63.687042               3.241164   \n",
       "2789983              41.332443           63.700310               3.242243   \n",
       "2789984              41.331910           63.710247               3.248909   \n",
       "2789985              41.331910           63.720780               3.325273   \n",
       "2789986              41.332640           63.733204               3.376410   \n",
       "\n",
       "                     Magnetism_ID  Subsection  \n",
       "0          ./T10/20190208_SMS.txt      1323.0  \n",
       "1          ./T10/20190208_SMS.txt      1323.0  \n",
       "2          ./T10/20190208_SMS.txt      1323.0  \n",
       "3          ./T10/20190208_SMS.txt      1323.0  \n",
       "4          ./T10/20190208_SMS.txt      1323.0  \n",
       "...                           ...         ...  \n",
       "2789982  ././T10/20190313_SMS.txt         NaN  \n",
       "2789983  ././T10/20190313_SMS.txt         NaN  \n",
       "2789984  ././T10/20190313_SMS.txt         NaN  \n",
       "2789985  ././T10/20190313_SMS.txt         NaN  \n",
       "2789986  ././T10/20190313_SMS.txt         NaN  \n",
       "\n",
       "[2789987 rows x 15 columns]"
      ]
     },
     "execution_count": 45,
     "metadata": {},
     "output_type": "execute_result"
    }
   ],
   "source": [
    "import pandas as pd\n",
    "\n",
    "df = pd.read_csv(\"magnetism_split.csv\")\n",
    "df"
   ]
  },
  {
   "cell_type": "code",
   "execution_count": 46,
   "id": "f0433077-efa7-4a8f-a539-d5aff712c255",
   "metadata": {
    "tags": []
   },
   "outputs": [],
   "source": [
    "float64_cols = list(df.select_dtypes(include='float64'))\n",
    "df[float64_cols] = df[float64_cols].astype('float32')"
   ]
  },
  {
   "cell_type": "code",
   "execution_count": 3,
   "id": "31da903a-5788-4a8b-b409-705b77b3a303",
   "metadata": {
    "tags": []
   },
   "outputs": [],
   "source": [
    "# df.iloc[:,3].values.dtype"
   ]
  },
  {
   "cell_type": "code",
   "execution_count": 4,
   "id": "06c4efde-177d-4543-973e-910b9ef6fb0a",
   "metadata": {},
   "outputs": [
    {
     "name": "stderr",
     "output_type": "stream",
     "text": [
      "\n",
      "KeyboardInterrupt\n",
      "\n"
     ]
    }
   ],
   "source": [
    "import pandas as pd\n",
    "from darts import TimeSeries\n",
    "\n",
    "# Assuming 'your_dataset.csv' is a string containing the dataset\n",
    "\n",
    "# df = pd.read_csv(pd.compat.StringIO('your_dataset.csv'))\n",
    "\n",
    "# Convert the 'Timestamp' column to datetime type\n",
    "df['Timestamp'] = pd.to_datetime(df['Timestamp'])\n",
    "\n",
    "time_series_list = []\n",
    "for ccr_id, group in df.groupby('Subsection'):\n",
    "    # Sort the group by 'Timestamp' if not already sorted\n",
    "    group.sort_values('Timestamp', inplace=True)\n",
    "    \n",
    "    # Set the 'Timestamp' column as the index\n",
    "    group.set_index('Timestamp', inplace=True)\n",
    "    \n",
    "    # Exclude the 'CCR_ID' column from numeric conversion and resampling\n",
    "    value_cols = ['Elapsed time (minutes)', 'Set B field (T)', 'B field (T)', 'Ramp speed (T/min)', 'Voltage (V)', 'Inner Lower Temperature', 'Outer Lower Temperature', 'Inner Upper Temperature', 'Outer Upper Temperature', '1st Stage Temperature', 'Shield Temperature', '2nd Stage Temperature', ]\n",
    "    # value_cols = ['Elapsed time (minutes)','Setpoint (K)','Sensor A (K)','Sensor B (K)', 'Heater Output % (0-100)', 'Heater Range (integer 0-5)', 'Slope','Intercept','Sensor C (K) or sensor A (sensor unit)','Sensor D (K) or sensor B (sensor unit)']\n",
    "    \n",
    "    # Convert the numeric columns to numeric format, handling non-numeric values as NaN\n",
    "    for col in value_cols:\n",
    "        group[col] = pd.to_numeric(group[col], errors='coerce')\n",
    "    \n",
    "    # Select only numeric columns for resampling\n",
    "    numeric_cols = group.select_dtypes(include='number').columns\n",
    "    \n",
    "    # Resample the numeric columns to a fixed frequency\n",
    "    group_resampled = group[numeric_cols].resample('1S').mean()  # Adjust '5S' to the desired frequency\n",
    "    \n",
    "    # Handle missing values if necessary\n",
    "    group_resampled = group_resampled.fillna(method='ffill')  # Forward fill missing values, or choose another appropriate method\n",
    "    \n",
    "    # Convert the resampled DataFrame to a Darts TimeSeries object\n",
    "    time_series = TimeSeries.from_dataframe(group_resampled, value_cols=value_cols)\n",
    "    \n",
    "    time_series_list.append(time_series)\n"
   ]
  },
  {
   "cell_type": "code",
   "execution_count": 50,
   "id": "b45bed08-ac04-4143-acf4-05a188f7f4f4",
   "metadata": {
    "tags": []
   },
   "outputs": [
    {
     "name": "stdout",
     "output_type": "stream",
     "text": [
      "/storage/rwp2/Pipeline/Dask\n"
     ]
    }
   ],
   "source": [
    "!pwd"
   ]
  },
  {
   "cell_type": "code",
   "execution_count": 52,
   "id": "98d6eb51-0faf-4794-9aa9-f1009c9ff768",
   "metadata": {
    "tags": []
   },
   "outputs": [
    {
     "name": "stdout",
     "output_type": "stream",
     "text": [
      "/storage/rwp2/Pipeline/Dask/Best\n"
     ]
    }
   ],
   "source": [
    "cd Best"
   ]
  },
  {
   "cell_type": "code",
   "execution_count": null,
   "id": "895525ed-f4c8-4490-82c8-d3390e3e65ae",
   "metadata": {
    "tags": []
   },
   "outputs": [],
   "source": [
    "len(time_series_list[0])"
   ]
  },
  {
   "cell_type": "code",
   "execution_count": 2,
   "id": "afa2c36d-e4ab-41b6-b5fe-f1ce5a5ddc8a",
   "metadata": {
    "tags": []
   },
   "outputs": [],
   "source": [
    "import pickle"
   ]
  },
  {
   "cell_type": "code",
   "execution_count": null,
   "id": "d4c00dc4-f8b9-4d1a-afb3-b109186d2dcb",
   "metadata": {
    "tags": []
   },
   "outputs": [],
   "source": [
    "with open('timeseries_split_1S','wb') as f: pickle.dump(time_series_list, f)"
   ]
  },
  {
   "cell_type": "code",
   "execution_count": 3,
   "id": "1e92f779-fcf7-41a1-a571-8de452dc28c0",
   "metadata": {
    "tags": []
   },
   "outputs": [],
   "source": [
    "with open('timeseries','rb') as f: time_series_loaded = pickle.load(f)"
   ]
  },
  {
   "cell_type": "code",
   "execution_count": 71,
   "id": "9e7aa49b-d864-444d-b90d-4b35c68fa006",
   "metadata": {
    "tags": []
   },
   "outputs": [],
   "source": [
    "# print(time_series_loaded == time_series_list)"
   ]
  },
  {
   "cell_type": "code",
   "execution_count": 72,
   "id": "838bf62e-b881-43cb-9af0-a30c88dcc8a9",
   "metadata": {
    "tags": []
   },
   "outputs": [],
   "source": [
    "# print(len(time_series_list[0]))"
   ]
  },
  {
   "cell_type": "code",
   "execution_count": 4,
   "id": "dd8bf198-502f-4382-b750-2bba47316dc9",
   "metadata": {
    "tags": []
   },
   "outputs": [],
   "source": [
    "time_series_list = time_series_loaded"
   ]
  },
  {
   "cell_type": "code",
   "execution_count": 5,
   "id": "4a51b977-e82f-47b3-9848-6820be02046c",
   "metadata": {
    "tags": []
   },
   "outputs": [
    {
     "name": "stderr",
     "output_type": "stream",
     "text": [
      "2023-08-04 09:57:35 darts.models WARNING: The statsforecast module could not be imported. To enable support for the StatsForecastAutoARIMA, StatsForecastAutoETS and Croston models, please consider installing it.\n"
     ]
    }
   ],
   "source": [
    "# fix python path if working locally\n",
    "import pandas as pd\n",
    "import numpy as np\n",
    "import torch\n",
    "import matplotlib.pyplot as plt\n",
    "\n",
    "from darts import TimeSeries\n",
    "from darts.utils.timeseries_generation import (\n",
    "    gaussian_timeseries,\n",
    "    linear_timeseries,\n",
    "    sine_timeseries,\n",
    ")\n",
    "from darts.models import (\n",
    "    RNNModel,\n",
    "    TCNModel,\n",
    "    TransformerModel,\n",
    "    NBEATSModel,\n",
    "    BlockRNNModel,\n",
    "    VARIMA,\n",
    ")\n",
    "from darts.metrics import mape, smape, mae\n",
    "from darts.dataprocessing.transformers import Scaler\n",
    "from darts.utils.timeseries_generation import datetime_attribute_timeseries\n",
    "from darts.datasets import AirPassengersDataset, MonthlyMilkDataset, ElectricityDataset\n",
    "\n",
    "import logging\n",
    "\n",
    "logging.disable(logging.CRITICAL)\n",
    "\n",
    "import warnings\n",
    "\n",
    "warnings.filterwarnings(\"ignore\")\n",
    "\n",
    "%matplotlib inline\n",
    "\n",
    "# for reproducibility\n",
    "torch.manual_seed(1)\n",
    "np.random.seed(1)"
   ]
  },
  {
   "cell_type": "code",
   "execution_count": 6,
   "id": "c8cf2cb8-6836-4829-af72-22f3be89c828",
   "metadata": {
    "tags": []
   },
   "outputs": [],
   "source": [
    "time_series_list_scaled = []\n",
    "\n",
    "for time_series in time_series_list:\n",
    "    scaler = Scaler()\n",
    "    time_series_list_scaled.append(scaler.fit_transform(time_series))"
   ]
  },
  {
   "cell_type": "code",
   "execution_count": 7,
   "id": "36634d15-1023-48de-a9bf-0f1d5ae7b642",
   "metadata": {
    "tags": []
   },
   "outputs": [
    {
     "name": "stdout",
     "output_type": "stream",
     "text": [
      "Index(['Normalized Elapsed time (minutes)', 'Normalized Set B field (T)',\n",
      "       'Normalized B field (T)', 'Normalized Ramp speed (T/min)',\n",
      "       'Normalized Voltage (V)', 'Normalized Inner Lower Temperature',\n",
      "       'Normalized Outer Lower Temperature',\n",
      "       'Normalized Inner Upper Temperature',\n",
      "       'Normalized Outer Upper Temperature',\n",
      "       'Normalized 1st Stage Temperature', 'Normalized Shield Temperature',\n",
      "       'Normalized 2nd Stage Temperature'],\n",
      "      dtype='object', name='component')\n"
     ]
    }
   ],
   "source": [
    "# print(time_series_list_scaled[0].columns)\n",
    "from darts import TimeSeries\n",
    "temp = []\n",
    "# Assuming you have a Darts TimeSeries object named 'ts'\n",
    "\n",
    "# Convert the TimeSeries to a pandas DataFrame\n",
    "for ts in time_series_list_scaled:\n",
    "    df = ts.pd_dataframe()\n",
    "\n",
    "    # Rename the columns in the pandas DataFrame\n",
    "    new_column_names = ['Normalized Elapsed time (minutes)', 'Normalized Set B field (T)', 'Normalized B field (T)',\n",
    "       'Normalized Ramp speed (T/min)', 'Normalized Voltage (V)', 'Normalized Inner Lower Temperature',\n",
    "       'Normalized Outer Lower Temperature', 'Normalized Inner Upper Temperature',\n",
    "       'Normalized Outer Upper Temperature', 'Normalized 1st Stage Temperature',\n",
    "       'Normalized Shield Temperature', 'Normalized 2nd Stage Temperature']  # Replace with the new column names you want\n",
    "    df.columns = new_column_names\n",
    "\n",
    "    # Convert the modified pandas DataFrame back to a Darts TimeSeries\n",
    "    temp.append(TimeSeries.from_dataframe(df))\n",
    "time_series_list_scaled = temp\n",
    "print(time_series_list_scaled[0].columns)"
   ]
  },
  {
   "cell_type": "code",
   "execution_count": 8,
   "id": "af4e0a97-5477-463a-97a4-bfdb378bff0a",
   "metadata": {
    "tags": []
   },
   "outputs": [],
   "source": [
    "from darts import TimeSeries\n",
    "\n",
    "covariates = []\n",
    "for i in range(len(time_series_list)):\n",
    "    ts_df = (time_series_list[i]).pd_dataframe()\n",
    "    columns_to_keep = ['Set B field (T)', 'Elapsed time (minutes)', 'Ramp speed (T/min)', 'Inner Lower Temperature', \n",
    "                       'Outer Lower Temperature', 'Inner Upper Temperature',\n",
    "                       'Outer Upper Temperature', '1st Stage Temperature',\n",
    "                       'Shield Temperature', '2nd Stage Temperature']\n",
    "    covariate_ts_df = ts_df[columns_to_keep]\n",
    "    covariates.append(TimeSeries.from_dataframe(covariate_ts_df))\n"
   ]
  },
  {
   "cell_type": "code",
   "execution_count": 9,
   "id": "ae3c3109-a1d4-4642-821a-d9960e5d639d",
   "metadata": {
    "tags": []
   },
   "outputs": [
    {
     "name": "stdout",
     "output_type": "stream",
     "text": [
      "Index(['Set B field (T)', 'Elapsed time (minutes)', 'Ramp speed (T/min)',\n",
      "       'Inner Lower Temperature', 'Outer Lower Temperature',\n",
      "       'Inner Upper Temperature', 'Outer Upper Temperature',\n",
      "       '1st Stage Temperature', 'Shield Temperature', '2nd Stage Temperature',\n",
      "       'Normalized Elapsed time (minutes)', 'Normalized Set B field (T)',\n",
      "       'Normalized B field (T)', 'Normalized Ramp speed (T/min)',\n",
      "       'Normalized Voltage (V)', 'Normalized Inner Lower Temperature',\n",
      "       'Normalized Outer Lower Temperature',\n",
      "       'Normalized Inner Upper Temperature',\n",
      "       'Normalized Outer Upper Temperature',\n",
      "       'Normalized 1st Stage Temperature', 'Normalized Shield Temperature',\n",
      "       'Normalized 2nd Stage Temperature'],\n",
      "      dtype='object', name='component')\n"
     ]
    }
   ],
   "source": [
    "updated_covariates = []\n",
    "for i in range(len(covariates)):\n",
    "    df = covariates[i].pd_dataframe()\n",
    "    # for time_series in time_series_list_scaled:\n",
    "    temp = time_series_list_scaled[i].pd_dataframe()\n",
    "    for col in temp.columns:\n",
    "        df[col] = temp[col]\n",
    "    updated_covariates.append(TimeSeries.from_dataframe(df))\n",
    "    \n",
    "print(updated_covariates[0].columns)\n",
    "covariates = updated_covariates"
   ]
  },
  {
   "cell_type": "code",
   "execution_count": 10,
   "id": "fa7b3981-e744-401d-a41c-33f5fd36ecfd",
   "metadata": {
    "tags": []
   },
   "outputs": [
    {
     "name": "stdout",
     "output_type": "stream",
     "text": [
      "10\n"
     ]
    }
   ],
   "source": [
    "from darts import TimeSeries\n",
    "\n",
    "# ts_df = ts.pd_dataframe()\n",
    "time_final = []\n",
    "for i in range(len(time_series_list)):\n",
    "    ts_df = (time_series_list[i]).pd_dataframe()\n",
    "    columns_to_keep = ['B field (T)', 'Voltage (V)', 'Ramp speed (T/min)', 'Inner Lower Temperature', \n",
    "            'Outer Lower Temperature', 'Inner Upper Temperature',\n",
    "            'Outer Upper Temperature', '1st Stage Temperature',\n",
    "            'Shield Temperature', '2nd Stage Temperature']    \n",
    "    covariate_ts_df = ts_df[columns_to_keep]\n",
    "    time_final.append(TimeSeries.from_dataframe(covariate_ts_df))\n",
    "    \n",
    "print(len(time_final[0].columns))\n",
    "# time_final = time_series_list"
   ]
  },
  {
   "cell_type": "code",
   "execution_count": 11,
   "id": "726c4ffe-355a-4955-a4a0-17e2805f5776",
   "metadata": {
    "tags": []
   },
   "outputs": [],
   "source": [
    "# load data\n",
    "train, val = [], []\n",
    "VAL_LEN = 300\n",
    "temp1, temp2 = [], []\n",
    "\n",
    "for i in range(len(time_final)):\n",
    "    series = time_final[i]\n",
    "    train.append(series[:-VAL_LEN])\n",
    "    val.append(series[-VAL_LEN:])\n",
    "    temp1.append(covariates[i][-VAL_LEN:])\n",
    "    temp2.append(covariates[i][:-VAL_LEN])\n",
    "\n",
    "# for time_series in time_final:\n",
    "#     series = time_series.astype(np.float32)\n",
    "#     train.append(series[:-VAL_LEN])\n",
    "#     val.append(series[-VAL_LEN:])\n",
    "    \n",
    "    \n",
    "# for time_series in covariates:\n",
    "#     series = time_series.astype(np.float32)\n",
    "#     temp.append(series[:-VAL_LEN])\n",
    "val_past_covariates_past = temp1\n",
    "covariates = temp2\n",
    "\n",
    "# split in train / validation (note: in practice we would also need a test set)\n",
    "# train, val = \n"
   ]
  },
  {
   "cell_type": "code",
   "execution_count": 64,
   "id": "980a4155-96a9-4d84-8848-32198807cbdd",
   "metadata": {
    "tags": []
   },
   "outputs": [
    {
     "data": {
      "text/plain": [
       "dtype('float32')"
      ]
     },
     "execution_count": 64,
     "metadata": {},
     "output_type": "execute_result"
    }
   ],
   "source": [
    "train[1].dtype"
   ]
  },
  {
   "cell_type": "code",
   "execution_count": 65,
   "id": "2f017391-a6c5-4bd6-bba8-2f4498cbfb8e",
   "metadata": {
    "tags": []
   },
   "outputs": [
    {
     "name": "stdout",
     "output_type": "stream",
     "text": [
      "14290\n",
      "9534\n"
     ]
    }
   ],
   "source": [
    "print(len(train[0]))\n",
    "print(len(covariates[1]))"
   ]
  },
  {
   "cell_type": "code",
   "execution_count": 66,
   "id": "58747933-dc37-47ee-87c0-922cffc43c2d",
   "metadata": {
    "tags": []
   },
   "outputs": [
    {
     "data": {
      "text/html": [
       "<div><svg style=\"position: absolute; width: 0; height: 0; overflow: hidden\">\n",
       "<defs>\n",
       "<symbol id=\"icon-database\" viewBox=\"0 0 32 32\">\n",
       "<path d=\"M16 0c-8.837 0-16 2.239-16 5v4c0 2.761 7.163 5 16 5s16-2.239 16-5v-4c0-2.761-7.163-5-16-5z\"></path>\n",
       "<path d=\"M16 17c-8.837 0-16-2.239-16-5v6c0 2.761 7.163 5 16 5s16-2.239 16-5v-6c0 2.761-7.163 5-16 5z\"></path>\n",
       "<path d=\"M16 26c-8.837 0-16-2.239-16-5v6c0 2.761 7.163 5 16 5s16-2.239 16-5v-6c0 2.761-7.163 5-16 5z\"></path>\n",
       "</symbol>\n",
       "<symbol id=\"icon-file-text2\" viewBox=\"0 0 32 32\">\n",
       "<path d=\"M28.681 7.159c-0.694-0.947-1.662-2.053-2.724-3.116s-2.169-2.030-3.116-2.724c-1.612-1.182-2.393-1.319-2.841-1.319h-15.5c-1.378 0-2.5 1.121-2.5 2.5v27c0 1.378 1.122 2.5 2.5 2.5h23c1.378 0 2.5-1.122 2.5-2.5v-19.5c0-0.448-0.137-1.23-1.319-2.841zM24.543 5.457c0.959 0.959 1.712 1.825 2.268 2.543h-4.811v-4.811c0.718 0.556 1.584 1.309 2.543 2.268zM28 29.5c0 0.271-0.229 0.5-0.5 0.5h-23c-0.271 0-0.5-0.229-0.5-0.5v-27c0-0.271 0.229-0.5 0.5-0.5 0 0 15.499-0 15.5 0v7c0 0.552 0.448 1 1 1h7v19.5z\"></path>\n",
       "<path d=\"M23 26h-14c-0.552 0-1-0.448-1-1s0.448-1 1-1h14c0.552 0 1 0.448 1 1s-0.448 1-1 1z\"></path>\n",
       "<path d=\"M23 22h-14c-0.552 0-1-0.448-1-1s0.448-1 1-1h14c0.552 0 1 0.448 1 1s-0.448 1-1 1z\"></path>\n",
       "<path d=\"M23 18h-14c-0.552 0-1-0.448-1-1s0.448-1 1-1h14c0.552 0 1 0.448 1 1s-0.448 1-1 1z\"></path>\n",
       "</symbol>\n",
       "</defs>\n",
       "</svg>\n",
       "<style>/* CSS stylesheet for displaying xarray objects in jupyterlab.\n",
       " *\n",
       " */\n",
       "\n",
       ":root {\n",
       "  --xr-font-color0: var(--jp-content-font-color0, rgba(0, 0, 0, 1));\n",
       "  --xr-font-color2: var(--jp-content-font-color2, rgba(0, 0, 0, 0.54));\n",
       "  --xr-font-color3: var(--jp-content-font-color3, rgba(0, 0, 0, 0.38));\n",
       "  --xr-border-color: var(--jp-border-color2, #e0e0e0);\n",
       "  --xr-disabled-color: var(--jp-layout-color3, #bdbdbd);\n",
       "  --xr-background-color: var(--jp-layout-color0, white);\n",
       "  --xr-background-color-row-even: var(--jp-layout-color1, white);\n",
       "  --xr-background-color-row-odd: var(--jp-layout-color2, #eeeeee);\n",
       "}\n",
       "\n",
       "html[theme=dark],\n",
       "body.vscode-dark {\n",
       "  --xr-font-color0: rgba(255, 255, 255, 1);\n",
       "  --xr-font-color2: rgba(255, 255, 255, 0.54);\n",
       "  --xr-font-color3: rgba(255, 255, 255, 0.38);\n",
       "  --xr-border-color: #1F1F1F;\n",
       "  --xr-disabled-color: #515151;\n",
       "  --xr-background-color: #111111;\n",
       "  --xr-background-color-row-even: #111111;\n",
       "  --xr-background-color-row-odd: #313131;\n",
       "}\n",
       "\n",
       ".xr-wrap {\n",
       "  display: block;\n",
       "  min-width: 300px;\n",
       "  max-width: 700px;\n",
       "}\n",
       "\n",
       ".xr-text-repr-fallback {\n",
       "  /* fallback to plain text repr when CSS is not injected (untrusted notebook) */\n",
       "  display: none;\n",
       "}\n",
       "\n",
       ".xr-header {\n",
       "  padding-top: 6px;\n",
       "  padding-bottom: 6px;\n",
       "  margin-bottom: 4px;\n",
       "  border-bottom: solid 1px var(--xr-border-color);\n",
       "}\n",
       "\n",
       ".xr-header > div,\n",
       ".xr-header > ul {\n",
       "  display: inline;\n",
       "  margin-top: 0;\n",
       "  margin-bottom: 0;\n",
       "}\n",
       "\n",
       ".xr-obj-type,\n",
       ".xr-array-name {\n",
       "  margin-left: 2px;\n",
       "  margin-right: 10px;\n",
       "}\n",
       "\n",
       ".xr-obj-type {\n",
       "  color: var(--xr-font-color2);\n",
       "}\n",
       "\n",
       ".xr-sections {\n",
       "  padding-left: 0 !important;\n",
       "  display: grid;\n",
       "  grid-template-columns: 150px auto auto 1fr 20px 20px;\n",
       "}\n",
       "\n",
       ".xr-section-item {\n",
       "  display: contents;\n",
       "}\n",
       "\n",
       ".xr-section-item input {\n",
       "  display: none;\n",
       "}\n",
       "\n",
       ".xr-section-item input + label {\n",
       "  color: var(--xr-disabled-color);\n",
       "}\n",
       "\n",
       ".xr-section-item input:enabled + label {\n",
       "  cursor: pointer;\n",
       "  color: var(--xr-font-color2);\n",
       "}\n",
       "\n",
       ".xr-section-item input:enabled + label:hover {\n",
       "  color: var(--xr-font-color0);\n",
       "}\n",
       "\n",
       ".xr-section-summary {\n",
       "  grid-column: 1;\n",
       "  color: var(--xr-font-color2);\n",
       "  font-weight: 500;\n",
       "}\n",
       "\n",
       ".xr-section-summary > span {\n",
       "  display: inline-block;\n",
       "  padding-left: 0.5em;\n",
       "}\n",
       "\n",
       ".xr-section-summary-in:disabled + label {\n",
       "  color: var(--xr-font-color2);\n",
       "}\n",
       "\n",
       ".xr-section-summary-in + label:before {\n",
       "  display: inline-block;\n",
       "  content: '►';\n",
       "  font-size: 11px;\n",
       "  width: 15px;\n",
       "  text-align: center;\n",
       "}\n",
       "\n",
       ".xr-section-summary-in:disabled + label:before {\n",
       "  color: var(--xr-disabled-color);\n",
       "}\n",
       "\n",
       ".xr-section-summary-in:checked + label:before {\n",
       "  content: '▼';\n",
       "}\n",
       "\n",
       ".xr-section-summary-in:checked + label > span {\n",
       "  display: none;\n",
       "}\n",
       "\n",
       ".xr-section-summary,\n",
       ".xr-section-inline-details {\n",
       "  padding-top: 4px;\n",
       "  padding-bottom: 4px;\n",
       "}\n",
       "\n",
       ".xr-section-inline-details {\n",
       "  grid-column: 2 / -1;\n",
       "}\n",
       "\n",
       ".xr-section-details {\n",
       "  display: none;\n",
       "  grid-column: 1 / -1;\n",
       "  margin-bottom: 5px;\n",
       "}\n",
       "\n",
       ".xr-section-summary-in:checked ~ .xr-section-details {\n",
       "  display: contents;\n",
       "}\n",
       "\n",
       ".xr-array-wrap {\n",
       "  grid-column: 1 / -1;\n",
       "  display: grid;\n",
       "  grid-template-columns: 20px auto;\n",
       "}\n",
       "\n",
       ".xr-array-wrap > label {\n",
       "  grid-column: 1;\n",
       "  vertical-align: top;\n",
       "}\n",
       "\n",
       ".xr-preview {\n",
       "  color: var(--xr-font-color3);\n",
       "}\n",
       "\n",
       ".xr-array-preview,\n",
       ".xr-array-data {\n",
       "  padding: 0 5px !important;\n",
       "  grid-column: 2;\n",
       "}\n",
       "\n",
       ".xr-array-data,\n",
       ".xr-array-in:checked ~ .xr-array-preview {\n",
       "  display: none;\n",
       "}\n",
       "\n",
       ".xr-array-in:checked ~ .xr-array-data,\n",
       ".xr-array-preview {\n",
       "  display: inline-block;\n",
       "}\n",
       "\n",
       ".xr-dim-list {\n",
       "  display: inline-block !important;\n",
       "  list-style: none;\n",
       "  padding: 0 !important;\n",
       "  margin: 0;\n",
       "}\n",
       "\n",
       ".xr-dim-list li {\n",
       "  display: inline-block;\n",
       "  padding: 0;\n",
       "  margin: 0;\n",
       "}\n",
       "\n",
       ".xr-dim-list:before {\n",
       "  content: '(';\n",
       "}\n",
       "\n",
       ".xr-dim-list:after {\n",
       "  content: ')';\n",
       "}\n",
       "\n",
       ".xr-dim-list li:not(:last-child):after {\n",
       "  content: ',';\n",
       "  padding-right: 5px;\n",
       "}\n",
       "\n",
       ".xr-has-index {\n",
       "  font-weight: bold;\n",
       "}\n",
       "\n",
       ".xr-var-list,\n",
       ".xr-var-item {\n",
       "  display: contents;\n",
       "}\n",
       "\n",
       ".xr-var-item > div,\n",
       ".xr-var-item label,\n",
       ".xr-var-item > .xr-var-name span {\n",
       "  background-color: var(--xr-background-color-row-even);\n",
       "  margin-bottom: 0;\n",
       "}\n",
       "\n",
       ".xr-var-item > .xr-var-name:hover span {\n",
       "  padding-right: 5px;\n",
       "}\n",
       "\n",
       ".xr-var-list > li:nth-child(odd) > div,\n",
       ".xr-var-list > li:nth-child(odd) > label,\n",
       ".xr-var-list > li:nth-child(odd) > .xr-var-name span {\n",
       "  background-color: var(--xr-background-color-row-odd);\n",
       "}\n",
       "\n",
       ".xr-var-name {\n",
       "  grid-column: 1;\n",
       "}\n",
       "\n",
       ".xr-var-dims {\n",
       "  grid-column: 2;\n",
       "}\n",
       "\n",
       ".xr-var-dtype {\n",
       "  grid-column: 3;\n",
       "  text-align: right;\n",
       "  color: var(--xr-font-color2);\n",
       "}\n",
       "\n",
       ".xr-var-preview {\n",
       "  grid-column: 4;\n",
       "}\n",
       "\n",
       ".xr-var-name,\n",
       ".xr-var-dims,\n",
       ".xr-var-dtype,\n",
       ".xr-preview,\n",
       ".xr-attrs dt {\n",
       "  white-space: nowrap;\n",
       "  overflow: hidden;\n",
       "  text-overflow: ellipsis;\n",
       "  padding-right: 10px;\n",
       "}\n",
       "\n",
       ".xr-var-name:hover,\n",
       ".xr-var-dims:hover,\n",
       ".xr-var-dtype:hover,\n",
       ".xr-attrs dt:hover {\n",
       "  overflow: visible;\n",
       "  width: auto;\n",
       "  z-index: 1;\n",
       "}\n",
       "\n",
       ".xr-var-attrs,\n",
       ".xr-var-data {\n",
       "  display: none;\n",
       "  background-color: var(--xr-background-color) !important;\n",
       "  padding-bottom: 5px !important;\n",
       "}\n",
       "\n",
       ".xr-var-attrs-in:checked ~ .xr-var-attrs,\n",
       ".xr-var-data-in:checked ~ .xr-var-data {\n",
       "  display: block;\n",
       "}\n",
       "\n",
       ".xr-var-data > table {\n",
       "  float: right;\n",
       "}\n",
       "\n",
       ".xr-var-name span,\n",
       ".xr-var-data,\n",
       ".xr-attrs {\n",
       "  padding-left: 25px !important;\n",
       "}\n",
       "\n",
       ".xr-attrs,\n",
       ".xr-var-attrs,\n",
       ".xr-var-data {\n",
       "  grid-column: 1 / -1;\n",
       "}\n",
       "\n",
       "dl.xr-attrs {\n",
       "  padding: 0;\n",
       "  margin: 0;\n",
       "  display: grid;\n",
       "  grid-template-columns: 125px auto;\n",
       "}\n",
       "\n",
       ".xr-attrs dt,\n",
       ".xr-attrs dd {\n",
       "  padding: 0;\n",
       "  margin: 0;\n",
       "  float: left;\n",
       "  padding-right: 10px;\n",
       "  width: auto;\n",
       "}\n",
       "\n",
       ".xr-attrs dt {\n",
       "  font-weight: normal;\n",
       "  grid-column: 1;\n",
       "}\n",
       "\n",
       ".xr-attrs dt:hover span {\n",
       "  display: inline-block;\n",
       "  background: var(--xr-background-color);\n",
       "  padding-right: 10px;\n",
       "}\n",
       "\n",
       ".xr-attrs dd {\n",
       "  grid-column: 2;\n",
       "  white-space: pre-wrap;\n",
       "  word-break: break-all;\n",
       "}\n",
       "\n",
       ".xr-icon-database,\n",
       ".xr-icon-file-text2 {\n",
       "  display: inline-block;\n",
       "  vertical-align: middle;\n",
       "  width: 1em;\n",
       "  height: 1.5em !important;\n",
       "  stroke-width: 0;\n",
       "  stroke: currentColor;\n",
       "  fill: currentColor;\n",
       "}\n",
       "</style><pre class='xr-text-repr-fallback'>&lt;TimeSeries (DataArray) (Timestamp: 14290, component: 2, sample: 1)&gt;\n",
       "array([[[ 0.0029275 ],\n",
       "        [-0.025     ]],\n",
       "\n",
       "       [[ 0.00264   ],\n",
       "        [ 0.        ]],\n",
       "\n",
       "       [[ 0.00362778],\n",
       "        [-0.01111111]],\n",
       "\n",
       "       ...,\n",
       "\n",
       "       [[ 0.        ],\n",
       "        [ 0.        ]],\n",
       "\n",
       "       [[ 0.        ],\n",
       "        [ 0.        ]],\n",
       "\n",
       "       [[ 0.        ],\n",
       "        [ 0.        ]]], dtype=float32)\n",
       "Coordinates:\n",
       "  * Timestamp  (Timestamp) datetime64[ns] 2019-02-19T12:55:00 ... 2019-03-01T...\n",
       "  * component  (component) object &#x27;B field (T)&#x27; &#x27;Voltage (V)&#x27;\n",
       "Dimensions without coordinates: sample\n",
       "Attributes:\n",
       "    static_covariates:  None\n",
       "    hierarchy:          None</pre><div class='xr-wrap' hidden><div class='xr-header'><div class='xr-obj-type'>TimeSeries (DataArray)</div><div class='xr-array-name'></div><ul class='xr-dim-list'><li><span class='xr-has-index'>Timestamp</span>: 14290</li><li><span class='xr-has-index'>component</span>: 2</li><li><span>sample</span>: 1</li></ul></div><ul class='xr-sections'><li class='xr-section-item'><div class='xr-array-wrap'><input id='section-03ab79ea-945e-4220-bd7f-32f5f458ec72' class='xr-array-in' type='checkbox' checked><label for='section-03ab79ea-945e-4220-bd7f-32f5f458ec72' title='Show/hide data repr'><svg class='icon xr-icon-database'><use xlink:href='#icon-database'></use></svg></label><div class='xr-array-preview xr-preview'><span>0.002927 -0.025 0.00264 0.0 0.003628 -0.01111 ... 0.0 0.0 0.0 0.0 0.0</span></div><div class='xr-array-data'><pre>array([[[ 0.0029275 ],\n",
       "        [-0.025     ]],\n",
       "\n",
       "       [[ 0.00264   ],\n",
       "        [ 0.        ]],\n",
       "\n",
       "       [[ 0.00362778],\n",
       "        [-0.01111111]],\n",
       "\n",
       "       ...,\n",
       "\n",
       "       [[ 0.        ],\n",
       "        [ 0.        ]],\n",
       "\n",
       "       [[ 0.        ],\n",
       "        [ 0.        ]],\n",
       "\n",
       "       [[ 0.        ],\n",
       "        [ 0.        ]]], dtype=float32)</pre></div></div></li><li class='xr-section-item'><input id='section-f081c568-b47f-4e18-b07e-142dd1e661f9' class='xr-section-summary-in' type='checkbox'  checked><label for='section-f081c568-b47f-4e18-b07e-142dd1e661f9' class='xr-section-summary' >Coordinates: <span>(2)</span></label><div class='xr-section-inline-details'></div><div class='xr-section-details'><ul class='xr-var-list'><li class='xr-var-item'><div class='xr-var-name'><span class='xr-has-index'>Timestamp</span></div><div class='xr-var-dims'>(Timestamp)</div><div class='xr-var-dtype'>datetime64[ns]</div><div class='xr-var-preview xr-preview'>2019-02-19T12:55:00 ... 2019-03-...</div><input id='attrs-9336d89b-275a-41e5-bc09-1052391c5739' class='xr-var-attrs-in' type='checkbox' disabled><label for='attrs-9336d89b-275a-41e5-bc09-1052391c5739' title='Show/Hide attributes'><svg class='icon xr-icon-file-text2'><use xlink:href='#icon-file-text2'></use></svg></label><input id='data-842a9e84-610a-4c20-9282-4064cc309625' class='xr-var-data-in' type='checkbox'><label for='data-842a9e84-610a-4c20-9282-4064cc309625' title='Show/Hide data repr'><svg class='icon xr-icon-database'><use xlink:href='#icon-database'></use></svg></label><div class='xr-var-attrs'><dl class='xr-attrs'></dl></div><div class='xr-var-data'><pre>array([&#x27;2019-02-19T12:55:00.000000000&#x27;, &#x27;2019-02-19T12:56:00.000000000&#x27;,\n",
       "       &#x27;2019-02-19T12:57:00.000000000&#x27;, ..., &#x27;2019-03-01T11:02:00.000000000&#x27;,\n",
       "       &#x27;2019-03-01T11:03:00.000000000&#x27;, &#x27;2019-03-01T11:04:00.000000000&#x27;],\n",
       "      dtype=&#x27;datetime64[ns]&#x27;)</pre></div></li><li class='xr-var-item'><div class='xr-var-name'><span class='xr-has-index'>component</span></div><div class='xr-var-dims'>(component)</div><div class='xr-var-dtype'>object</div><div class='xr-var-preview xr-preview'>&#x27;B field (T)&#x27; &#x27;Voltage (V)&#x27;</div><input id='attrs-c9c18ad3-ee59-4601-89d7-b1cc85cb33fe' class='xr-var-attrs-in' type='checkbox' disabled><label for='attrs-c9c18ad3-ee59-4601-89d7-b1cc85cb33fe' title='Show/Hide attributes'><svg class='icon xr-icon-file-text2'><use xlink:href='#icon-file-text2'></use></svg></label><input id='data-36b386bb-9126-486f-bb70-bb1287660527' class='xr-var-data-in' type='checkbox'><label for='data-36b386bb-9126-486f-bb70-bb1287660527' title='Show/Hide data repr'><svg class='icon xr-icon-database'><use xlink:href='#icon-database'></use></svg></label><div class='xr-var-attrs'><dl class='xr-attrs'></dl></div><div class='xr-var-data'><pre>array([&#x27;B field (T)&#x27;, &#x27;Voltage (V)&#x27;], dtype=object)</pre></div></li></ul></div></li><li class='xr-section-item'><input id='section-4f81558f-a98d-4cb3-a861-80d6392fba5b' class='xr-section-summary-in' type='checkbox'  checked><label for='section-4f81558f-a98d-4cb3-a861-80d6392fba5b' class='xr-section-summary' >Attributes: <span>(2)</span></label><div class='xr-section-inline-details'></div><div class='xr-section-details'><dl class='xr-attrs'><dt><span>static_covariates :</span></dt><dd>None</dd><dt><span>hierarchy :</span></dt><dd>None</dd></dl></div></li></ul></div></div>"
      ],
      "text/plain": [
       "<TimeSeries (DataArray) (Timestamp: 14290, component: 2, sample: 1)>\n",
       "array([[[ 0.0029275 ],\n",
       "        [-0.025     ]],\n",
       "\n",
       "       [[ 0.00264   ],\n",
       "        [ 0.        ]],\n",
       "\n",
       "       [[ 0.00362778],\n",
       "        [-0.01111111]],\n",
       "\n",
       "       ...,\n",
       "\n",
       "       [[ 0.        ],\n",
       "        [ 0.        ]],\n",
       "\n",
       "       [[ 0.        ],\n",
       "        [ 0.        ]],\n",
       "\n",
       "       [[ 0.        ],\n",
       "        [ 0.        ]]], dtype=float32)\n",
       "Coordinates:\n",
       "  * Timestamp  (Timestamp) datetime64[ns] 2019-02-19T12:55:00 ... 2019-03-01T...\n",
       "  * component  (component) object 'B field (T)' 'Voltage (V)'\n",
       "Dimensions without coordinates: sample\n",
       "Attributes:\n",
       "    static_covariates:  None\n",
       "    hierarchy:          None"
      ]
     },
     "execution_count": 66,
     "metadata": {},
     "output_type": "execute_result"
    }
   ],
   "source": [
    "train[0]"
   ]
  },
  {
   "cell_type": "code",
   "execution_count": 67,
   "id": "e0e04aa5-a26a-488b-9c37-521943a761b2",
   "metadata": {
    "tags": []
   },
   "outputs": [
    {
     "name": "stdout",
     "output_type": "stream",
     "text": [
      "300\n"
     ]
    }
   ],
   "source": [
    "print(len(val[0]))"
   ]
  },
  {
   "cell_type": "code",
   "execution_count": 68,
   "id": "e39265f1-d3c7-4ceb-887f-389cbcefcadf",
   "metadata": {
    "tags": []
   },
   "outputs": [],
   "source": [
    "# train = train[:2]\n",
    "# val = val[:2]\n",
    "# covariates = covariates[:2]\n",
    "# val_past_covariates_past = val_past_covariates_past[:2]"
   ]
  },
  {
   "cell_type": "code",
   "execution_count": 20,
   "id": "abcf9d0c-1fc1-478a-9acd-681a12eb6a19",
   "metadata": {
    "tags": []
   },
   "outputs": [],
   "source": [
    "# class Trial():\n",
    "#     def suggest_int(self, name, low, high):\n",
    "#         return low\n",
    "#     def suggest_categorical(self, name, cats):\n",
    "#         return cats[0]\n",
    "#     def suggest_float(self, name, low, high, log = False):\n",
    "#         return low\n",
    "        "
   ]
  },
  {
   "cell_type": "code",
   "execution_count": 21,
   "id": "46b7d9f2-3871-415b-848d-dd87cbef32ab",
   "metadata": {
    "tags": []
   },
   "outputs": [
    {
     "name": "stdout",
     "output_type": "stream",
     "text": [
      "500\n"
     ]
    }
   ],
   "source": [
    "print(VAL_LEN)"
   ]
  },
  {
   "cell_type": "code",
   "execution_count": null,
   "id": "baab6177-bf2c-48c0-a5c3-4a600a1716fe",
   "metadata": {
    "tags": []
   },
   "outputs": [
    {
     "data": {
      "application/vnd.jupyter.widget-view+json": {
       "model_id": "",
       "version_major": 2,
       "version_minor": 0
      },
      "text/plain": [
       "Sanity Checking: 0it [00:00, ?it/s]"
      ]
     },
     "metadata": {},
     "output_type": "display_data"
    },
    {
     "data": {
      "application/vnd.jupyter.widget-view+json": {
       "model_id": "57de7c8056b54d51aa4c430aa3e27a55",
       "version_major": 2,
       "version_minor": 0
      },
      "text/plain": [
       "Training: 0it [00:00, ?it/s]"
      ]
     },
     "metadata": {},
     "output_type": "display_data"
    }
   ],
   "source": [
    "import numpy as np\n",
    "import optuna\n",
    "import torch\n",
    "from optuna.integration import PyTorchLightningPruningCallback\n",
    "from pytorch_lightning.callbacks import EarlyStopping\n",
    "from sklearn.preprocessing import MaxAbsScaler\n",
    "\n",
    "from darts.dataprocessing.transformers import Scaler\n",
    "from darts.datasets import AirPassengersDataset\n",
    "from darts.metrics import smape\n",
    "from darts.models import TCNModel\n",
    "from darts.utils.likelihood_models import GaussianLikelihood\n",
    "\n",
    "# scale\n",
    "# scaler = Scaler(MaxAbsScaler())\n",
    "# train = scaler.fit_transform(train)\n",
    "# val = scaler.transform(val)\n",
    "\n",
    "# define objective function\n",
    "def objective(trial):\n",
    "    # select input and output chunk lengths\n",
    "    in_len = trial.suggest_int(\"in_len\", 60, 200)\n",
    "    out_len = trial.suggest_int(\"out_len\", 40, in_len-1)\n",
    "    d_model_length = trial.suggest_int(\"d_model_length\", 60, 68)\n",
    "    num_encoder_layers_temp = trial.suggest_int(\"num_encoder_layers_temp\", 1, 5)\n",
    "    num_decoder_layers_temp = trial.suggest_int(\"num_decoder_layers_temp\", 1, 5)\n",
    "\n",
    "    # Other hyperparameters\n",
    "    kernel_size = trial.suggest_int(\"kernel_size\", 2, 5)\n",
    "    num_filters = trial.suggest_int(\"num_filters\", 1, 5)\n",
    "    weight_norm = trial.suggest_categorical(\"weight_norm\", [False, True])\n",
    "    dilation_base = trial.suggest_int(\"dilation_base\", 2, 4)\n",
    "    dropout = trial.suggest_float(\"dropout\", 0.0, 0.4)\n",
    "    lr = trial.suggest_float(\"lr\", 5e-5, 1e-3, log=True)\n",
    "    # include_year = trial.suggest_categorical(\"year\", [False, True])\n",
    "\n",
    "    # throughout training we'll monitor the validation loss for both pruning and early stopping\n",
    "    pruner = PyTorchLightningPruningCallback(trial, monitor=\"val_loss\")\n",
    "    early_stopper = EarlyStopping(\"val_loss\", min_delta=0.001, patience=3, verbose=True)\n",
    "    callbacks = [pruner, early_stopper]\n",
    "    \n",
    "    num_workers = 4\n",
    "        \n",
    "    pl_trainer_kwargs = {\n",
    "        \"accelerator\": \"gpu\",\n",
    "        \"devices\": [0],\n",
    "        \"callbacks\": callbacks,\n",
    "    }\n",
    "\n",
    "    encoders = None #look into add encoders\n",
    "\n",
    "    # reproducibility\n",
    "    torch.manual_seed(42)\n",
    "    # kernel_size', 'num_filters', 'weight_norm', 'dilation_base']`\n",
    "    # build the TCN model\n",
    "    model = TransformerModel(\n",
    "        input_chunk_length=in_len,\n",
    "        output_chunk_length=out_len,\n",
    "        batch_size=32,\n",
    "        n_epochs=2,\n",
    "        nr_epochs_val_period=1,\n",
    "        num_encoder_layers = num_encoder_layers_temp,\n",
    "        num_decoder_layers = num_decoder_layers_temp,\n",
    "        # d_model = d_model_length,\n",
    "        dropout=dropout,\n",
    "        optimizer_kwargs={\"lr\": lr},\n",
    "        add_encoders=encoders,\n",
    "        likelihood=GaussianLikelihood(),\n",
    "        pl_trainer_kwargs=pl_trainer_kwargs,\n",
    "        model_name=\"tcn_model_1\",\n",
    "        force_reset=True,\n",
    "        save_checkpoints=True,\n",
    "    )\n",
    "    \n",
    "    # model = TransformerModel(\n",
    "    # input_chunk_length=in_len,\n",
    "    # output_chunk_length=out_len,\n",
    "    # model_name=\"test5\",\n",
    "    # activation=\"relu\",\n",
    "    # # random_state=42,\n",
    "    # save_checkpoints=True,\n",
    "    # # force_reset=True,\n",
    "    # pl_trainer_kwargs = {\"accelerator\": \"gpu\", \"devices\": [1]}\n",
    "    # )\n",
    "    \n",
    "    \n",
    "    # when validating during training, we can use a slightly longer validation\n",
    "    # set which also contains the first input_chunk_length time steps\n",
    "    # model_val_set = scaler.transform(series[-(VAL_LEN + in_len) :])\n",
    "    # model_val_set = []\n",
    "    # for time_series in time_final:\n",
    "    #     series = time_series.astype(np.float32)\n",
    "    #     model_val_set.append(series[-(VAL_LEN + in_len) :])\n",
    "\n",
    "    # train the model\n",
    "    model.fit(\n",
    "        series=train,\n",
    "        val_series=val,\n",
    "        # num_loader_workers=1,\n",
    "        # past_covariates = covariates,\n",
    "        # val_past_covariates=val_past_covariates_past\n",
    "    )\n",
    "    \n",
    "#     model.fit(\n",
    "#         series=train,\n",
    "#         past_covariates=covariates,\n",
    "#     );\n",
    "\n",
    "    # reload best model over course of training\n",
    "    model = TransformerModel.load_from_checkpoint(\"tcn_model_1\")\n",
    "    \n",
    "    # Evaluate how good it is on the validation set, using sMAPE\n",
    "    # preds = model.predict(series=train[0], n=VAL_LEN)\n",
    "    smapes = 0\n",
    "    for i in range(len(train)):\n",
    "        preds = model.predict(\n",
    "            series=train[i],\n",
    "            # past_covariates=covariates[i],\n",
    "            n=VAL_LEN,\n",
    "            # verbose=verbose,\n",
    "        )\n",
    "        smapes += smape(preds, val[i])\n",
    "    smapes = smapes/len(train)\n",
    "    smape_val = np.mean(smapes)\n",
    "    # if smape_val== np.nan:\n",
    "    #     print(\"nan\")\n",
    "    return smape_val if smape_val != np.nan else float(\"inf\")\n",
    "\n",
    "\n",
    "# for convenience, print some optimization trials information\n",
    "def print_callback(study, trial):\n",
    "    print(f\"Current value: {trial.value}, Current params: {trial.params}\")\n",
    "    print(f\"Best value: {study.best_value}, Best params: {study.best_trial.params}\")\n",
    "\n",
    "\n",
    "# optimize hyperparameters by minimizing the sMAPE on the validation set\n",
    "def run_trial():\n",
    "    study = optuna.create_study(direction=\"minimize\")\n",
    "    study.optimize(objective, n_trials=3, callbacks=[print_callback])\n",
    "        \n",
    "if __name__ == \"__main__\":\n",
    "    run_trial()\n",
    "    # objective(Trial())\n"
   ]
  },
  {
   "cell_type": "code",
   "execution_count": 12,
   "id": "bcc82378-b86a-4065-98c4-1ba3e27cb4c1",
   "metadata": {
    "tags": []
   },
   "outputs": [],
   "source": [
    "# fix python path if working locally\n",
    "import pandas as pd\n",
    "import numpy as np\n",
    "import torch\n",
    "import matplotlib.pyplot as plt\n",
    "import os\n",
    "\n",
    "from darts import TimeSeries\n",
    "from darts.utils.timeseries_generation import (\n",
    "    gaussian_timeseries,\n",
    "    linear_timeseries,\n",
    "    sine_timeseries,\n",
    ")\n",
    "from darts.models import (\n",
    "    RNNModel,\n",
    "    TCNModel,\n",
    "    TransformerModel,\n",
    "    NBEATSModel,\n",
    "    BlockRNNModel,\n",
    "    VARIMA,\n",
    ")\n",
    "from darts.metrics import mape, smape, mae\n",
    "from darts.dataprocessing.transformers import Scaler\n",
    "from darts.utils.timeseries_generation import datetime_attribute_timeseries\n",
    "from darts.datasets import AirPassengersDataset, MonthlyMilkDataset, ElectricityDataset\n",
    "\n",
    "import logging\n",
    "\n",
    "logging.disable(logging.CRITICAL)\n",
    "\n",
    "import warnings\n",
    "\n",
    "warnings.filterwarnings(\"ignore\")\n",
    "\n",
    "%matplotlib inline\n",
    "\n",
    "# for reproducibility\n",
    "torch.manual_seed(1)\n",
    "np.random.seed(1)"
   ]
  },
  {
   "cell_type": "code",
   "execution_count": 16,
   "id": "2f07d397-4d97-4021-875c-78a09031f1d6",
   "metadata": {
    "tags": []
   },
   "outputs": [
    {
     "name": "stdout",
     "output_type": "stream",
     "text": [
      "/storage/rwp2/Pipeline/Dask\n"
     ]
    }
   ],
   "source": [
    "cd .."
   ]
  },
  {
   "cell_type": "code",
   "execution_count": 31,
   "id": "3d334c1b-a9f1-485b-98a4-deff14d155f2",
   "metadata": {
    "tags": []
   },
   "outputs": [],
   "source": [
    "num = 1"
   ]
  },
  {
   "cell_type": "code",
   "execution_count": 32,
   "id": "16237e4a-7aa9-42d2-96d1-b85e3f2fa4d0",
   "metadata": {
    "tags": []
   },
   "outputs": [],
   "source": [
    "loaded_model = TransformerModel.load_from_checkpoint('transformer-4226/T4420')"
   ]
  },
  {
   "cell_type": "code",
   "execution_count": 33,
   "id": "78cc9cbd-e9da-4f05-8358-e57956931403",
   "metadata": {
    "tags": []
   },
   "outputs": [
    {
     "data": {
      "application/vnd.jupyter.widget-view+json": {
       "model_id": "4911adc385104e44a840538142dcd9ce",
       "version_major": 2,
       "version_minor": 0
      },
      "text/plain": [
       "Predicting: 0it [00:00, ?it/s]"
      ]
     },
     "metadata": {},
     "output_type": "display_data"
    }
   ],
   "source": [
    "n_forecast = len(val[num])  # Replace `test` with your test set\n",
    "pred_series = loaded_model.predict(n=n_forecast, series=train[num])  # Adjust the `n` parameter as needed"
   ]
  },
  {
   "cell_type": "code",
   "execution_count": 34,
   "id": "a8f3fae0-e07a-4e11-b7c6-238873987e4c",
   "metadata": {
    "tags": []
   },
   "outputs": [
    {
     "name": "stdout",
     "output_type": "stream",
     "text": [
      "SMAPE: 55.01%\n",
      "RMSE: 3.25\n"
     ]
    }
   ],
   "source": [
    "from darts.metrics import mape, rmse\n",
    "\n",
    "smape_score = smape(pred_series, val[num])  # Replace `test` with your true future values\n",
    "rmse_score = rmse(pred_series, val[num])  # Replace `test` with your true future values\n",
    "\n",
    "print(f\"SMAPE: {smape_score:.2f}%\")\n",
    "print(f\"RMSE: {rmse_score:.2f}\")"
   ]
  },
  {
   "cell_type": "code",
   "execution_count": 35,
   "id": "933b57ca-799d-472e-a5fd-3c9470f85b90",
   "metadata": {
    "tags": []
   },
   "outputs": [
    {
     "name": "stdout",
     "output_type": "stream",
     "text": [
      "55.010227896273136\n"
     ]
    }
   ],
   "source": [
    "print(np.mean(smape_score))"
   ]
  },
  {
   "cell_type": "code",
   "execution_count": 39,
   "id": "30abfa62-6e97-4639-b1ec-5f54590c36a6",
   "metadata": {
    "tags": []
   },
   "outputs": [
    {
     "data": {
      "image/png": "[encoded data removed]",
      "text/plain": [
       "<Figure size 1000x600 with 1 Axes>"
      ]
     },
     "metadata": {},
     "output_type": "display_data"
    }
   ],
   "source": [
    "import matplotlib.pyplot as plt\n",
    "from darts import TimeSeries\n",
    "\n",
    "# Assuming you have a multivariate Darts time series named 'multivariate_time_series'\n",
    "\n",
    "# Convert the Darts time series to a Pandas DataFrame\n",
    "df = (pred_series).pd_dataframe()\n",
    "\n",
    "# Plotting the multivariate time series\n",
    "plt.figure(figsize=(10, 6))\n",
    "\n",
    "# Plot each variable separately\n",
    "for column in df.columns:\n",
    "    plt.plot(df.index, df[column], label=column)\n",
    "\n",
    "plt.xlabel('Time')\n",
    "plt.ylabel('Value')\n",
    "plt.title('Predicted')\n",
    "# plt.legend()\n",
    "plt.grid(True)\n",
    "plt.show()\n"
   ]
  },
  {
   "cell_type": "code",
   "execution_count": 41,
   "id": "0bfeb9e0-8124-41c6-b481-05e82079132f",
   "metadata": {
    "tags": []
   },
   "outputs": [
    {
     "data": {
      "image/png": "[encoded data removed]",
      "text/plain": [
       "<Figure size 1000x600 with 1 Axes>"
      ]
     },
     "metadata": {},
     "output_type": "display_data"
    }
   ],
   "source": [
    "import matplotlib.pyplot as plt\n",
    "from darts import TimeSeries\n",
    "\n",
    "# Assuming you have a multivariate Darts time series named 'multivariate_time_series'\n",
    "\n",
    "# Convert the Darts time series to a Pandas DataFrame\n",
    "df = (val[num]).pd_dataframe()\n",
    "\n",
    "# Plotting the multivariate time series\n",
    "plt.figure(figsize=(10, 6))\n",
    "\n",
    "# Plot each variable separately\n",
    "for column in df.columns:\n",
    "    plt.plot(df.index, df[column], label=column)\n",
    "\n",
    "plt.xlabel('Time')\n",
    "plt.ylabel('Value')\n",
    "plt.title('Forecast')\n",
    "# plt.legend()\n",
    "plt.grid(True)\n",
    "plt.show()\n"
   ]
  },
  {
   "cell_type": "code",
   "execution_count": 23,
   "id": "870a96db-a070-4ed3-bf90-a2a38d427b0a",
   "metadata": {},
   "outputs": [
    {
     "ename": "SyntaxError",
     "evalue": "leading zeros in decimal integer literals are not permitted; use an 0o prefix for octal integers (168242150.py, line 1)",
     "output_type": "error",
     "traceback": [
      "\u001b[0;31m---------------------------------------------------------------------------\u001b[0m",
      "\u001b[0;31mSyntaxError\u001b[0m                               Traceback (most recent call last)",
      "File \u001b[0;32m/storage/conda/mambaforge/envs/jupyterhub/lib/python3.10/site-packages/IPython/core/compilerop.py:86\u001b[0m, in \u001b[0;36mCachingCompiler.ast_parse\u001b[0;34m(self, source, filename, symbol)\u001b[0m\n\u001b[1;32m     81\u001b[0m \u001b[38;5;28;01mdef\u001b[39;00m \u001b[38;5;21mast_parse\u001b[39m(\u001b[38;5;28mself\u001b[39m, source, filename\u001b[38;5;241m=\u001b[39m\u001b[38;5;124m'\u001b[39m\u001b[38;5;124m<unknown>\u001b[39m\u001b[38;5;124m'\u001b[39m, symbol\u001b[38;5;241m=\u001b[39m\u001b[38;5;124m'\u001b[39m\u001b[38;5;124mexec\u001b[39m\u001b[38;5;124m'\u001b[39m):\n\u001b[1;32m     82\u001b[0m \u001b[38;5;250m    \u001b[39m\u001b[38;5;124;03m\"\"\"Parse code to an AST with the current compiler flags active.\u001b[39;00m\n\u001b[1;32m     83\u001b[0m \n\u001b[1;32m     84\u001b[0m \u001b[38;5;124;03m    Arguments are exactly the same as ast.parse (in the standard library),\u001b[39;00m\n\u001b[1;32m     85\u001b[0m \u001b[38;5;124;03m    and are passed to the built-in compile function.\"\"\"\u001b[39;00m\n\u001b[0;32m---> 86\u001b[0m     \u001b[38;5;28;01mreturn\u001b[39;00m \u001b[38;5;28;43mcompile\u001b[39;49m\u001b[43m(\u001b[49m\u001b[43msource\u001b[49m\u001b[43m,\u001b[49m\u001b[43m \u001b[49m\u001b[43mfilename\u001b[49m\u001b[43m,\u001b[49m\u001b[43m \u001b[49m\u001b[43msymbol\u001b[49m\u001b[43m,\u001b[49m\u001b[43m \u001b[49m\u001b[38;5;28;43mself\u001b[39;49m\u001b[38;5;241;43m.\u001b[39;49m\u001b[43mflags\u001b[49m\u001b[43m \u001b[49m\u001b[38;5;241;43m|\u001b[39;49m\u001b[43m \u001b[49m\u001b[43mPyCF_ONLY_AST\u001b[49m\u001b[43m,\u001b[49m\u001b[43m \u001b[49m\u001b[38;5;241;43m1\u001b[39;49m\u001b[43m)\u001b[49m\n",
      "\u001b[0;31mSyntaxError\u001b[0m: leading zeros in decimal integer literals are not permitted; use an 0o prefix for octal integers (168242150.py, line 1)"
     ]
    }
   ],
   "source": [
    "I 2023-07-31 16:21:07,924] Trial 92 finished with value: \n",
    "    140.74493944644928 and parameters: {'d_model_length': 67, 'dilation_base': 4, \n",
    "                                        'dropout': 0.05325962047210396, 'in_len': 69, 'kernel_size': 5, \n",
    "                                        'lr': 0.00035671372383447384, 'num_decoder_layers_temp': 3, 'num_encoder_layers_temp': 5, \n",
    "                                        'num_filters': 3, 'out_len': 31, 'weight_norm': False}. Best is trial 92 with value: 140.74493944644928."
   ]
  },
  {
   "cell_type": "code",
   "execution_count": null,
   "id": "21ca7403-de5f-4c9f-b1f3-c72baf99165f",
   "metadata": {},
   "outputs": [],
   "source": []
  }
 ],
 "metadata": {
  "kernelspec": {
   "display_name": "Python [conda env:jupyterhub] *",
   "language": "python",
   "name": "conda-env-jupyterhub-py"
  },
  "language_info": {
   "codemirror_mode": {
    "name": "ipython",
    "version": 3
   },
   "file_extension": ".py",
   "mimetype": "text/x-python",
   "name": "python",
   "nbconvert_exporter": "python",
   "pygments_lexer": "ipython3",
   "version": "3.10.9"
  }
 },
 "nbformat": 4,
 "nbformat_minor": 5
}
