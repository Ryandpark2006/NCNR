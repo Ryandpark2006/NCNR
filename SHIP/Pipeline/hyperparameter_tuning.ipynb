{
 "cells": [
  {
   "cell_type": "code",
   "execution_count": 1,
   "id": "edbd61a4-9118-42b9-ba29-6893bd620923",
   "metadata": {
    "tags": []
   },
   "outputs": [
    {
     "data": {
      "text/html": [
       "<div>\n",
       "<style scoped>\n",
       "    .dataframe tbody tr th:only-of-type {\n",
       "        vertical-align: middle;\n",
       "    }\n",
       "\n",
       "    .dataframe tbody tr th {\n",
       "        vertical-align: top;\n",
       "    }\n",
       "\n",
       "    .dataframe thead th {\n",
       "        text-align: right;\n",
       "    }\n",
       "</style>\n",
       "<table border=\"1\" class=\"dataframe\">\n",
       "  <thead>\n",
       "    <tr style=\"text-align: right;\">\n",
       "      <th></th>\n",
       "      <th>Timestamp</th>\n",
       "      <th>Elapsed time (minutes)</th>\n",
       "      <th>Set B field (T)</th>\n",
       "      <th>B field (T)</th>\n",
       "      <th>Ramp speed (T/min)</th>\n",
       "      <th>Voltage (V)</th>\n",
       "      <th>Inner Lower Temperature</th>\n",
       "      <th>Outer Lower Temperature</th>\n",
       "      <th>Inner Upper Temperature</th>\n",
       "      <th>Outer Upper Temperature</th>\n",
       "      <th>1st Stage Temperature</th>\n",
       "      <th>Shield Temperature</th>\n",
       "      <th>2nd Stage Temperature</th>\n",
       "      <th>Magnetism_ID</th>\n",
       "    </tr>\n",
       "  </thead>\n",
       "  <tbody>\n",
       "    <tr>\n",
       "      <th>0</th>\n",
       "      <td>02/08/2019 03:27:38 PM</td>\n",
       "      <td>2.805300</td>\n",
       "      <td>0.0</td>\n",
       "      <td>0.00000</td>\n",
       "      <td>0.000000</td>\n",
       "      <td>0.0</td>\n",
       "      <td>281.797983</td>\n",
       "      <td>285.092215</td>\n",
       "      <td>280.715422</td>\n",
       "      <td>283.969736</td>\n",
       "      <td>145.612162</td>\n",
       "      <td>279.920378</td>\n",
       "      <td>204.958080</td>\n",
       "      <td>./T10/20190208_SMS.txt</td>\n",
       "    </tr>\n",
       "    <tr>\n",
       "      <th>1</th>\n",
       "      <td>02/08/2019 03:28:01 PM</td>\n",
       "      <td>3.175539</td>\n",
       "      <td>0.0</td>\n",
       "      <td>0.00000</td>\n",
       "      <td>0.000000</td>\n",
       "      <td>0.0</td>\n",
       "      <td>281.768245</td>\n",
       "      <td>285.065814</td>\n",
       "      <td>280.686698</td>\n",
       "      <td>283.941646</td>\n",
       "      <td>145.521580</td>\n",
       "      <td>279.884569</td>\n",
       "      <td>204.900535</td>\n",
       "      <td>./T10/20190208_SMS.txt</td>\n",
       "    </tr>\n",
       "    <tr>\n",
       "      <th>2</th>\n",
       "      <td>02/08/2019 03:28:23 PM</td>\n",
       "      <td>3.554124</td>\n",
       "      <td>0.0</td>\n",
       "      <td>0.00000</td>\n",
       "      <td>0.000000</td>\n",
       "      <td>0.0</td>\n",
       "      <td>281.737322</td>\n",
       "      <td>285.041573</td>\n",
       "      <td>280.652349</td>\n",
       "      <td>283.915624</td>\n",
       "      <td>145.428632</td>\n",
       "      <td>279.849350</td>\n",
       "      <td>204.839601</td>\n",
       "      <td>./T10/20190208_SMS.txt</td>\n",
       "    </tr>\n",
       "    <tr>\n",
       "      <th>3</th>\n",
       "      <td>02/08/2019 03:28:46 PM</td>\n",
       "      <td>3.933961</td>\n",
       "      <td>0.0</td>\n",
       "      <td>0.00000</td>\n",
       "      <td>0.000000</td>\n",
       "      <td>0.0</td>\n",
       "      <td>281.704371</td>\n",
       "      <td>285.016645</td>\n",
       "      <td>280.621349</td>\n",
       "      <td>283.886878</td>\n",
       "      <td>145.337971</td>\n",
       "      <td>279.809776</td>\n",
       "      <td>204.778354</td>\n",
       "      <td>./T10/20190208_SMS.txt</td>\n",
       "    </tr>\n",
       "    <tr>\n",
       "      <th>4</th>\n",
       "      <td>02/08/2019 03:29:09 PM</td>\n",
       "      <td>4.314683</td>\n",
       "      <td>0.0</td>\n",
       "      <td>0.00000</td>\n",
       "      <td>0.000000</td>\n",
       "      <td>0.0</td>\n",
       "      <td>281.673613</td>\n",
       "      <td>284.987751</td>\n",
       "      <td>280.583256</td>\n",
       "      <td>283.856319</td>\n",
       "      <td>145.245554</td>\n",
       "      <td>279.771382</td>\n",
       "      <td>204.720981</td>\n",
       "      <td>./T10/20190208_SMS.txt</td>\n",
       "    </tr>\n",
       "    <tr>\n",
       "      <th>...</th>\n",
       "      <td>...</td>\n",
       "      <td>...</td>\n",
       "      <td>...</td>\n",
       "      <td>...</td>\n",
       "      <td>...</td>\n",
       "      <td>...</td>\n",
       "      <td>...</td>\n",
       "      <td>...</td>\n",
       "      <td>...</td>\n",
       "      <td>...</td>\n",
       "      <td>...</td>\n",
       "      <td>...</td>\n",
       "      <td>...</td>\n",
       "      <td>...</td>\n",
       "    </tr>\n",
       "    <tr>\n",
       "      <th>2789982</th>\n",
       "      <td>03/20/2019 10:24:29 AM</td>\n",
       "      <td>9833.385706</td>\n",
       "      <td>0.0</td>\n",
       "      <td>-0.00000</td>\n",
       "      <td>0.006867</td>\n",
       "      <td>0.0</td>\n",
       "      <td>5.073398</td>\n",
       "      <td>5.019095</td>\n",
       "      <td>4.877788</td>\n",
       "      <td>4.965012</td>\n",
       "      <td>41.333217</td>\n",
       "      <td>63.687044</td>\n",
       "      <td>3.241164</td>\n",
       "      <td>././T10/20190313_SMS.txt</td>\n",
       "    </tr>\n",
       "    <tr>\n",
       "      <th>2789983</th>\n",
       "      <td>03/20/2019 10:24:35 AM</td>\n",
       "      <td>9833.491933</td>\n",
       "      <td>0.0</td>\n",
       "      <td>-0.00426</td>\n",
       "      <td>0.006867</td>\n",
       "      <td>0.0</td>\n",
       "      <td>5.071438</td>\n",
       "      <td>5.017297</td>\n",
       "      <td>4.876068</td>\n",
       "      <td>4.963015</td>\n",
       "      <td>41.332443</td>\n",
       "      <td>63.700309</td>\n",
       "      <td>3.242243</td>\n",
       "      <td>././T10/20190313_SMS.txt</td>\n",
       "    </tr>\n",
       "    <tr>\n",
       "      <th>2789984</th>\n",
       "      <td>03/20/2019 10:24:42 AM</td>\n",
       "      <td>9833.604840</td>\n",
       "      <td>0.0</td>\n",
       "      <td>-0.00000</td>\n",
       "      <td>0.006867</td>\n",
       "      <td>0.0</td>\n",
       "      <td>5.069822</td>\n",
       "      <td>5.015468</td>\n",
       "      <td>4.874303</td>\n",
       "      <td>4.960119</td>\n",
       "      <td>41.331908</td>\n",
       "      <td>63.710247</td>\n",
       "      <td>3.248909</td>\n",
       "      <td>././T10/20190313_SMS.txt</td>\n",
       "    </tr>\n",
       "    <tr>\n",
       "      <th>2789985</th>\n",
       "      <td>03/20/2019 10:24:48 AM</td>\n",
       "      <td>9833.707356</td>\n",
       "      <td>0.0</td>\n",
       "      <td>-0.00000</td>\n",
       "      <td>0.006867</td>\n",
       "      <td>0.0</td>\n",
       "      <td>5.068294</td>\n",
       "      <td>5.013746</td>\n",
       "      <td>4.872636</td>\n",
       "      <td>4.958283</td>\n",
       "      <td>41.331908</td>\n",
       "      <td>63.720780</td>\n",
       "      <td>3.325273</td>\n",
       "      <td>././T10/20190313_SMS.txt</td>\n",
       "    </tr>\n",
       "    <tr>\n",
       "      <th>2789986</th>\n",
       "      <td>03/20/2019 10:24:54 AM</td>\n",
       "      <td>9833.811411</td>\n",
       "      <td>0.0</td>\n",
       "      <td>-0.00000</td>\n",
       "      <td>0.006867</td>\n",
       "      <td>0.0</td>\n",
       "      <td>5.067143</td>\n",
       "      <td>5.012027</td>\n",
       "      <td>4.871808</td>\n",
       "      <td>4.957342</td>\n",
       "      <td>41.332640</td>\n",
       "      <td>63.733202</td>\n",
       "      <td>3.376410</td>\n",
       "      <td>././T10/20190313_SMS.txt</td>\n",
       "    </tr>\n",
       "  </tbody>\n",
       "</table>\n",
       "<p>2789987 rows × 14 columns</p>\n",
       "</div>"
      ],
      "text/plain": [
       "                      Timestamp  Elapsed time (minutes)  Set B field (T)  \\\n",
       "0        02/08/2019 03:27:38 PM                2.805300              0.0   \n",
       "1        02/08/2019 03:28:01 PM                3.175539              0.0   \n",
       "2        02/08/2019 03:28:23 PM                3.554124              0.0   \n",
       "3        02/08/2019 03:28:46 PM                3.933961              0.0   \n",
       "4        02/08/2019 03:29:09 PM                4.314683              0.0   \n",
       "...                         ...                     ...              ...   \n",
       "2789982  03/20/2019 10:24:29 AM             9833.385706              0.0   \n",
       "2789983  03/20/2019 10:24:35 AM             9833.491933              0.0   \n",
       "2789984  03/20/2019 10:24:42 AM             9833.604840              0.0   \n",
       "2789985  03/20/2019 10:24:48 AM             9833.707356              0.0   \n",
       "2789986  03/20/2019 10:24:54 AM             9833.811411              0.0   \n",
       "\n",
       "         B field (T)  Ramp speed (T/min)  Voltage (V)  \\\n",
       "0            0.00000            0.000000          0.0   \n",
       "1            0.00000            0.000000          0.0   \n",
       "2            0.00000            0.000000          0.0   \n",
       "3            0.00000            0.000000          0.0   \n",
       "4            0.00000            0.000000          0.0   \n",
       "...              ...                 ...          ...   \n",
       "2789982     -0.00000            0.006867          0.0   \n",
       "2789983     -0.00426            0.006867          0.0   \n",
       "2789984     -0.00000            0.006867          0.0   \n",
       "2789985     -0.00000            0.006867          0.0   \n",
       "2789986     -0.00000            0.006867          0.0   \n",
       "\n",
       "         Inner Lower Temperature  Outer Lower Temperature  \\\n",
       "0                     281.797983               285.092215   \n",
       "1                     281.768245               285.065814   \n",
       "2                     281.737322               285.041573   \n",
       "3                     281.704371               285.016645   \n",
       "4                     281.673613               284.987751   \n",
       "...                          ...                      ...   \n",
       "2789982                 5.073398                 5.019095   \n",
       "2789983                 5.071438                 5.017297   \n",
       "2789984                 5.069822                 5.015468   \n",
       "2789985                 5.068294                 5.013746   \n",
       "2789986                 5.067143                 5.012027   \n",
       "\n",
       "         Inner Upper Temperature  Outer Upper Temperature  \\\n",
       "0                     280.715422               283.969736   \n",
       "1                     280.686698               283.941646   \n",
       "2                     280.652349               283.915624   \n",
       "3                     280.621349               283.886878   \n",
       "4                     280.583256               283.856319   \n",
       "...                          ...                      ...   \n",
       "2789982                 4.877788                 4.965012   \n",
       "2789983                 4.876068                 4.963015   \n",
       "2789984                 4.874303                 4.960119   \n",
       "2789985                 4.872636                 4.958283   \n",
       "2789986                 4.871808                 4.957342   \n",
       "\n",
       "         1st Stage Temperature  Shield Temperature  2nd Stage Temperature  \\\n",
       "0                   145.612162          279.920378             204.958080   \n",
       "1                   145.521580          279.884569             204.900535   \n",
       "2                   145.428632          279.849350             204.839601   \n",
       "3                   145.337971          279.809776             204.778354   \n",
       "4                   145.245554          279.771382             204.720981   \n",
       "...                        ...                 ...                    ...   \n",
       "2789982              41.333217           63.687044               3.241164   \n",
       "2789983              41.332443           63.700309               3.242243   \n",
       "2789984              41.331908           63.710247               3.248909   \n",
       "2789985              41.331908           63.720780               3.325273   \n",
       "2789986              41.332640           63.733202               3.376410   \n",
       "\n",
       "                     Magnetism_ID  \n",
       "0          ./T10/20190208_SMS.txt  \n",
       "1          ./T10/20190208_SMS.txt  \n",
       "2          ./T10/20190208_SMS.txt  \n",
       "3          ./T10/20190208_SMS.txt  \n",
       "4          ./T10/20190208_SMS.txt  \n",
       "...                           ...  \n",
       "2789982  ././T10/20190313_SMS.txt  \n",
       "2789983  ././T10/20190313_SMS.txt  \n",
       "2789984  ././T10/20190313_SMS.txt  \n",
       "2789985  ././T10/20190313_SMS.txt  \n",
       "2789986  ././T10/20190313_SMS.txt  \n",
       "\n",
       "[2789987 rows x 14 columns]"
      ]
     },
     "execution_count": 1,
     "metadata": {},
     "output_type": "execute_result"
    }
   ],
   "source": [
    "import pandas as pd\n",
    "\n",
    "df = pd.read_csv(\"magnetism.csv\")\n",
    "df"
   ]
  },
  {
   "cell_type": "code",
   "execution_count": 2,
   "id": "f0433077-efa7-4a8f-a539-d5aff712c255",
   "metadata": {
    "tags": []
   },
   "outputs": [],
   "source": [
    "float64_cols = list(df.select_dtypes(include='float64'))\n",
    "df[float64_cols] = df[float64_cols].astype('float32')"
   ]
  },
  {
   "cell_type": "code",
   "execution_count": 3,
   "id": "31da903a-5788-4a8b-b409-705b77b3a303",
   "metadata": {
    "tags": []
   },
   "outputs": [
    {
     "data": {
      "text/plain": [
       "dtype('float32')"
      ]
     },
     "execution_count": 3,
     "metadata": {},
     "output_type": "execute_result"
    }
   ],
   "source": [
    "df.iloc[:,3].values.dtype"
   ]
  },
  {
   "cell_type": "code",
   "execution_count": 4,
   "id": "06c4efde-177d-4543-973e-910b9ef6fb0a",
   "metadata": {},
   "outputs": [
    {
     "name": "stderr",
     "output_type": "stream",
     "text": [
      "/tmp/ipykernel_77940/2093529370.py:9: UserWarning: Could not infer format, so each element will be parsed individually, falling back to `dateutil`. To ensure parsing is consistent and as-expected, please specify a format.\n",
      "  df['Timestamp'] = pd.to_datetime(df['Timestamp'])\n"
     ]
    }
   ],
   "source": [
    "import pandas as pd\n",
    "from darts import TimeSeries\n",
    "\n",
    "# Assuming 'your_dataset.csv' is a string containing the dataset\n",
    "\n",
    "# df = pd.read_csv(pd.compat.StringIO('your_dataset.csv'))\n",
    "\n",
    "# Convert the 'Timestamp' column to datetime type\n",
    "df['Timestamp'] = pd.to_datetime(df['Timestamp'])\n",
    "\n",
    "time_series_list = []\n",
    "for ccr_id, group in df.groupby('Magnetism_ID'):\n",
    "    # Sort the group by 'Timestamp' if not already sorted\n",
    "    group.sort_values('Timestamp', inplace=True)\n",
    "    \n",
    "    # Set the 'Timestamp' column as the index\n",
    "    group.set_index('Timestamp', inplace=True)\n",
    "    \n",
    "    # Exclude the 'CCR_ID' column from numeric conversion and resampling\n",
    "    value_cols = ['Elapsed time (minutes)', 'Set B field (T)', 'B field (T)', 'Ramp speed (T/min)', 'Voltage (V)', 'Inner Lower Temperature', 'Outer Lower Temperature', 'Inner Upper Temperature', 'Outer Upper Temperature', '1st Stage Temperature', 'Shield Temperature', '2nd Stage Temperature', ]\n",
    "    # value_cols = ['Elapsed time (minutes)','Setpoint (K)','Sensor A (K)','Sensor B (K)', 'Heater Output % (0-100)', 'Heater Range (integer 0-5)', 'Slope','Intercept','Sensor C (K) or sensor A (sensor unit)','Sensor D (K) or sensor B (sensor unit)']\n",
    "    \n",
    "    # Convert the numeric columns to numeric format, handling non-numeric values as NaN\n",
    "    for col in value_cols:\n",
    "        group[col] = pd.to_numeric(group[col], errors='coerce')\n",
    "    \n",
    "    # Select only numeric columns for resampling\n",
    "    numeric_cols = group.select_dtypes(include='number').columns\n",
    "    \n",
    "    # Resample the numeric columns to a fixed frequency\n",
    "    group_resampled = group[numeric_cols].resample('1T').mean()  # Adjust '5S' to the desired frequency\n",
    "    \n",
    "    # Handle missing values if necessary\n",
    "    group_resampled = group_resampled.fillna(method='ffill')  # Forward fill missing values, or choose another appropriate method\n",
    "    \n",
    "    # Convert the resampled DataFrame to a Darts TimeSeries object\n",
    "    time_series = TimeSeries.from_dataframe(group_resampled, value_cols=value_cols)\n",
    "    \n",
    "    time_series_list.append(time_series)\n"
   ]
  },
  {
   "cell_type": "code",
   "execution_count": 5,
   "id": "4a51b977-e82f-47b3-9848-6820be02046c",
   "metadata": {
    "tags": []
   },
   "outputs": [
    {
     "name": "stderr",
     "output_type": "stream",
     "text": [
      "2023-07-28 14:52:33 darts.models WARNING: The statsforecast module could not be imported. To enable support for the StatsForecastAutoARIMA, StatsForecastAutoETS and Croston models, please consider installing it.\n"
     ]
    }
   ],
   "source": [
    "# fix python path if working locally\n",
    "import pandas as pd\n",
    "import numpy as np\n",
    "import torch\n",
    "import matplotlib.pyplot as plt\n",
    "\n",
    "from darts import TimeSeries\n",
    "from darts.utils.timeseries_generation import (\n",
    "    gaussian_timeseries,\n",
    "    linear_timeseries,\n",
    "    sine_timeseries,\n",
    ")\n",
    "from darts.models import (\n",
    "    RNNModel,\n",
    "    TCNModel,\n",
    "    TransformerModel,\n",
    "    NBEATSModel,\n",
    "    BlockRNNModel,\n",
    "    VARIMA,\n",
    ")\n",
    "from darts.metrics import mape, smape, mae\n",
    "from darts.dataprocessing.transformers import Scaler\n",
    "from darts.utils.timeseries_generation import datetime_attribute_timeseries\n",
    "from darts.datasets import AirPassengersDataset, MonthlyMilkDataset, ElectricityDataset\n",
    "\n",
    "import logging\n",
    "\n",
    "logging.disable(logging.CRITICAL)\n",
    "\n",
    "import warnings\n",
    "\n",
    "warnings.filterwarnings(\"ignore\")\n",
    "\n",
    "%matplotlib inline\n",
    "\n",
    "# for reproducibility\n",
    "torch.manual_seed(1)\n",
    "np.random.seed(1)"
   ]
  },
  {
   "cell_type": "code",
   "execution_count": 6,
   "id": "c8cf2cb8-6836-4829-af72-22f3be89c828",
   "metadata": {
    "tags": []
   },
   "outputs": [],
   "source": [
    "time_series_list_scaled = []\n",
    "\n",
    "for time_series in time_series_list:\n",
    "    scaler = Scaler()\n",
    "    time_series_list_scaled.append(scaler.fit_transform(time_series))"
   ]
  },
  {
   "cell_type": "code",
   "execution_count": 7,
   "id": "36634d15-1023-48de-a9bf-0f1d5ae7b642",
   "metadata": {
    "tags": []
   },
   "outputs": [
    {
     "name": "stdout",
     "output_type": "stream",
     "text": [
      "Index(['Normalized Elapsed time (minutes)', 'Normalized Set B field (T)',\n",
      "       'Normalized B field (T)', 'Normalized Ramp speed (T/min)',\n",
      "       'Normalized Voltage (V)', 'Normalized Inner Lower Temperature',\n",
      "       'Normalized Outer Lower Temperature',\n",
      "       'Normalized Inner Upper Temperature',\n",
      "       'Normalized Outer Upper Temperature',\n",
      "       'Normalized 1st Stage Temperature', 'Normalized Shield Temperature',\n",
      "       'Normalized 2nd Stage Temperature'],\n",
      "      dtype='object', name='component')\n"
     ]
    }
   ],
   "source": [
    "# print(time_series_list_scaled[0].columns)\n",
    "from darts import TimeSeries\n",
    "temp = []\n",
    "# Assuming you have a Darts TimeSeries object named 'ts'\n",
    "\n",
    "# Convert the TimeSeries to a pandas DataFrame\n",
    "for ts in time_series_list_scaled:\n",
    "    df = ts.pd_dataframe()\n",
    "\n",
    "    # Rename the columns in the pandas DataFrame\n",
    "    new_column_names = ['Normalized Elapsed time (minutes)', 'Normalized Set B field (T)', 'Normalized B field (T)',\n",
    "       'Normalized Ramp speed (T/min)', 'Normalized Voltage (V)', 'Normalized Inner Lower Temperature',\n",
    "       'Normalized Outer Lower Temperature', 'Normalized Inner Upper Temperature',\n",
    "       'Normalized Outer Upper Temperature', 'Normalized 1st Stage Temperature',\n",
    "       'Normalized Shield Temperature', 'Normalized 2nd Stage Temperature']  # Replace with the new column names you want\n",
    "    df.columns = new_column_names\n",
    "\n",
    "    # Convert the modified pandas DataFrame back to a Darts TimeSeries\n",
    "    temp.append(TimeSeries.from_dataframe(df))\n",
    "time_series_list_scaled = temp\n",
    "print(time_series_list_scaled[0].columns)"
   ]
  },
  {
   "cell_type": "code",
   "execution_count": 8,
   "id": "af4e0a97-5477-463a-97a4-bfdb378bff0a",
   "metadata": {
    "tags": []
   },
   "outputs": [],
   "source": [
    "from darts import TimeSeries\n",
    "\n",
    "covariates = []\n",
    "for i in range(len(time_series_list)):\n",
    "    ts_df = (time_series_list[i]).pd_dataframe()\n",
    "    columns_to_keep = ['Set B field (T)', 'Elapsed time (minutes)', 'Ramp speed (T/min)', 'Inner Lower Temperature', \n",
    "                       'Outer Lower Temperature', 'Inner Upper Temperature',\n",
    "                       'Outer Upper Temperature', '1st Stage Temperature',\n",
    "                       'Shield Temperature', '2nd Stage Temperature']\n",
    "    covariate_ts_df = ts_df[columns_to_keep]\n",
    "    covariates.append(TimeSeries.from_dataframe(covariate_ts_df))\n"
   ]
  },
  {
   "cell_type": "code",
   "execution_count": 9,
   "id": "ae3c3109-a1d4-4642-821a-d9960e5d639d",
   "metadata": {
    "tags": []
   },
   "outputs": [
    {
     "name": "stdout",
     "output_type": "stream",
     "text": [
      "Index(['Set B field (T)', 'Elapsed time (minutes)', 'Ramp speed (T/min)',\n",
      "       'Inner Lower Temperature', 'Outer Lower Temperature',\n",
      "       'Inner Upper Temperature', 'Outer Upper Temperature',\n",
      "       '1st Stage Temperature', 'Shield Temperature', '2nd Stage Temperature',\n",
      "       'Normalized Elapsed time (minutes)', 'Normalized Set B field (T)',\n",
      "       'Normalized B field (T)', 'Normalized Ramp speed (T/min)',\n",
      "       'Normalized Voltage (V)', 'Normalized Inner Lower Temperature',\n",
      "       'Normalized Outer Lower Temperature',\n",
      "       'Normalized Inner Upper Temperature',\n",
      "       'Normalized Outer Upper Temperature',\n",
      "       'Normalized 1st Stage Temperature', 'Normalized Shield Temperature',\n",
      "       'Normalized 2nd Stage Temperature'],\n",
      "      dtype='object', name='component')\n"
     ]
    }
   ],
   "source": [
    "updated_covariates = []\n",
    "for i in range(len(covariates)):\n",
    "    df = covariates[i].pd_dataframe()\n",
    "    # for time_series in time_series_list_scaled:\n",
    "    temp = time_series_list_scaled[i].pd_dataframe()\n",
    "    for col in temp.columns:\n",
    "        df[col] = temp[col]\n",
    "    updated_covariates.append(TimeSeries.from_dataframe(df))\n",
    "    \n",
    "print(updated_covariates[0].columns)\n",
    "covariates = updated_covariates"
   ]
  },
  {
   "cell_type": "code",
   "execution_count": 10,
   "id": "fa7b3981-e744-401d-a41c-33f5fd36ecfd",
   "metadata": {
    "tags": []
   },
   "outputs": [
    {
     "name": "stdout",
     "output_type": "stream",
     "text": [
      "2\n"
     ]
    }
   ],
   "source": [
    "from darts import TimeSeries\n",
    "\n",
    "# ts_df = ts.pd_dataframe()\n",
    "time_final = []\n",
    "for i in range(len(time_series_list)):\n",
    "    ts_df = (time_series_list[i]).pd_dataframe()\n",
    "    columns_to_keep = ['B field (T)', 'Voltage (V)', ]\n",
    "    covariate_ts_df = ts_df[columns_to_keep]\n",
    "    time_final.append(TimeSeries.from_dataframe(covariate_ts_df))\n",
    "    \n",
    "print(len(time_final[0].columns))\n",
    "# time_final = time_series_list"
   ]
  },
  {
   "cell_type": "code",
   "execution_count": 11,
   "id": "726c4ffe-355a-4955-a4a0-17e2805f5776",
   "metadata": {
    "tags": []
   },
   "outputs": [],
   "source": [
    "# load data\n",
    "train, val = [], []\n",
    "VAL_LEN = 200\n",
    "temp1, temp2 = [], []\n",
    "\n",
    "for i in range(len(time_final)):\n",
    "    series = time_final[i]\n",
    "    train.append(series[:-VAL_LEN])\n",
    "    val.append(series[-VAL_LEN:])\n",
    "    temp1.append(covariates[i][-VAL_LEN:])\n",
    "    temp2.append(covariates[i][:-VAL_LEN])\n",
    "\n",
    "# for time_series in time_final:\n",
    "#     series = time_series.astype(np.float32)\n",
    "#     train.append(series[:-VAL_LEN])\n",
    "#     val.append(series[-VAL_LEN:])\n",
    "    \n",
    "    \n",
    "# for time_series in covariates:\n",
    "#     series = time_series.astype(np.float32)\n",
    "#     temp.append(series[:-VAL_LEN])\n",
    "val_past_covariates_past = temp1\n",
    "covariates = temp2\n",
    "\n",
    "# split in train / validation (note: in practice we would also need a test set)\n",
    "# train, val = \n"
   ]
  },
  {
   "cell_type": "code",
   "execution_count": 12,
   "id": "980a4155-96a9-4d84-8848-32198807cbdd",
   "metadata": {
    "tags": []
   },
   "outputs": [
    {
     "data": {
      "text/plain": [
       "dtype('float32')"
      ]
     },
     "execution_count": 12,
     "metadata": {},
     "output_type": "execute_result"
    }
   ],
   "source": [
    "train[1].dtype"
   ]
  },
  {
   "cell_type": "code",
   "execution_count": 13,
   "id": "2f017391-a6c5-4bd6-bba8-2f4498cbfb8e",
   "metadata": {
    "tags": []
   },
   "outputs": [
    {
     "name": "stdout",
     "output_type": "stream",
     "text": [
      "14390\n",
      "9634\n"
     ]
    }
   ],
   "source": [
    "print(len(train[0]))\n",
    "print(len(covariates[1]))"
   ]
  },
  {
   "cell_type": "code",
   "execution_count": 14,
   "id": "e0e04aa5-a26a-488b-9c37-521943a761b2",
   "metadata": {
    "tags": []
   },
   "outputs": [
    {
     "name": "stdout",
     "output_type": "stream",
     "text": [
      "200\n"
     ]
    }
   ],
   "source": [
    "print(len(val[0]))"
   ]
  },
  {
   "cell_type": "code",
   "execution_count": 18,
   "id": "e39265f1-d3c7-4ceb-887f-389cbcefcadf",
   "metadata": {
    "tags": []
   },
   "outputs": [],
   "source": [
    "# train = train[:2]\n",
    "# val = val[:2]\n",
    "# covariates = covariates[:2]\n",
    "# val_past_covariates_past = val_past_covariates_past[:2]"
   ]
  },
  {
   "cell_type": "code",
   "execution_count": 15,
   "id": "abcf9d0c-1fc1-478a-9acd-681a12eb6a19",
   "metadata": {
    "tags": []
   },
   "outputs": [],
   "source": [
    "# class Trial():\n",
    "#     def suggest_int(self, name, low, high):\n",
    "#         return low\n",
    "#     def suggest_categorical(self, name, cats):\n",
    "#         return cats[0]\n",
    "#     def suggest_float(self, name, low, high, log = False):\n",
    "#         return low\n",
    "        "
   ]
  },
  {
   "cell_type": "code",
   "execution_count": 20,
   "id": "baab6177-bf2c-48c0-a5c3-4a600a1716fe",
   "metadata": {
    "tags": []
   },
   "outputs": [
    {
     "data": {
      "application/vnd.jupyter.widget-view+json": {
       "model_id": "",
       "version_major": 2,
       "version_minor": 0
      },
      "text/plain": [
       "Sanity Checking: 0it [00:00, ?it/s]"
      ]
     },
     "metadata": {},
     "output_type": "display_data"
    },
    {
     "data": {
      "application/vnd.jupyter.widget-view+json": {
       "model_id": "ed44849a90614337828ae04383004254",
       "version_major": 2,
       "version_minor": 0
      },
      "text/plain": [
       "Training: 0it [00:00, ?it/s]"
      ]
     },
     "metadata": {},
     "output_type": "display_data"
    },
    {
     "data": {
      "application/vnd.jupyter.widget-view+json": {
       "model_id": "",
       "version_major": 2,
       "version_minor": 0
      },
      "text/plain": [
       "Validation: 0it [00:00, ?it/s]"
      ]
     },
     "metadata": {},
     "output_type": "display_data"
    },
    {
     "data": {
      "application/vnd.jupyter.widget-view+json": {
       "model_id": "",
       "version_major": 2,
       "version_minor": 0
      },
      "text/plain": [
       "Validation: 0it [00:00, ?it/s]"
      ]
     },
     "metadata": {},
     "output_type": "display_data"
    },
    {
     "data": {
      "application/vnd.jupyter.widget-view+json": {
       "model_id": "ed7174491ede4568944037a5c88e6179",
       "version_major": 2,
       "version_minor": 0
      },
      "text/plain": [
       "Predicting: 0it [00:00, ?it/s]"
      ]
     },
     "metadata": {},
     "output_type": "display_data"
    },
    {
     "data": {
      "application/vnd.jupyter.widget-view+json": {
       "model_id": "7d36483035b74f079d3fcf6df75c26ff",
       "version_major": 2,
       "version_minor": 0
      },
      "text/plain": [
       "  0%|          | 0/1 [00:00<?, ?it/s]"
      ]
     },
     "metadata": {},
     "output_type": "display_data"
    },
    {
     "name": "stdout",
     "output_type": "stream",
     "text": [
      "Current value: 200.0, Current params: {'in_len': 25, 'out_len': 11, 'kernel_size': 2, 'num_filters': 2, 'weight_norm': False, 'dilation_base': 2, 'dropout': 0.37849396036633787, 'lr': 0.00015865973725637096}\n",
      "Best value: 200.0, Best params: {'in_len': 25, 'out_len': 11, 'kernel_size': 2, 'num_filters': 2, 'weight_norm': False, 'dilation_base': 2, 'dropout': 0.37849396036633787, 'lr': 0.00015865973725637096}\n"
     ]
    },
    {
     "data": {
      "application/vnd.jupyter.widget-view+json": {
       "model_id": "",
       "version_major": 2,
       "version_minor": 0
      },
      "text/plain": [
       "Sanity Checking: 0it [00:00, ?it/s]"
      ]
     },
     "metadata": {},
     "output_type": "display_data"
    },
    {
     "data": {
      "application/vnd.jupyter.widget-view+json": {
       "model_id": "3dae46f17fd847818d8d8df8f89c4532",
       "version_major": 2,
       "version_minor": 0
      },
      "text/plain": [
       "Training: 0it [00:00, ?it/s]"
      ]
     },
     "metadata": {},
     "output_type": "display_data"
    },
    {
     "data": {
      "application/vnd.jupyter.widget-view+json": {
       "model_id": "",
       "version_major": 2,
       "version_minor": 0
      },
      "text/plain": [
       "Validation: 0it [00:00, ?it/s]"
      ]
     },
     "metadata": {},
     "output_type": "display_data"
    },
    {
     "data": {
      "application/vnd.jupyter.widget-view+json": {
       "model_id": "",
       "version_major": 2,
       "version_minor": 0
      },
      "text/plain": [
       "Validation: 0it [00:00, ?it/s]"
      ]
     },
     "metadata": {},
     "output_type": "display_data"
    },
    {
     "data": {
      "application/vnd.jupyter.widget-view+json": {
       "model_id": "c11e52acf2294a6ebab37442cc3f37cc",
       "version_major": 2,
       "version_minor": 0
      },
      "text/plain": [
       "Predicting: 0it [00:00, ?it/s]"
      ]
     },
     "metadata": {},
     "output_type": "display_data"
    },
    {
     "data": {
      "application/vnd.jupyter.widget-view+json": {
       "model_id": "492e778a748946fe88907d8f825b6f59",
       "version_major": 2,
       "version_minor": 0
      },
      "text/plain": [
       "  0%|          | 0/1 [00:00<?, ?it/s]"
      ]
     },
     "metadata": {},
     "output_type": "display_data"
    },
    {
     "name": "stdout",
     "output_type": "stream",
     "text": [
      "Current value: 200.0, Current params: {'in_len': 24, 'out_len': 3, 'kernel_size': 3, 'num_filters': 3, 'weight_norm': True, 'dilation_base': 2, 'dropout': 0.15290013387257095, 'lr': 0.00010433697804699113}\n",
      "Best value: 200.0, Best params: {'in_len': 25, 'out_len': 11, 'kernel_size': 2, 'num_filters': 2, 'weight_norm': False, 'dilation_base': 2, 'dropout': 0.37849396036633787, 'lr': 0.00015865973725637096}\n"
     ]
    },
    {
     "data": {
      "application/vnd.jupyter.widget-view+json": {
       "model_id": "",
       "version_major": 2,
       "version_minor": 0
      },
      "text/plain": [
       "Sanity Checking: 0it [00:00, ?it/s]"
      ]
     },
     "metadata": {},
     "output_type": "display_data"
    },
    {
     "data": {
      "application/vnd.jupyter.widget-view+json": {
       "model_id": "eb2ce2eb14b7497e80b31db902daad7b",
       "version_major": 2,
       "version_minor": 0
      },
      "text/plain": [
       "Training: 0it [00:00, ?it/s]"
      ]
     },
     "metadata": {},
     "output_type": "display_data"
    },
    {
     "data": {
      "application/vnd.jupyter.widget-view+json": {
       "model_id": "",
       "version_major": 2,
       "version_minor": 0
      },
      "text/plain": [
       "Validation: 0it [00:00, ?it/s]"
      ]
     },
     "metadata": {},
     "output_type": "display_data"
    },
    {
     "data": {
      "application/vnd.jupyter.widget-view+json": {
       "model_id": "",
       "version_major": 2,
       "version_minor": 0
      },
      "text/plain": [
       "Validation: 0it [00:00, ?it/s]"
      ]
     },
     "metadata": {},
     "output_type": "display_data"
    },
    {
     "data": {
      "application/vnd.jupyter.widget-view+json": {
       "model_id": "6fc54659b29b434bbb1949a650202c68",
       "version_major": 2,
       "version_minor": 0
      },
      "text/plain": [
       "Predicting: 0it [00:00, ?it/s]"
      ]
     },
     "metadata": {},
     "output_type": "display_data"
    },
    {
     "data": {
      "application/vnd.jupyter.widget-view+json": {
       "model_id": "5b95f8f8faa548ceaf694634308275fb",
       "version_major": 2,
       "version_minor": 0
      },
      "text/plain": [
       "  0%|          | 0/1 [00:00<?, ?it/s]"
      ]
     },
     "metadata": {},
     "output_type": "display_data"
    },
    {
     "name": "stdout",
     "output_type": "stream",
     "text": [
      "Current value: 200.0, Current params: {'in_len': 15, 'out_len': 7, 'kernel_size': 2, 'num_filters': 1, 'weight_norm': False, 'dilation_base': 3, 'dropout': 0.12395046909016019, 'lr': 0.0006677944890664167}\n",
      "Best value: 200.0, Best params: {'in_len': 25, 'out_len': 11, 'kernel_size': 2, 'num_filters': 2, 'weight_norm': False, 'dilation_base': 2, 'dropout': 0.37849396036633787, 'lr': 0.00015865973725637096}\n"
     ]
    }
   ],
   "source": [
    "import numpy as np\n",
    "import optuna\n",
    "import torch\n",
    "from optuna.integration import PyTorchLightningPruningCallback\n",
    "from pytorch_lightning.callbacks import EarlyStopping\n",
    "from sklearn.preprocessing import MaxAbsScaler\n",
    "\n",
    "from darts.dataprocessing.transformers import Scaler\n",
    "from darts.datasets import AirPassengersDataset\n",
    "from darts.metrics import smape\n",
    "from darts.models import TCNModel\n",
    "from darts.utils.likelihood_models import GaussianLikelihood\n",
    "\n",
    "# scale\n",
    "# scaler = Scaler(MaxAbsScaler())\n",
    "# train = scaler.fit_transform(train)\n",
    "# val = scaler.transform(val)\n",
    "\n",
    "# define objective function\n",
    "def objective(trial):\n",
    "    # select input and output chunk lengths\n",
    "    in_len = trial.suggest_int(\"in_len\", 15, 120)\n",
    "    out_len = trial.suggest_int(\"out_len\", 1, in_len-1)\n",
    "\n",
    "    # Other hyperparameters\n",
    "    kernel_size = trial.suggest_int(\"kernel_size\", 2, 5)\n",
    "    num_filters = trial.suggest_int(\"num_filters\", 1, 5)\n",
    "    weight_norm = trial.suggest_categorical(\"weight_norm\", [False, True])\n",
    "    dilation_base = trial.suggest_int(\"dilation_base\", 2, 4)\n",
    "    dropout = trial.suggest_float(\"dropout\", 0.0, 0.4)\n",
    "    lr = trial.suggest_float(\"lr\", 5e-5, 1e-3, log=True)\n",
    "    # include_year = trial.suggest_categorical(\"year\", [False, True])\n",
    "\n",
    "    # throughout training we'll monitor the validation loss for both pruning and early stopping\n",
    "    pruner = PyTorchLightningPruningCallback(trial, monitor=\"val_loss\")\n",
    "    early_stopper = EarlyStopping(\"val_loss\", min_delta=0.001, patience=3, verbose=True)\n",
    "    callbacks = [pruner, early_stopper]\n",
    "    \n",
    "    num_workers = 4\n",
    "        \n",
    "    pl_trainer_kwargs = {\n",
    "        \"accelerator\": \"gpu\",\n",
    "        \"devices\": [0],\n",
    "        \"callbacks\": callbacks,\n",
    "    }\n",
    "\n",
    "    encoders = None #look into add encoders\n",
    "\n",
    "    # reproducibility\n",
    "    torch.manual_seed(42)\n",
    "    # kernel_size', 'num_filters', 'weight_norm', 'dilation_base']`\n",
    "    # build the TCN model\n",
    "    model = TCNModel(\n",
    "        input_chunk_length=in_len,\n",
    "        output_chunk_length=out_len,\n",
    "        batch_size=32,\n",
    "        n_epochs=4,\n",
    "        nr_epochs_val_period=1,\n",
    "        kernel_size=kernel_size,\n",
    "        num_filters=num_filters,\n",
    "        weight_norm=weight_norm,\n",
    "        dilation_base=dilation_base,\n",
    "        dropout=dropout,\n",
    "        optimizer_kwargs={\"lr\": lr},\n",
    "        add_encoders=encoders,\n",
    "        likelihood=GaussianLikelihood(),\n",
    "        pl_trainer_kwargs=pl_trainer_kwargs,\n",
    "        model_name=\"tcn_model_1\",\n",
    "        force_reset=True,\n",
    "        save_checkpoints=True,\n",
    "    )\n",
    "    \n",
    "    # model = TransformerModel(\n",
    "    # input_chunk_length=in_len,\n",
    "    # output_chunk_length=out_len,\n",
    "    # model_name=\"test5\",\n",
    "    # activation=\"relu\",\n",
    "    # # random_state=42,\n",
    "    # save_checkpoints=True,\n",
    "    # # force_reset=True,\n",
    "    # pl_trainer_kwargs = {\"accelerator\": \"gpu\", \"devices\": [1]}\n",
    "    # )\n",
    "    \n",
    "    \n",
    "    # when validating during training, we can use a slightly longer validation\n",
    "    # set which also contains the first input_chunk_length time steps\n",
    "    # model_val_set = scaler.transform(series[-(VAL_LEN + in_len) :])\n",
    "    # model_val_set = []\n",
    "    # for time_series in time_final:\n",
    "    #     series = time_series.astype(np.float32)\n",
    "    #     model_val_set.append(series[-(VAL_LEN + in_len) :])\n",
    "\n",
    "    # train the model\n",
    "    model.fit(\n",
    "        series=train,\n",
    "        val_series=val,\n",
    "        num_loader_workers=1,\n",
    "        past_covariates = covariates,\n",
    "        val_past_covariates=val_past_covariates_past\n",
    "    )\n",
    "    \n",
    "#     model.fit(\n",
    "#         series=train,\n",
    "#         past_covariates=covariates,\n",
    "#     );\n",
    "\n",
    "    # reload best model over course of training\n",
    "    model = TCNModel.load_from_checkpoint(\"tcn_model\")\n",
    "    \n",
    "    # Evaluate how good it is on the validation set, using sMAPE\n",
    "    preds = model.predict(series=train[0], n=VAL_LEN)\n",
    "    smapes = smape(val[0], preds, n_jobs=-1, verbose=True)\n",
    "    smape_val = np.mean(smapes)\n",
    "    # if smape_val== np.nan:\n",
    "    #     print(\"nan\")\n",
    "    return smape_val if smape_val != np.nan else float(\"inf\")\n",
    "\n",
    "\n",
    "# for convenience, print some optimization trials information\n",
    "def print_callback(study, trial):\n",
    "    print(f\"Current value: {trial.value}, Current params: {trial.params}\")\n",
    "    print(f\"Best value: {study.best_value}, Best params: {study.best_trial.params}\")\n",
    "\n",
    "\n",
    "# optimize hyperparameters by minimizing the sMAPE on the validation set\n",
    "def run_trial():\n",
    "    study = optuna.create_study(direction=\"minimize\")\n",
    "    study.optimize(objective, n_trials=3, callbacks=[print_callback])\n",
    "        \n",
    "if __name__ == \"__main__\":\n",
    "    run_trial()\n",
    "    # objective(Trial())\n"
   ]
  },
  {
   "cell_type": "code",
   "execution_count": null,
   "id": "255a7d40-838f-405f-a95f-d0c6912b42ea",
   "metadata": {},
   "outputs": [],
   "source": []
  }
 ],
 "metadata": {
  "kernelspec": {
   "display_name": "Python 3 (ipykernel)",
   "language": "python",
   "name": "python3"
  },
  "language_info": {
   "codemirror_mode": {
    "name": "ipython",
    "version": 3
   },
   "file_extension": ".py",
   "mimetype": "text/x-python",
   "name": "python",
   "nbconvert_exporter": "python",
   "pygments_lexer": "ipython3",
   "version": "3.10.9"
  }
 },
 "nbformat": 4,
 "nbformat_minor": 5
}
