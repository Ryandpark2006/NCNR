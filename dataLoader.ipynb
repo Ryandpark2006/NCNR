{
 "cells": [
  {
   "cell_type": "code",
   "execution_count": 1,
   "id": "cceab874-0af9-47c1-ad3b-57f4b2f37560",
   "metadata": {
    "tags": []
   },
   "outputs": [],
   "source": [
    "import pandas as pd"
   ]
  },
  {
   "cell_type": "code",
   "execution_count": 2,
   "id": "ca5939db-af3b-4f5d-813a-0efbab10773e",
   "metadata": {
    "tags": []
   },
   "outputs": [],
   "source": [
    "dataPath = \"/storage/pkienzle/data/CCR-Data-Unlabeled/CCR-05/2004/CCR-05030204B.xls\""
   ]
  },
  {
   "cell_type": "code",
   "execution_count": 3,
   "id": "aa8b65bf-e223-4ebd-919f-083e9d2a55d0",
   "metadata": {
    "tags": []
   },
   "outputs": [],
   "source": [
    "df = pd.read_excel(dataPath)"
   ]
  },
  {
   "cell_type": "code",
   "execution_count": 6,
   "id": "379a1f45-24cd-4aa2-a344-063c341ab103",
   "metadata": {
    "tags": []
   },
   "outputs": [
    {
     "name": "stdout",
     "output_type": "stream",
     "text": [
      "Defaulting to user installation because normal site-packages is not writeable\n",
      "Collecting xlrd\n",
      "  Downloading xlrd-2.0.1-py2.py3-none-any.whl (96 kB)\n",
      "\u001b[2K     \u001b[90m━━━━━━━━━━━━━━━━━━━━━━━━━━━━━━━━━━━━━━━━\u001b[0m \u001b[32m96.5/96.5 kB\u001b[0m \u001b[31m3.1 MB/s\u001b[0m eta \u001b[36m0:00:00\u001b[0m\n",
      "\u001b[?25h\u001b[33mWARNING: Error parsing requirements for wrapspawner: [Errno 13] Permission denied: '/storage/conda/mambaforge/envs/jupyterhub/lib/python3.10/site-packages/wrapspawner-1.0.1.dist-info/METADATA'\u001b[0m\u001b[33m\n",
      "\u001b[0mInstalling collected packages: xlrd\n",
      "Successfully installed xlrd-2.0.1\n",
      "Note: you may need to restart the kernel to use updated packages.\n"
     ]
    }
   ],
   "source": [
    "pip install xlrd"
   ]
  },
  {
   "cell_type": "code",
   "execution_count": 4,
   "id": "d4e41604-ebde-4fcd-96b1-53374bc7375e",
   "metadata": {
    "tags": []
   },
   "outputs": [],
   "source": [
    "import matplotlib.pyplot as plt"
   ]
  },
  {
   "cell_type": "code",
   "execution_count": 6,
   "id": "5b2484fd-92fa-4e2b-857b-0ed8217a000f",
   "metadata": {
    "tags": []
   },
   "outputs": [
    {
     "data": {
      "text/html": [
       "<div>\n",
       "<style scoped>\n",
       "    .dataframe tbody tr th:only-of-type {\n",
       "        vertical-align: middle;\n",
       "    }\n",
       "\n",
       "    .dataframe tbody tr th {\n",
       "        vertical-align: top;\n",
       "    }\n",
       "\n",
       "    .dataframe thead th {\n",
       "        text-align: right;\n",
       "    }\n",
       "</style>\n",
       "<table border=\"1\" class=\"dataframe\">\n",
       "  <thead>\n",
       "    <tr style=\"text-align: right;\">\n",
       "      <th></th>\n",
       "      <th>CCR-H05030204B</th>\n",
       "      <th>minutes</th>\n",
       "      <th>setpoint</th>\n",
       "      <th>Sensor A</th>\n",
       "      <th>Unnamed: 4</th>\n",
       "      <th>Unnamed: 5</th>\n",
       "    </tr>\n",
       "  </thead>\n",
       "  <tbody>\n",
       "    <tr>\n",
       "      <th>0</th>\n",
       "      <td>2004-03-02 09:24:16</td>\n",
       "      <td>NaN</td>\n",
       "      <td>NaN</td>\n",
       "      <td>NaN</td>\n",
       "      <td>NaN</td>\n",
       "      <td>NaN</td>\n",
       "    </tr>\n",
       "    <tr>\n",
       "      <th>1</th>\n",
       "      <td>09:24:45</td>\n",
       "      <td>0.5</td>\n",
       "      <td>290.0</td>\n",
       "      <td>272.530</td>\n",
       "      <td>8.0</td>\n",
       "      <td>5.0</td>\n",
       "    </tr>\n",
       "    <tr>\n",
       "      <th>2</th>\n",
       "      <td>09:25:11</td>\n",
       "      <td>1.0</td>\n",
       "      <td>0.0</td>\n",
       "      <td>272.714</td>\n",
       "      <td>8.0</td>\n",
       "      <td>0.0</td>\n",
       "    </tr>\n",
       "    <tr>\n",
       "      <th>3</th>\n",
       "      <td>09:25:41</td>\n",
       "      <td>1.5</td>\n",
       "      <td>0.0</td>\n",
       "      <td>272.886</td>\n",
       "      <td>8.0</td>\n",
       "      <td>0.0</td>\n",
       "    </tr>\n",
       "    <tr>\n",
       "      <th>4</th>\n",
       "      <td>09:26:11</td>\n",
       "      <td>2.0</td>\n",
       "      <td>0.0</td>\n",
       "      <td>273.100</td>\n",
       "      <td>8.0</td>\n",
       "      <td>0.0</td>\n",
       "    </tr>\n",
       "    <tr>\n",
       "      <th>...</th>\n",
       "      <td>...</td>\n",
       "      <td>...</td>\n",
       "      <td>...</td>\n",
       "      <td>...</td>\n",
       "      <td>...</td>\n",
       "      <td>...</td>\n",
       "    </tr>\n",
       "    <tr>\n",
       "      <th>2607</th>\n",
       "      <td>07:07:41</td>\n",
       "      <td>NaN</td>\n",
       "      <td>300.0</td>\n",
       "      <td>193.726</td>\n",
       "      <td>8.0</td>\n",
       "      <td>5.4</td>\n",
       "    </tr>\n",
       "    <tr>\n",
       "      <th>2608</th>\n",
       "      <td>07:08:11</td>\n",
       "      <td>NaN</td>\n",
       "      <td>300.0</td>\n",
       "      <td>193.865</td>\n",
       "      <td>8.0</td>\n",
       "      <td>5.4</td>\n",
       "    </tr>\n",
       "    <tr>\n",
       "      <th>2609</th>\n",
       "      <td>07:08:41</td>\n",
       "      <td>NaN</td>\n",
       "      <td>300.0</td>\n",
       "      <td>193.513</td>\n",
       "      <td>8.0</td>\n",
       "      <td>5.4</td>\n",
       "    </tr>\n",
       "    <tr>\n",
       "      <th>2610</th>\n",
       "      <td>07:09:11</td>\n",
       "      <td>NaN</td>\n",
       "      <td>300.0</td>\n",
       "      <td>193.930</td>\n",
       "      <td>8.0</td>\n",
       "      <td>5.4</td>\n",
       "    </tr>\n",
       "    <tr>\n",
       "      <th>2611</th>\n",
       "      <td>07:09:41</td>\n",
       "      <td>NaN</td>\n",
       "      <td>300.0</td>\n",
       "      <td>194.302</td>\n",
       "      <td>8.0</td>\n",
       "      <td>5.4</td>\n",
       "    </tr>\n",
       "  </tbody>\n",
       "</table>\n",
       "<p>2612 rows × 6 columns</p>\n",
       "</div>"
      ],
      "text/plain": [
       "           CCR-H05030204B  minutes  setpoint   Sensor A  Unnamed: 4  \\\n",
       "0     2004-03-02 09:24:16      NaN        NaN       NaN         NaN   \n",
       "1                09:24:45      0.5      290.0   272.530         8.0   \n",
       "2                09:25:11      1.0        0.0   272.714         8.0   \n",
       "3                09:25:41      1.5        0.0   272.886         8.0   \n",
       "4                09:26:11      2.0        0.0   273.100         8.0   \n",
       "...                   ...      ...        ...       ...         ...   \n",
       "2607             07:07:41      NaN      300.0   193.726         8.0   \n",
       "2608             07:08:11      NaN      300.0   193.865         8.0   \n",
       "2609             07:08:41      NaN      300.0   193.513         8.0   \n",
       "2610             07:09:11      NaN      300.0   193.930         8.0   \n",
       "2611             07:09:41      NaN      300.0   194.302         8.0   \n",
       "\n",
       "      Unnamed: 5  \n",
       "0            NaN  \n",
       "1            5.0  \n",
       "2            0.0  \n",
       "3            0.0  \n",
       "4            0.0  \n",
       "...          ...  \n",
       "2607         5.4  \n",
       "2608         5.4  \n",
       "2609         5.4  \n",
       "2610         5.4  \n",
       "2611         5.4  \n",
       "\n",
       "[2612 rows x 6 columns]"
      ]
     },
     "execution_count": 6,
     "metadata": {},
     "output_type": "execute_result"
    }
   ],
   "source": [
    "df"
   ]
  },
  {
   "cell_type": "code",
   "execution_count": 5,
   "id": "d5dace63-6d0f-4573-8991-103dcf2d09ad",
   "metadata": {
    "tags": []
   },
   "outputs": [
    {
     "data": {
      "image/png": "[encoded data removed]",
      "text/plain": [
       "<Figure size 640x480 with 1 Axes>"
      ]
     },
     "metadata": {},
     "output_type": "display_data"
    }
   ],
   "source": [
    "fig = df.plot()\n",
    "fig = fig.figure"
   ]
  },
  {
   "cell_type": "code",
   "execution_count": 27,
   "id": "1e34ad4b-c715-47bc-8a05-e3a089d7d101",
   "metadata": {
    "tags": []
   },
   "outputs": [],
   "source": [
    "fig.savefig('data.png')"
   ]
  },
  {
   "cell_type": "code",
   "execution_count": null,
   "id": "6711ea31-e801-41f8-afd5-067ab7bc537a",
   "metadata": {},
   "outputs": [],
   "source": [
    "filePath = \"/storage/pkienzle/data/CCR-Data-Unlabeled/CCR-05/2012/ccr05_20120201.txt\"\n",
    "import matplotlib.pyplot as plt\n",
    "import matplotlib.dates as mdates\n",
    "from datetime import datetime\n",
    "\n",
    "timestamps = []\n",
    "values = [[] for _ in range(4)]  # List of empty lists for four lines\n",
    "\n",
    "count =  0\n",
    "with open(filePath, 'r') as file:\n",
    "    for line in file:\n",
    "        if count > 1:\n",
    "            line = line.strip().split(',')\n",
    "            timestamp = datetime.strptime(line[0], '%I:%M:%S %p')\n",
    "            for i in range(3):\n",
    "                value = float(line[i+1])  # Assuming values are in columns 1 to 4\n",
    "                values[i].append(value)\n",
    "            timestamps.append(timestamp)\n",
    "        else:\n",
    "            count += 1\n",
    "\n",
    "fig, ax = plt.subplots()\n",
    "\n",
    "for i in range(3):\n",
    "    ax.plot(timestamps, values[i], label=f'Line {i+1}')\n",
    "\n",
    "# Format x-axis labels as time\n",
    "ax.xaxis.set_major_formatter(mdates.DateFormatter('%H:%M:%S %p'))\n",
    "\n",
    "# Rotate x-axis labels for better readability\n",
    "plt.xticks(rotation=45)\n",
    "\n",
    "# Add labels, legend, and title\n",
    "plt.xlabel('Time')\n",
    "plt.ylabel('Value')\n",
    "plt.legend()\n",
    "plt.title('Data Plot')\n",
    "\n",
    "# Display the graph\n",
    "plt.show()"
   ]
  }
 ],
 "metadata": {
  "kernelspec": {
   "display_name": "Python 3 (ipykernel)",
   "language": "python",
   "name": "python3"
  },
  "language_info": {
   "codemirror_mode": {
    "name": "ipython",
    "version": 3
   },
   "file_extension": ".py",
   "mimetype": "text/x-python",
   "name": "python",
   "nbconvert_exporter": "python",
   "pygments_lexer": "ipython3",
   "version": "3.10.9"
  }
 },
 "nbformat": 4,
 "nbformat_minor": 5
}
