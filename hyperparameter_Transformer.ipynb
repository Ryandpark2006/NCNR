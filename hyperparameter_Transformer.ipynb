{
 "cells": [
  {
   "cell_type": "code",
   "execution_count": 1,
   "id": "edbd61a4-9118-42b9-ba29-6893bd620923",
   "metadata": {
    "tags": []
   },
   "outputs": [],
   "source": [
    "# import pandas as pd\n",
    "\n",
    "# df = pd.read_csv(\"Dask/magnetism.csv\")\n",
    "# df"
   ]
  },
  {
   "cell_type": "code",
   "execution_count": 2,
   "id": "f0433077-efa7-4a8f-a539-d5aff712c255",
   "metadata": {
    "tags": []
   },
   "outputs": [],
   "source": [
    "# float64_cols = list(df.select_dtypes(include='float64'))\n",
    "# df[float64_cols] = df[float64_cols].astype('float32')"
   ]
  },
  {
   "cell_type": "code",
   "execution_count": 3,
   "id": "31da903a-5788-4a8b-b409-705b77b3a303",
   "metadata": {
    "tags": []
   },
   "outputs": [],
   "source": [
    "# df.iloc[:,3].values.dtype"
   ]
  },
  {
   "cell_type": "code",
   "execution_count": 4,
   "id": "06c4efde-177d-4543-973e-910b9ef6fb0a",
   "metadata": {},
   "outputs": [],
   "source": [
    "# import pandas as pd\n",
    "# from darts import TimeSeries\n",
    "\n",
    "# # Assuming 'your_dataset.csv' is a string containing the dataset\n",
    "\n",
    "# # df = pd.read_csv(pd.compat.StringIO('your_dataset.csv'))\n",
    "\n",
    "# # Convert the 'Timestamp' column to datetime type\n",
    "# df['Timestamp'] = pd.to_datetime(df['Timestamp'])\n",
    "\n",
    "# time_series_list = []\n",
    "# for ccr_id, group in df.groupby('Magnetism_ID'):\n",
    "#     # Sort the group by 'Timestamp' if not already sorted\n",
    "#     group.sort_values('Timestamp', inplace=True)\n",
    "    \n",
    "#     # Set the 'Timestamp' column as the index\n",
    "#     group.set_index('Timestamp', inplace=True)\n",
    "    \n",
    "#     # Exclude the 'CCR_ID' column from numeric conversion and resampling\n",
    "#     value_cols = ['Elapsed time (minutes)', 'Set B field (T)', 'B field (T)', 'Ramp speed (T/min)', 'Voltage (V)', 'Inner Lower Temperature', 'Outer Lower Temperature', 'Inner Upper Temperature', 'Outer Upper Temperature', '1st Stage Temperature', 'Shield Temperature', '2nd Stage Temperature', ]\n",
    "#     # value_cols = ['Elapsed time (minutes)','Setpoint (K)','Sensor A (K)','Sensor B (K)', 'Heater Output % (0-100)', 'Heater Range (integer 0-5)', 'Slope','Intercept','Sensor C (K) or sensor A (sensor unit)','Sensor D (K) or sensor B (sensor unit)']\n",
    "    \n",
    "#     # Convert the numeric columns to numeric format, handling non-numeric values as NaN\n",
    "#     for col in value_cols:\n",
    "#         group[col] = pd.to_numeric(group[col], errors='coerce')\n",
    "    \n",
    "#     # Select only numeric columns for resampling\n",
    "#     numeric_cols = group.select_dtypes(include='number').columns\n",
    "    \n",
    "#     # Resample the numeric columns to a fixed frequency\n",
    "#     group_resampled = group[numeric_cols].resample('1T').mean()  # Adjust '5S' to the desired frequency\n",
    "    \n",
    "#     # Handle missing values if necessary\n",
    "#     group_resampled = group_resampled.fillna(method='ffill')  # Forward fill missing values, or choose another appropriate method\n",
    "    \n",
    "#     # Convert the resampled DataFrame to a Darts TimeSeries object\n",
    "#     time_series = TimeSeries.from_dataframe(group_resampled, value_cols=value_cols)\n",
    "    \n",
    "#     time_series_list.append(time_series)\n"
   ]
  },
  {
   "cell_type": "code",
   "execution_count": 6,
   "id": "afa2c36d-e4ab-41b6-b5fe-f1ce5a5ddc8a",
   "metadata": {
    "tags": []
   },
   "outputs": [],
   "source": [
    "import pickle"
   ]
  },
  {
   "cell_type": "code",
   "execution_count": 7,
   "id": "d4c00dc4-f8b9-4d1a-afb3-b109186d2dcb",
   "metadata": {
    "tags": []
   },
   "outputs": [],
   "source": [
    "# with open('timeseries','wb') as f: pickle.dump(time_series_list, f)"
   ]
  },
  {
   "cell_type": "code",
   "execution_count": 10,
   "id": "1e92f779-fcf7-41a1-a571-8de452dc28c0",
   "metadata": {
    "tags": []
   },
   "outputs": [],
   "source": [
    "with open('timeseries','rb') as f: time_series_loaded = pickle.load(f)"
   ]
  },
  {
   "cell_type": "code",
   "execution_count": 11,
   "id": "9e7aa49b-d864-444d-b90d-4b35c68fa006",
   "metadata": {
    "tags": []
   },
   "outputs": [],
   "source": [
    "# print(time_series_loaded == time_series_list)"
   ]
  },
  {
   "cell_type": "code",
   "execution_count": 12,
   "id": "dd8bf198-502f-4382-b750-2bba47316dc9",
   "metadata": {
    "tags": []
   },
   "outputs": [],
   "source": [
    "time_series_list = time_series_loaded"
   ]
  },
  {
   "cell_type": "code",
   "execution_count": 13,
   "id": "4a51b977-e82f-47b3-9848-6820be02046c",
   "metadata": {
    "tags": []
   },
   "outputs": [],
   "source": [
    "# fix python path if working locally\n",
    "import pandas as pd\n",
    "import numpy as np\n",
    "import torch\n",
    "import matplotlib.pyplot as plt\n",
    "\n",
    "from darts import TimeSeries\n",
    "from darts.utils.timeseries_generation import (\n",
    "    gaussian_timeseries,\n",
    "    linear_timeseries,\n",
    "    sine_timeseries,\n",
    ")\n",
    "from darts.models import (\n",
    "    RNNModel,\n",
    "    TCNModel,\n",
    "    TransformerModel,\n",
    "    NBEATSModel,\n",
    "    BlockRNNModel,\n",
    "    VARIMA,\n",
    ")\n",
    "from darts.metrics import mape, smape, mae\n",
    "from darts.dataprocessing.transformers import Scaler\n",
    "from darts.utils.timeseries_generation import datetime_attribute_timeseries\n",
    "from darts.datasets import AirPassengersDataset, MonthlyMilkDataset, ElectricityDataset\n",
    "\n",
    "import logging\n",
    "\n",
    "logging.disable(logging.CRITICAL)\n",
    "\n",
    "import warnings\n",
    "\n",
    "warnings.filterwarnings(\"ignore\")\n",
    "\n",
    "%matplotlib inline\n",
    "\n",
    "# for reproducibility\n",
    "torch.manual_seed(1)\n",
    "np.random.seed(1)"
   ]
  },
  {
   "cell_type": "code",
   "execution_count": 14,
   "id": "c8cf2cb8-6836-4829-af72-22f3be89c828",
   "metadata": {
    "tags": []
   },
   "outputs": [],
   "source": [
    "time_series_list_scaled = []\n",
    "\n",
    "for time_series in time_series_list:\n",
    "    scaler = Scaler()\n",
    "    time_series_list_scaled.append(scaler.fit_transform(time_series))"
   ]
  },
  {
   "cell_type": "code",
   "execution_count": 15,
   "id": "36634d15-1023-48de-a9bf-0f1d5ae7b642",
   "metadata": {
    "tags": []
   },
   "outputs": [
    {
     "name": "stdout",
     "output_type": "stream",
     "text": [
      "Index(['Normalized Elapsed time (minutes)', 'Normalized Set B field (T)',\n",
      "       'Normalized B field (T)', 'Normalized Ramp speed (T/min)',\n",
      "       'Normalized Voltage (V)', 'Normalized Inner Lower Temperature',\n",
      "       'Normalized Outer Lower Temperature',\n",
      "       'Normalized Inner Upper Temperature',\n",
      "       'Normalized Outer Upper Temperature',\n",
      "       'Normalized 1st Stage Temperature', 'Normalized Shield Temperature',\n",
      "       'Normalized 2nd Stage Temperature'],\n",
      "      dtype='object', name='component')\n"
     ]
    }
   ],
   "source": [
    "# print(time_series_list_scaled[0].columns)\n",
    "from darts import TimeSeries\n",
    "temp = []\n",
    "# Assuming you have a Darts TimeSeries object named 'ts'\n",
    "\n",
    "# Convert the TimeSeries to a pandas DataFrame\n",
    "for ts in time_series_list_scaled:\n",
    "    df = ts.pd_dataframe()\n",
    "\n",
    "    # Rename the columns in the pandas DataFrame\n",
    "    new_column_names = ['Normalized Elapsed time (minutes)', 'Normalized Set B field (T)', 'Normalized B field (T)',\n",
    "       'Normalized Ramp speed (T/min)', 'Normalized Voltage (V)', 'Normalized Inner Lower Temperature',\n",
    "       'Normalized Outer Lower Temperature', 'Normalized Inner Upper Temperature',\n",
    "       'Normalized Outer Upper Temperature', 'Normalized 1st Stage Temperature',\n",
    "       'Normalized Shield Temperature', 'Normalized 2nd Stage Temperature']  # Replace with the new column names you want\n",
    "    df.columns = new_column_names\n",
    "\n",
    "    # Convert the modified pandas DataFrame back to a Darts TimeSeries\n",
    "    temp.append(TimeSeries.from_dataframe(df))\n",
    "time_series_list_scaled = temp\n",
    "print(time_series_list_scaled[0].columns)"
   ]
  },
  {
   "cell_type": "code",
   "execution_count": 16,
   "id": "af4e0a97-5477-463a-97a4-bfdb378bff0a",
   "metadata": {
    "tags": []
   },
   "outputs": [],
   "source": [
    "from darts import TimeSeries\n",
    "\n",
    "covariates = []\n",
    "for i in range(len(time_series_list)):\n",
    "    ts_df = (time_series_list[i]).pd_dataframe()\n",
    "    columns_to_keep = ['Set B field (T)', 'Elapsed time (minutes)', 'Ramp speed (T/min)', 'Inner Lower Temperature', \n",
    "                       'Outer Lower Temperature', 'Inner Upper Temperature',\n",
    "                       'Outer Upper Temperature', '1st Stage Temperature',\n",
    "                       'Shield Temperature', '2nd Stage Temperature']\n",
    "    covariate_ts_df = ts_df[columns_to_keep]\n",
    "    covariates.append(TimeSeries.from_dataframe(covariate_ts_df))\n"
   ]
  },
  {
   "cell_type": "code",
   "execution_count": 17,
   "id": "ae3c3109-a1d4-4642-821a-d9960e5d639d",
   "metadata": {
    "tags": []
   },
   "outputs": [
    {
     "name": "stdout",
     "output_type": "stream",
     "text": [
      "Index(['Set B field (T)', 'Elapsed time (minutes)', 'Ramp speed (T/min)',\n",
      "       'Inner Lower Temperature', 'Outer Lower Temperature',\n",
      "       'Inner Upper Temperature', 'Outer Upper Temperature',\n",
      "       '1st Stage Temperature', 'Shield Temperature', '2nd Stage Temperature',\n",
      "       'Normalized Elapsed time (minutes)', 'Normalized Set B field (T)',\n",
      "       'Normalized B field (T)', 'Normalized Ramp speed (T/min)',\n",
      "       'Normalized Voltage (V)', 'Normalized Inner Lower Temperature',\n",
      "       'Normalized Outer Lower Temperature',\n",
      "       'Normalized Inner Upper Temperature',\n",
      "       'Normalized Outer Upper Temperature',\n",
      "       'Normalized 1st Stage Temperature', 'Normalized Shield Temperature',\n",
      "       'Normalized 2nd Stage Temperature'],\n",
      "      dtype='object', name='component')\n"
     ]
    }
   ],
   "source": [
    "updated_covariates = []\n",
    "for i in range(len(covariates)):\n",
    "    df = covariates[i].pd_dataframe()\n",
    "    # for time_series in time_series_list_scaled:\n",
    "    temp = time_series_list_scaled[i].pd_dataframe()\n",
    "    for col in temp.columns:\n",
    "        df[col] = temp[col]\n",
    "    updated_covariates.append(TimeSeries.from_dataframe(df))\n",
    "    \n",
    "print(updated_covariates[0].columns)\n",
    "covariates = updated_covariates"
   ]
  },
  {
   "cell_type": "code",
   "execution_count": 18,
   "id": "fa7b3981-e744-401d-a41c-33f5fd36ecfd",
   "metadata": {
    "tags": []
   },
   "outputs": [
    {
     "name": "stdout",
     "output_type": "stream",
     "text": [
      "2\n"
     ]
    }
   ],
   "source": [
    "from darts import TimeSeries\n",
    "\n",
    "# ts_df = ts.pd_dataframe()\n",
    "time_final = []\n",
    "for i in range(len(time_series_list)):\n",
    "    ts_df = (time_series_list[i]).pd_dataframe()\n",
    "    columns_to_keep = ['B field (T)', 'Voltage (V)', ]\n",
    "    covariate_ts_df = ts_df[columns_to_keep]\n",
    "    time_final.append(TimeSeries.from_dataframe(covariate_ts_df))\n",
    "    \n",
    "print(len(time_final[0].columns))\n",
    "# time_final = time_series_list"
   ]
  },
  {
   "cell_type": "code",
   "execution_count": 19,
   "id": "726c4ffe-355a-4955-a4a0-17e2805f5776",
   "metadata": {
    "tags": []
   },
   "outputs": [],
   "source": [
    "# load data\n",
    "train, val = [], []\n",
    "VAL_LEN = 200\n",
    "temp1, temp2 = [], []\n",
    "\n",
    "for i in range(len(time_final)):\n",
    "    series = time_final[i]\n",
    "    train.append(series[:-VAL_LEN])\n",
    "    val.append(series[-VAL_LEN:])\n",
    "    temp1.append(covariates[i][-VAL_LEN:])\n",
    "    temp2.append(covariates[i][:-VAL_LEN])\n",
    "\n",
    "# for time_series in time_final:\n",
    "#     series = time_series.astype(np.float32)\n",
    "#     train.append(series[:-VAL_LEN])\n",
    "#     val.append(series[-VAL_LEN:])\n",
    "    \n",
    "    \n",
    "# for time_series in covariates:\n",
    "#     series = time_series.astype(np.float32)\n",
    "#     temp.append(series[:-VAL_LEN])\n",
    "val_past_covariates_past = temp1\n",
    "covariates = temp2\n",
    "\n",
    "# split in train / validation (note: in practice we would also need a test set)\n",
    "# train, val = \n"
   ]
  },
  {
   "cell_type": "code",
   "execution_count": 20,
   "id": "980a4155-96a9-4d84-8848-32198807cbdd",
   "metadata": {
    "tags": []
   },
   "outputs": [
    {
     "data": {
      "text/plain": [
       "dtype('float32')"
      ]
     },
     "execution_count": 20,
     "metadata": {},
     "output_type": "execute_result"
    }
   ],
   "source": [
    "train[1].dtype"
   ]
  },
  {
   "cell_type": "code",
   "execution_count": 21,
   "id": "2f017391-a6c5-4bd6-bba8-2f4498cbfb8e",
   "metadata": {
    "tags": []
   },
   "outputs": [
    {
     "name": "stdout",
     "output_type": "stream",
     "text": [
      "14390\n",
      "9634\n"
     ]
    }
   ],
   "source": [
    "print(len(train[0]))\n",
    "print(len(covariates[1]))"
   ]
  },
  {
   "cell_type": "code",
   "execution_count": 22,
   "id": "e0e04aa5-a26a-488b-9c37-521943a761b2",
   "metadata": {
    "tags": []
   },
   "outputs": [
    {
     "name": "stdout",
     "output_type": "stream",
     "text": [
      "200\n"
     ]
    }
   ],
   "source": [
    "print(len(val[0]))"
   ]
  },
  {
   "cell_type": "code",
   "execution_count": 23,
   "id": "e39265f1-d3c7-4ceb-887f-389cbcefcadf",
   "metadata": {
    "tags": []
   },
   "outputs": [],
   "source": [
    "train = train[:2]\n",
    "val = val[:2]\n",
    "covariates = covariates[:2]\n",
    "val_past_covariates_past = val_past_covariates_past[:2]"
   ]
  },
  {
   "cell_type": "code",
   "execution_count": 21,
   "id": "abcf9d0c-1fc1-478a-9acd-681a12eb6a19",
   "metadata": {
    "tags": []
   },
   "outputs": [],
   "source": [
    "# class Trial():\n",
    "#     def suggest_int(self, name, low, high):\n",
    "#         return low\n",
    "#     def suggest_categorical(self, name, cats):\n",
    "#         return cats[0]\n",
    "#     def suggest_float(self, name, low, high, log = False):\n",
    "#         return low\n",
    "        "
   ]
  },
  {
   "cell_type": "code",
   "execution_count": null,
   "id": "baab6177-bf2c-48c0-a5c3-4a600a1716fe",
   "metadata": {
    "tags": []
   },
   "outputs": [
    {
     "data": {
      "application/vnd.jupyter.widget-view+json": {
       "model_id": "",
       "version_major": 2,
       "version_minor": 0
      },
      "text/plain": [
       "Sanity Checking: 0it [00:00, ?it/s]"
      ]
     },
     "metadata": {},
     "output_type": "display_data"
    },
    {
     "data": {
      "application/vnd.jupyter.widget-view+json": {
       "model_id": "ee626ba432b3448c9634619eabf997a5",
       "version_major": 2,
       "version_minor": 0
      },
      "text/plain": [
       "Training: 0it [00:00, ?it/s]"
      ]
     },
     "metadata": {},
     "output_type": "display_data"
    },
    {
     "data": {
      "application/vnd.jupyter.widget-view+json": {
       "model_id": "",
       "version_major": 2,
       "version_minor": 0
      },
      "text/plain": [
       "Validation: 0it [00:00, ?it/s]"
      ]
     },
     "metadata": {},
     "output_type": "display_data"
    },
    {
     "data": {
      "application/vnd.jupyter.widget-view+json": {
       "model_id": "",
       "version_major": 2,
       "version_minor": 0
      },
      "text/plain": [
       "Validation: 0it [00:00, ?it/s]"
      ]
     },
     "metadata": {},
     "output_type": "display_data"
    },
    {
     "data": {
      "application/vnd.jupyter.widget-view+json": {
       "model_id": "",
       "version_major": 2,
       "version_minor": 0
      },
      "text/plain": [
       "Validation: 0it [00:00, ?it/s]"
      ]
     },
     "metadata": {},
     "output_type": "display_data"
    },
    {
     "data": {
      "application/vnd.jupyter.widget-view+json": {
       "model_id": "",
       "version_major": 2,
       "version_minor": 0
      },
      "text/plain": [
       "Validation: 0it [00:00, ?it/s]"
      ]
     },
     "metadata": {},
     "output_type": "display_data"
    },
    {
     "data": {
      "application/vnd.jupyter.widget-view+json": {
       "model_id": "0bded899b92a47d5a997da088a6b5872",
       "version_major": 2,
       "version_minor": 0
      },
      "text/plain": [
       "Predicting: 0it [00:00, ?it/s]"
      ]
     },
     "metadata": {},
     "output_type": "display_data"
    },
    {
     "data": {
      "application/vnd.jupyter.widget-view+json": {
       "model_id": "13ae0da73bd64895b08557cfe98e7277",
       "version_major": 2,
       "version_minor": 0
      },
      "text/plain": [
       "  0%|          | 0/1 [00:00<?, ?it/s]"
      ]
     },
     "metadata": {},
     "output_type": "display_data"
    },
    {
     "name": "stdout",
     "output_type": "stream",
     "text": [
      "Current value: 200.0, Current params: {'in_len': 96, 'out_len': 66, 'd_model_length': 62, 'num_encoder_layers_temp': 3, 'num_decoder_layers_temp': 4, 'kernel_size': 3, 'num_filters': 5, 'weight_norm': True, 'dilation_base': 2, 'dropout': 0.05086792551951613, 'lr': 0.0009630404524546119}\n",
      "Best value: 200.0, Best params: {'in_len': 96, 'out_len': 66, 'd_model_length': 62, 'num_encoder_layers_temp': 3, 'num_decoder_layers_temp': 4, 'kernel_size': 3, 'num_filters': 5, 'weight_norm': True, 'dilation_base': 2, 'dropout': 0.05086792551951613, 'lr': 0.0009630404524546119}\n"
     ]
    },
    {
     "data": {
      "application/vnd.jupyter.widget-view+json": {
       "model_id": "",
       "version_major": 2,
       "version_minor": 0
      },
      "text/plain": [
       "Sanity Checking: 0it [00:00, ?it/s]"
      ]
     },
     "metadata": {},
     "output_type": "display_data"
    },
    {
     "data": {
      "application/vnd.jupyter.widget-view+json": {
       "model_id": "db11565e28fa44809b5559036b1a5cd0",
       "version_major": 2,
       "version_minor": 0
      },
      "text/plain": [
       "Training: 0it [00:00, ?it/s]"
      ]
     },
     "metadata": {},
     "output_type": "display_data"
    },
    {
     "data": {
      "application/vnd.jupyter.widget-view+json": {
       "model_id": "",
       "version_major": 2,
       "version_minor": 0
      },
      "text/plain": [
       "Validation: 0it [00:00, ?it/s]"
      ]
     },
     "metadata": {},
     "output_type": "display_data"
    },
    {
     "data": {
      "application/vnd.jupyter.widget-view+json": {
       "model_id": "",
       "version_major": 2,
       "version_minor": 0
      },
      "text/plain": [
       "Validation: 0it [00:00, ?it/s]"
      ]
     },
     "metadata": {},
     "output_type": "display_data"
    },
    {
     "data": {
      "application/vnd.jupyter.widget-view+json": {
       "model_id": "",
       "version_major": 2,
       "version_minor": 0
      },
      "text/plain": [
       "Validation: 0it [00:00, ?it/s]"
      ]
     },
     "metadata": {},
     "output_type": "display_data"
    },
    {
     "data": {
      "application/vnd.jupyter.widget-view+json": {
       "model_id": "",
       "version_major": 2,
       "version_minor": 0
      },
      "text/plain": [
       "Validation: 0it [00:00, ?it/s]"
      ]
     },
     "metadata": {},
     "output_type": "display_data"
    },
    {
     "data": {
      "application/vnd.jupyter.widget-view+json": {
       "model_id": "ec97166fb30744d5a6ccc35c734e9a98",
       "version_major": 2,
       "version_minor": 0
      },
      "text/plain": [
       "Predicting: 0it [00:00, ?it/s]"
      ]
     },
     "metadata": {},
     "output_type": "display_data"
    },
    {
     "data": {
      "application/vnd.jupyter.widget-view+json": {
       "model_id": "6feae732bffe403d96e824071ec33a84",
       "version_major": 2,
       "version_minor": 0
      },
      "text/plain": [
       "  0%|          | 0/1 [00:00<?, ?it/s]"
      ]
     },
     "metadata": {},
     "output_type": "display_data"
    },
    {
     "name": "stdout",
     "output_type": "stream",
     "text": [
      "Current value: 200.0, Current params: {'in_len': 112, 'out_len': 36, 'd_model_length': 60, 'num_encoder_layers_temp': 4, 'num_decoder_layers_temp': 4, 'kernel_size': 2, 'num_filters': 2, 'weight_norm': False, 'dilation_base': 4, 'dropout': 0.0740368890118643, 'lr': 0.0005261755690624826}\n",
      "Best value: 200.0, Best params: {'in_len': 96, 'out_len': 66, 'd_model_length': 62, 'num_encoder_layers_temp': 3, 'num_decoder_layers_temp': 4, 'kernel_size': 3, 'num_filters': 5, 'weight_norm': True, 'dilation_base': 2, 'dropout': 0.05086792551951613, 'lr': 0.0009630404524546119}\n"
     ]
    },
    {
     "data": {
      "application/vnd.jupyter.widget-view+json": {
       "model_id": "",
       "version_major": 2,
       "version_minor": 0
      },
      "text/plain": [
       "Sanity Checking: 0it [00:00, ?it/s]"
      ]
     },
     "metadata": {},
     "output_type": "display_data"
    },
    {
     "data": {
      "application/vnd.jupyter.widget-view+json": {
       "model_id": "8609d1c435df4de3b9cf7e0afafb28dc",
       "version_major": 2,
       "version_minor": 0
      },
      "text/plain": [
       "Training: 0it [00:00, ?it/s]"
      ]
     },
     "metadata": {},
     "output_type": "display_data"
    }
   ],
   "source": [
    "import numpy as np\n",
    "import optuna\n",
    "import torch\n",
    "from optuna.integration import PyTorchLightningPruningCallback\n",
    "from pytorch_lightning.callbacks import EarlyStopping\n",
    "from sklearn.preprocessing import MaxAbsScaler\n",
    "\n",
    "from darts.dataprocessing.transformers import Scaler\n",
    "from darts.datasets import AirPassengersDataset\n",
    "from darts.metrics import smape\n",
    "from darts.models import TCNModel\n",
    "from darts.utils.likelihood_models import GaussianLikelihood\n",
    "\n",
    "# scale\n",
    "# scaler = Scaler(MaxAbsScaler())\n",
    "# train = scaler.fit_transform(train)\n",
    "# val = scaler.transform(val)\n",
    "\n",
    "# define objective function\n",
    "def objective(trial):\n",
    "    # select input and output chunk lengths\n",
    "    in_len = trial.suggest_int(\"in_len\", 15, 120)\n",
    "    out_len = trial.suggest_int(\"out_len\", 1, in_len-1)\n",
    "    d_model_length = trial.suggest_int(\"d_model_length\", 60, 68)\n",
    "    num_encoder_layers_temp = trial.suggest_int(\"num_encoder_layers_temp\", 1, 5)\n",
    "    num_decoder_layers_temp = trial.suggest_int(\"num_decoder_layers_temp\", 1, 5)\n",
    "\n",
    "    # Other hyperparameters\n",
    "    kernel_size = trial.suggest_int(\"kernel_size\", 2, 5)\n",
    "    num_filters = trial.suggest_int(\"num_filters\", 1, 5)\n",
    "    weight_norm = trial.suggest_categorical(\"weight_norm\", [False, True])\n",
    "    dilation_base = trial.suggest_int(\"dilation_base\", 2, 4)\n",
    "    dropout = trial.suggest_float(\"dropout\", 0.0, 0.4)\n",
    "    lr = trial.suggest_float(\"lr\", 5e-5, 1e-3, log=True)\n",
    "    # include_year = trial.suggest_categorical(\"year\", [False, True])\n",
    "\n",
    "    # throughout training we'll monitor the validation loss for both pruning and early stopping\n",
    "    pruner = PyTorchLightningPruningCallback(trial, monitor=\"val_loss\")\n",
    "    early_stopper = EarlyStopping(\"val_loss\", min_delta=0.001, patience=3, verbose=True)\n",
    "    callbacks = [pruner, early_stopper]\n",
    "    \n",
    "    num_workers = 4\n",
    "        \n",
    "    pl_trainer_kwargs = {\n",
    "        \"accelerator\": \"gpu\",\n",
    "        \"devices\": [0],\n",
    "        \"callbacks\": callbacks,\n",
    "    }\n",
    "\n",
    "    encoders = None #look into add encoders\n",
    "\n",
    "    # reproducibility\n",
    "    torch.manual_seed(42)\n",
    "    # kernel_size', 'num_filters', 'weight_norm', 'dilation_base']`\n",
    "    # build the TCN model\n",
    "    model = TransformerModel(\n",
    "        input_chunk_length=in_len,\n",
    "        output_chunk_length=out_len,\n",
    "        batch_size=32,\n",
    "        n_epochs=4,\n",
    "        nr_epochs_val_period=1,\n",
    "        num_encoder_layers = num_encoder_layers_temp,\n",
    "        num_decoder_layers = num_decoder_layers_temp,\n",
    "        # d_model = d_model_length,\n",
    "        dropout=dropout,\n",
    "        optimizer_kwargs={\"lr\": lr},\n",
    "        add_encoders=encoders,\n",
    "        likelihood=GaussianLikelihood(),\n",
    "        pl_trainer_kwargs=pl_trainer_kwargs,\n",
    "        model_name=\"tcn_model_1\",\n",
    "        force_reset=True,\n",
    "        save_checkpoints=True,\n",
    "    )\n",
    "    \n",
    "    # model = TransformerModel(\n",
    "    # input_chunk_length=in_len,\n",
    "    # output_chunk_length=out_len,\n",
    "    # model_name=\"test5\",\n",
    "    # activation=\"relu\",\n",
    "    # # random_state=42,\n",
    "    # save_checkpoints=True,\n",
    "    # # force_reset=True,\n",
    "    # pl_trainer_kwargs = {\"accelerator\": \"gpu\", \"devices\": [1]}\n",
    "    # )\n",
    "    \n",
    "    \n",
    "    # when validating during training, we can use a slightly longer validation\n",
    "    # set which also contains the first input_chunk_length time steps\n",
    "    # model_val_set = scaler.transform(series[-(VAL_LEN + in_len) :])\n",
    "    # model_val_set = []\n",
    "    # for time_series in time_final:\n",
    "    #     series = time_series.astype(np.float32)\n",
    "    #     model_val_set.append(series[-(VAL_LEN + in_len) :])\n",
    "\n",
    "    # train the model\n",
    "    model.fit(\n",
    "        series=train,\n",
    "        val_series=val,\n",
    "        num_loader_workers=1,\n",
    "        past_covariates = covariates,\n",
    "        val_past_covariates=val_past_covariates_past\n",
    "    )\n",
    "    \n",
    "#     model.fit(\n",
    "#         series=train,\n",
    "#         past_covariates=covariates,\n",
    "#     );\n",
    "\n",
    "    # reload best model over course of training\n",
    "    model = TransformerModel.load_from_checkpoint(\"tcn_model\")\n",
    "    \n",
    "    # Evaluate how good it is on the validation set, using sMAPE\n",
    "    preds = model.predict(series=train[0], n=VAL_LEN)\n",
    "    smapes = smape(val[0], preds, n_jobs=-1, verbose=True)\n",
    "    smape_val = np.mean(smapes)\n",
    "    # if smape_val== np.nan:\n",
    "    #     print(\"nan\")\n",
    "    return smape_val if smape_val != np.nan else float(\"inf\")\n",
    "\n",
    "\n",
    "# for convenience, print some optimization trials information\n",
    "def print_callback(study, trial):\n",
    "    print(f\"Current value: {trial.value}, Current params: {trial.params}\")\n",
    "    print(f\"Best value: {study.best_value}, Best params: {study.best_trial.params}\")\n",
    "\n",
    "\n",
    "# optimize hyperparameters by minimizing the sMAPE on the validation set\n",
    "def run_trial():\n",
    "    study = optuna.create_study(direction=\"minimize\")\n",
    "    study.optimize(objective, n_trials=3, callbacks=[print_callback])\n",
    "        \n",
    "if __name__ == \"__main__\":\n",
    "    run_trial()\n",
    "    # objective(Trial())\n"
   ]
  },
  {
   "cell_type": "code",
   "execution_count": 4,
   "id": "bcc82378-b86a-4065-98c4-1ba3e27cb4c1",
   "metadata": {
    "tags": []
   },
   "outputs": [
    {
     "name": "stderr",
     "output_type": "stream",
     "text": [
      "2023-07-31 08:43:10 darts.models WARNING: The statsforecast module could not be imported. To enable support for the StatsForecastAutoARIMA, StatsForecastAutoETS and Croston models, please consider installing it.\n"
     ]
    }
   ],
   "source": [
    "# fix python path if working locally\n",
    "import pandas as pd\n",
    "import numpy as np\n",
    "import torch\n",
    "import matplotlib.pyplot as plt\n",
    "import os\n",
    "\n",
    "from darts import TimeSeries\n",
    "from darts.utils.timeseries_generation import (\n",
    "    gaussian_timeseries,\n",
    "    linear_timeseries,\n",
    "    sine_timeseries,\n",
    ")\n",
    "from darts.models import (\n",
    "    RNNModel,\n",
    "    TCNModel,\n",
    "    TransformerModel,\n",
    "    NBEATSModel,\n",
    "    BlockRNNModel,\n",
    "    VARIMA,\n",
    ")\n",
    "from darts.metrics import mape, smape, mae\n",
    "from darts.dataprocessing.transformers import Scaler\n",
    "from darts.utils.timeseries_generation import datetime_attribute_timeseries\n",
    "from darts.datasets import AirPassengersDataset, MonthlyMilkDataset, ElectricityDataset\n",
    "\n",
    "import logging\n",
    "\n",
    "logging.disable(logging.CRITICAL)\n",
    "\n",
    "import warnings\n",
    "\n",
    "warnings.filterwarnings(\"ignore\")\n",
    "\n",
    "%matplotlib inline\n",
    "\n",
    "# for reproducibility\n",
    "torch.manual_seed(1)\n",
    "np.random.seed(1)"
   ]
  },
  {
   "cell_type": "code",
   "execution_count": 76,
   "id": "3d334c1b-a9f1-485b-98a4-deff14d155f2",
   "metadata": {
    "tags": []
   },
   "outputs": [],
   "source": [
    "num = 1"
   ]
  },
  {
   "cell_type": "code",
   "execution_count": 77,
   "id": "16237e4a-7aa9-42d2-96d1-b85e3f2fa4d0",
   "metadata": {
    "tags": []
   },
   "outputs": [],
   "source": [
    "loaded_model = TransformerModel.load_from_checkpoint('transformer-3386/T0002')"
   ]
  },
  {
   "cell_type": "code",
   "execution_count": 78,
   "id": "78cc9cbd-e9da-4f05-8358-e57956931403",
   "metadata": {
    "tags": []
   },
   "outputs": [
    {
     "data": {
      "application/vnd.jupyter.widget-view+json": {
       "model_id": "3f8892df12c64d1c9cd58f78f57716a1",
       "version_major": 2,
       "version_minor": 0
      },
      "text/plain": [
       "Predicting: 0it [00:00, ?it/s]"
      ]
     },
     "metadata": {},
     "output_type": "display_data"
    }
   ],
   "source": [
    "n_forecast = len(val[num])  # Replace `test` with your test set\n",
    "pred_series = loaded_model.predict(n=n_forecast, series=train[num])  # Adjust the `n` parameter as needed"
   ]
  },
  {
   "cell_type": "code",
   "execution_count": 79,
   "id": "a8f3fae0-e07a-4e11-b7c6-238873987e4c",
   "metadata": {
    "tags": []
   },
   "outputs": [
    {
     "name": "stdout",
     "output_type": "stream",
     "text": [
      "MAPE: 84.17%\n",
      "RMSE: 1.97\n"
     ]
    }
   ],
   "source": [
    "from darts.metrics import mape, rmse\n",
    "\n",
    "mape_score = mape(pred_series, val[num])  # Replace `test` with your true future values\n",
    "rmse_score = rmse(pred_series, val[num])  # Replace `test` with your true future values\n",
    "\n",
    "print(f\"MAPE: {mape_score:.2f}%\")\n",
    "print(f\"RMSE: {rmse_score:.2f}\")"
   ]
  },
  {
   "cell_type": "code",
   "execution_count": 80,
   "id": "30abfa62-6e97-4639-b1ec-5f54590c36a6",
   "metadata": {
    "tags": []
   },
   "outputs": [
    {
     "data": {
      "image/png": "[encoded data removed]",
      "text/plain": [
       "<Figure size 1000x600 with 1 Axes>"
      ]
     },
     "metadata": {},
     "output_type": "display_data"
    }
   ],
   "source": [
    "import matplotlib.pyplot as plt\n",
    "from darts import TimeSeries\n",
    "\n",
    "# Assuming you have a multivariate Darts time series named 'multivariate_time_series'\n",
    "\n",
    "# Convert the Darts time series to a Pandas DataFrame\n",
    "df = (pred_series).pd_dataframe()\n",
    "\n",
    "# Plotting the multivariate time series\n",
    "plt.figure(figsize=(10, 6))\n",
    "\n",
    "# Plot each variable separately\n",
    "for column in df.columns:\n",
    "    plt.plot(df.index, df[column], label=column)\n",
    "\n",
    "plt.xlabel('Time')\n",
    "plt.ylabel('Value')\n",
    "plt.title('Multivariate Time Series Plot')\n",
    "plt.legend()\n",
    "plt.grid(True)\n",
    "plt.show()\n"
   ]
  },
  {
   "cell_type": "code",
   "execution_count": 81,
   "id": "0bfeb9e0-8124-41c6-b481-05e82079132f",
   "metadata": {
    "tags": []
   },
   "outputs": [
    {
     "data": {
      "image/png": "[encoded data removed]",
      "text/plain": [
       "<Figure size 1000x600 with 1 Axes>"
      ]
     },
     "metadata": {},
     "output_type": "display_data"
    }
   ],
   "source": [
    "import matplotlib.pyplot as plt\n",
    "from darts import TimeSeries\n",
    "\n",
    "# Assuming you have a multivariate Darts time series named 'multivariate_time_series'\n",
    "\n",
    "# Convert the Darts time series to a Pandas DataFrame\n",
    "df = (val[num]).pd_dataframe()\n",
    "\n",
    "# Plotting the multivariate time series\n",
    "plt.figure(figsize=(10, 6))\n",
    "\n",
    "# Plot each variable separately\n",
    "for column in df.columns:\n",
    "    plt.plot(df.index, df[column], label=column)\n",
    "\n",
    "plt.xlabel('Time')\n",
    "plt.ylabel('Value')\n",
    "plt.title('Multivariate Time Series Plot')\n",
    "plt.legend()\n",
    "plt.grid(True)\n",
    "plt.show()\n"
   ]
  },
  {
   "cell_type": "code",
   "execution_count": null,
   "id": "870a96db-a070-4ed3-bf90-a2a38d427b0a",
   "metadata": {},
   "outputs": [],
   "source": []
  }
 ],
 "metadata": {
  "kernelspec": {
   "display_name": "Python 3 (ipykernel)",
   "language": "python",
   "name": "python3"
  },
  "language_info": {
   "codemirror_mode": {
    "name": "ipython",
    "version": 3
   },
   "file_extension": ".py",
   "mimetype": "text/x-python",
   "name": "python",
   "nbconvert_exporter": "python",
   "pygments_lexer": "ipython3",
   "version": "3.10.9"
  }
 },
 "nbformat": 4,
 "nbformat_minor": 5
}
