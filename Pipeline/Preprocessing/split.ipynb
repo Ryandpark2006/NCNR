{
 "cells": [
  {
   "cell_type": "code",
   "execution_count": 26,
   "id": "4b0cb560-87d3-4578-86af-ce500ad39db1",
   "metadata": {
    "tags": []
   },
   "outputs": [
    {
     "data": {
      "text/html": [
       "<div>\n",
       "<style scoped>\n",
       "    .dataframe tbody tr th:only-of-type {\n",
       "        vertical-align: middle;\n",
       "    }\n",
       "\n",
       "    .dataframe tbody tr th {\n",
       "        vertical-align: top;\n",
       "    }\n",
       "\n",
       "    .dataframe thead th {\n",
       "        text-align: right;\n",
       "    }\n",
       "</style>\n",
       "<table border=\"1\" class=\"dataframe\">\n",
       "  <thead>\n",
       "    <tr style=\"text-align: right;\">\n",
       "      <th></th>\n",
       "      <th>Timestamp</th>\n",
       "      <th>Elapsed time (minutes)</th>\n",
       "      <th>Set B field (T)</th>\n",
       "      <th>B field (T)</th>\n",
       "      <th>Ramp speed (T/min)</th>\n",
       "      <th>Voltage (V)</th>\n",
       "      <th>Inner Lower Temperature</th>\n",
       "      <th>Outer Lower Temperature</th>\n",
       "      <th>Inner Upper Temperature</th>\n",
       "      <th>Outer Upper Temperature</th>\n",
       "      <th>1st Stage Temperature</th>\n",
       "      <th>Shield Temperature</th>\n",
       "      <th>2nd Stage Temperature</th>\n",
       "      <th>Magnetism_ID</th>\n",
       "    </tr>\n",
       "  </thead>\n",
       "  <tbody>\n",
       "    <tr>\n",
       "      <th>0</th>\n",
       "      <td>02/08/2019 03:27:38 PM</td>\n",
       "      <td>2.805300</td>\n",
       "      <td>0.0</td>\n",
       "      <td>0.00000</td>\n",
       "      <td>0.000000</td>\n",
       "      <td>0.0</td>\n",
       "      <td>281.797983</td>\n",
       "      <td>285.092215</td>\n",
       "      <td>280.715422</td>\n",
       "      <td>283.969736</td>\n",
       "      <td>145.612162</td>\n",
       "      <td>279.920378</td>\n",
       "      <td>204.958080</td>\n",
       "      <td>./T10/20190208_SMS.txt</td>\n",
       "    </tr>\n",
       "    <tr>\n",
       "      <th>1</th>\n",
       "      <td>02/08/2019 03:28:01 PM</td>\n",
       "      <td>3.175539</td>\n",
       "      <td>0.0</td>\n",
       "      <td>0.00000</td>\n",
       "      <td>0.000000</td>\n",
       "      <td>0.0</td>\n",
       "      <td>281.768245</td>\n",
       "      <td>285.065814</td>\n",
       "      <td>280.686698</td>\n",
       "      <td>283.941646</td>\n",
       "      <td>145.521580</td>\n",
       "      <td>279.884569</td>\n",
       "      <td>204.900535</td>\n",
       "      <td>./T10/20190208_SMS.txt</td>\n",
       "    </tr>\n",
       "    <tr>\n",
       "      <th>2</th>\n",
       "      <td>02/08/2019 03:28:23 PM</td>\n",
       "      <td>3.554124</td>\n",
       "      <td>0.0</td>\n",
       "      <td>0.00000</td>\n",
       "      <td>0.000000</td>\n",
       "      <td>0.0</td>\n",
       "      <td>281.737322</td>\n",
       "      <td>285.041573</td>\n",
       "      <td>280.652349</td>\n",
       "      <td>283.915624</td>\n",
       "      <td>145.428632</td>\n",
       "      <td>279.849350</td>\n",
       "      <td>204.839601</td>\n",
       "      <td>./T10/20190208_SMS.txt</td>\n",
       "    </tr>\n",
       "    <tr>\n",
       "      <th>3</th>\n",
       "      <td>02/08/2019 03:28:46 PM</td>\n",
       "      <td>3.933961</td>\n",
       "      <td>0.0</td>\n",
       "      <td>0.00000</td>\n",
       "      <td>0.000000</td>\n",
       "      <td>0.0</td>\n",
       "      <td>281.704371</td>\n",
       "      <td>285.016645</td>\n",
       "      <td>280.621349</td>\n",
       "      <td>283.886878</td>\n",
       "      <td>145.337971</td>\n",
       "      <td>279.809776</td>\n",
       "      <td>204.778354</td>\n",
       "      <td>./T10/20190208_SMS.txt</td>\n",
       "    </tr>\n",
       "    <tr>\n",
       "      <th>4</th>\n",
       "      <td>02/08/2019 03:29:09 PM</td>\n",
       "      <td>4.314683</td>\n",
       "      <td>0.0</td>\n",
       "      <td>0.00000</td>\n",
       "      <td>0.000000</td>\n",
       "      <td>0.0</td>\n",
       "      <td>281.673613</td>\n",
       "      <td>284.987751</td>\n",
       "      <td>280.583256</td>\n",
       "      <td>283.856319</td>\n",
       "      <td>145.245554</td>\n",
       "      <td>279.771382</td>\n",
       "      <td>204.720981</td>\n",
       "      <td>./T10/20190208_SMS.txt</td>\n",
       "    </tr>\n",
       "    <tr>\n",
       "      <th>...</th>\n",
       "      <td>...</td>\n",
       "      <td>...</td>\n",
       "      <td>...</td>\n",
       "      <td>...</td>\n",
       "      <td>...</td>\n",
       "      <td>...</td>\n",
       "      <td>...</td>\n",
       "      <td>...</td>\n",
       "      <td>...</td>\n",
       "      <td>...</td>\n",
       "      <td>...</td>\n",
       "      <td>...</td>\n",
       "      <td>...</td>\n",
       "      <td>...</td>\n",
       "    </tr>\n",
       "    <tr>\n",
       "      <th>2789982</th>\n",
       "      <td>03/20/2019 10:24:29 AM</td>\n",
       "      <td>9833.385706</td>\n",
       "      <td>0.0</td>\n",
       "      <td>-0.00000</td>\n",
       "      <td>0.006867</td>\n",
       "      <td>0.0</td>\n",
       "      <td>5.073398</td>\n",
       "      <td>5.019095</td>\n",
       "      <td>4.877788</td>\n",
       "      <td>4.965012</td>\n",
       "      <td>41.333217</td>\n",
       "      <td>63.687044</td>\n",
       "      <td>3.241164</td>\n",
       "      <td>././T10/20190313_SMS.txt</td>\n",
       "    </tr>\n",
       "    <tr>\n",
       "      <th>2789983</th>\n",
       "      <td>03/20/2019 10:24:35 AM</td>\n",
       "      <td>9833.491933</td>\n",
       "      <td>0.0</td>\n",
       "      <td>-0.00426</td>\n",
       "      <td>0.006867</td>\n",
       "      <td>0.0</td>\n",
       "      <td>5.071438</td>\n",
       "      <td>5.017297</td>\n",
       "      <td>4.876068</td>\n",
       "      <td>4.963015</td>\n",
       "      <td>41.332443</td>\n",
       "      <td>63.700309</td>\n",
       "      <td>3.242243</td>\n",
       "      <td>././T10/20190313_SMS.txt</td>\n",
       "    </tr>\n",
       "    <tr>\n",
       "      <th>2789984</th>\n",
       "      <td>03/20/2019 10:24:42 AM</td>\n",
       "      <td>9833.604840</td>\n",
       "      <td>0.0</td>\n",
       "      <td>-0.00000</td>\n",
       "      <td>0.006867</td>\n",
       "      <td>0.0</td>\n",
       "      <td>5.069822</td>\n",
       "      <td>5.015468</td>\n",
       "      <td>4.874303</td>\n",
       "      <td>4.960119</td>\n",
       "      <td>41.331908</td>\n",
       "      <td>63.710247</td>\n",
       "      <td>3.248909</td>\n",
       "      <td>././T10/20190313_SMS.txt</td>\n",
       "    </tr>\n",
       "    <tr>\n",
       "      <th>2789985</th>\n",
       "      <td>03/20/2019 10:24:48 AM</td>\n",
       "      <td>9833.707356</td>\n",
       "      <td>0.0</td>\n",
       "      <td>-0.00000</td>\n",
       "      <td>0.006867</td>\n",
       "      <td>0.0</td>\n",
       "      <td>5.068294</td>\n",
       "      <td>5.013746</td>\n",
       "      <td>4.872636</td>\n",
       "      <td>4.958283</td>\n",
       "      <td>41.331908</td>\n",
       "      <td>63.720780</td>\n",
       "      <td>3.325273</td>\n",
       "      <td>././T10/20190313_SMS.txt</td>\n",
       "    </tr>\n",
       "    <tr>\n",
       "      <th>2789986</th>\n",
       "      <td>03/20/2019 10:24:54 AM</td>\n",
       "      <td>9833.811411</td>\n",
       "      <td>0.0</td>\n",
       "      <td>-0.00000</td>\n",
       "      <td>0.006867</td>\n",
       "      <td>0.0</td>\n",
       "      <td>5.067143</td>\n",
       "      <td>5.012027</td>\n",
       "      <td>4.871808</td>\n",
       "      <td>4.957342</td>\n",
       "      <td>41.332640</td>\n",
       "      <td>63.733202</td>\n",
       "      <td>3.376410</td>\n",
       "      <td>././T10/20190313_SMS.txt</td>\n",
       "    </tr>\n",
       "  </tbody>\n",
       "</table>\n",
       "<p>2789987 rows × 14 columns</p>\n",
       "</div>"
      ],
      "text/plain": [
       "                      Timestamp  Elapsed time (minutes)  Set B field (T)  \\\n",
       "0        02/08/2019 03:27:38 PM                2.805300              0.0   \n",
       "1        02/08/2019 03:28:01 PM                3.175539              0.0   \n",
       "2        02/08/2019 03:28:23 PM                3.554124              0.0   \n",
       "3        02/08/2019 03:28:46 PM                3.933961              0.0   \n",
       "4        02/08/2019 03:29:09 PM                4.314683              0.0   \n",
       "...                         ...                     ...              ...   \n",
       "2789982  03/20/2019 10:24:29 AM             9833.385706              0.0   \n",
       "2789983  03/20/2019 10:24:35 AM             9833.491933              0.0   \n",
       "2789984  03/20/2019 10:24:42 AM             9833.604840              0.0   \n",
       "2789985  03/20/2019 10:24:48 AM             9833.707356              0.0   \n",
       "2789986  03/20/2019 10:24:54 AM             9833.811411              0.0   \n",
       "\n",
       "         B field (T)  Ramp speed (T/min)  Voltage (V)  \\\n",
       "0            0.00000            0.000000          0.0   \n",
       "1            0.00000            0.000000          0.0   \n",
       "2            0.00000            0.000000          0.0   \n",
       "3            0.00000            0.000000          0.0   \n",
       "4            0.00000            0.000000          0.0   \n",
       "...              ...                 ...          ...   \n",
       "2789982     -0.00000            0.006867          0.0   \n",
       "2789983     -0.00426            0.006867          0.0   \n",
       "2789984     -0.00000            0.006867          0.0   \n",
       "2789985     -0.00000            0.006867          0.0   \n",
       "2789986     -0.00000            0.006867          0.0   \n",
       "\n",
       "         Inner Lower Temperature  Outer Lower Temperature  \\\n",
       "0                     281.797983               285.092215   \n",
       "1                     281.768245               285.065814   \n",
       "2                     281.737322               285.041573   \n",
       "3                     281.704371               285.016645   \n",
       "4                     281.673613               284.987751   \n",
       "...                          ...                      ...   \n",
       "2789982                 5.073398                 5.019095   \n",
       "2789983                 5.071438                 5.017297   \n",
       "2789984                 5.069822                 5.015468   \n",
       "2789985                 5.068294                 5.013746   \n",
       "2789986                 5.067143                 5.012027   \n",
       "\n",
       "         Inner Upper Temperature  Outer Upper Temperature  \\\n",
       "0                     280.715422               283.969736   \n",
       "1                     280.686698               283.941646   \n",
       "2                     280.652349               283.915624   \n",
       "3                     280.621349               283.886878   \n",
       "4                     280.583256               283.856319   \n",
       "...                          ...                      ...   \n",
       "2789982                 4.877788                 4.965012   \n",
       "2789983                 4.876068                 4.963015   \n",
       "2789984                 4.874303                 4.960119   \n",
       "2789985                 4.872636                 4.958283   \n",
       "2789986                 4.871808                 4.957342   \n",
       "\n",
       "         1st Stage Temperature  Shield Temperature  2nd Stage Temperature  \\\n",
       "0                   145.612162          279.920378             204.958080   \n",
       "1                   145.521580          279.884569             204.900535   \n",
       "2                   145.428632          279.849350             204.839601   \n",
       "3                   145.337971          279.809776             204.778354   \n",
       "4                   145.245554          279.771382             204.720981   \n",
       "...                        ...                 ...                    ...   \n",
       "2789982              41.333217           63.687044               3.241164   \n",
       "2789983              41.332443           63.700309               3.242243   \n",
       "2789984              41.331908           63.710247               3.248909   \n",
       "2789985              41.331908           63.720780               3.325273   \n",
       "2789986              41.332640           63.733202               3.376410   \n",
       "\n",
       "                     Magnetism_ID  \n",
       "0          ./T10/20190208_SMS.txt  \n",
       "1          ./T10/20190208_SMS.txt  \n",
       "2          ./T10/20190208_SMS.txt  \n",
       "3          ./T10/20190208_SMS.txt  \n",
       "4          ./T10/20190208_SMS.txt  \n",
       "...                           ...  \n",
       "2789982  ././T10/20190313_SMS.txt  \n",
       "2789983  ././T10/20190313_SMS.txt  \n",
       "2789984  ././T10/20190313_SMS.txt  \n",
       "2789985  ././T10/20190313_SMS.txt  \n",
       "2789986  ././T10/20190313_SMS.txt  \n",
       "\n",
       "[2789987 rows x 14 columns]"
      ]
     },
     "execution_count": 26,
     "metadata": {},
     "output_type": "execute_result"
    }
   ],
   "source": [
    "import pandas as pd\n",
    "\n",
    "df = pd.read_csv(\"magnetism.csv\")\n",
    "df"
   ]
  },
  {
   "cell_type": "code",
   "execution_count": 27,
   "id": "f6f29486-fa8b-477f-895d-2cfcdad4707d",
   "metadata": {
    "tags": []
   },
   "outputs": [],
   "source": [
    "float64_cols = list(df.select_dtypes(include='float64'))\n",
    "df[float64_cols] = df[float64_cols].astype('float32')"
   ]
  },
  {
   "cell_type": "code",
   "execution_count": 28,
   "id": "205236da-ccf0-4690-b98a-c651a1b25baf",
   "metadata": {
    "tags": []
   },
   "outputs": [
    {
     "name": "stderr",
     "output_type": "stream",
     "text": [
      "/tmp/ipykernel_2996322/2093529370.py:9: UserWarning: Could not infer format, so each element will be parsed individually, falling back to `dateutil`. To ensure parsing is consistent and as-expected, please specify a format.\n",
      "  df['Timestamp'] = pd.to_datetime(df['Timestamp'])\n"
     ]
    }
   ],
   "source": [
    "import pandas as pd\n",
    "from darts import TimeSeries\n",
    "\n",
    "# Assuming 'your_dataset.csv' is a string containing the dataset\n",
    "\n",
    "# df = pd.read_csv(pd.compat.StringIO('your_dataset.csv'))\n",
    "\n",
    "# Convert the 'Timestamp' column to datetime type\n",
    "df['Timestamp'] = pd.to_datetime(df['Timestamp'])\n",
    "\n",
    "time_series_list = []\n",
    "for ccr_id, group in df.groupby('Magnetism_ID'):\n",
    "    # Sort the group by 'Timestamp' if not already sorted\n",
    "    group.sort_values('Timestamp', inplace=True)\n",
    "    \n",
    "    # Set the 'Timestamp' column as the index\n",
    "    group.set_index('Timestamp', inplace=True)\n",
    "    \n",
    "    # Exclude the 'CCR_ID' column from numeric conversion and resampling\n",
    "    value_cols = ['Elapsed time (minutes)', 'Set B field (T)', 'B field (T)', 'Ramp speed (T/min)', 'Voltage (V)', 'Inner Lower Temperature', 'Outer Lower Temperature', 'Inner Upper Temperature', 'Outer Upper Temperature', '1st Stage Temperature', 'Shield Temperature', '2nd Stage Temperature', ]\n",
    "    # value_cols = ['Elapsed time (minutes)','Setpoint (K)','Sensor A (K)','Sensor B (K)', 'Heater Output % (0-100)', 'Heater Range (integer 0-5)', 'Slope','Intercept','Sensor C (K) or sensor A (sensor unit)','Sensor D (K) or sensor B (sensor unit)']\n",
    "    \n",
    "    # Convert the numeric columns to numeric format, handling non-numeric values as NaN\n",
    "    for col in value_cols:\n",
    "        group[col] = pd.to_numeric(group[col], errors='coerce')\n",
    "    \n",
    "    # Select only numeric columns for resampling\n",
    "    numeric_cols = group.select_dtypes(include='number').columns\n",
    "    \n",
    "    # Resample the numeric columns to a fixed frequency\n",
    "    group_resampled = group[numeric_cols].resample('1T').mean()  # Adjust '5S' to the desired frequency\n",
    "    \n",
    "    # Handle missing values if necessary\n",
    "    group_resampled = group_resampled.fillna(method='ffill')  # Forward fill missing values, or choose another appropriate method\n",
    "    \n",
    "    # Convert the resampled DataFrame to a Darts TimeSeries object\n",
    "    time_series = TimeSeries.from_dataframe(group_resampled, value_cols=value_cols)\n",
    "    \n",
    "    time_series_list.append(time_series)\n"
   ]
  },
  {
   "cell_type": "code",
   "execution_count": null,
   "id": "e57391a3-a7f7-4d65-8edf-847d7ce9f602",
   "metadata": {
    "tags": []
   },
   "outputs": [],
   "source": [
    "print(len(time_series_list))"
   ]
  },
  {
   "cell_type": "code",
   "execution_count": 29,
   "id": "63ed1a06-7c86-4263-86c1-d27b3149d5a4",
   "metadata": {
    "tags": []
   },
   "outputs": [
    {
     "name": "stdout",
     "output_type": "stream",
     "text": [
      "307\n"
     ]
    }
   ],
   "source": [
    "updated_list = []\n",
    "for time_series in time_series_list:\n",
    "    for i in range(len(time_series)//1000):\n",
    "        updated_list.append(time_series[i*1000:(i+1)*1000])\n",
    "print(len(updated_list))"
   ]
  },
  {
   "cell_type": "code",
   "execution_count": null,
   "id": "f73f883a-3a5d-4121-8bb3-789e99d74818",
   "metadata": {
    "tags": []
   },
   "outputs": [],
   "source": [
    "updated_list[1].columns"
   ]
  },
  {
   "cell_type": "code",
   "execution_count": null,
   "id": "6be02904-3bd2-42c4-9fc4-1c6aa522b91d",
   "metadata": {
    "tags": []
   },
   "outputs": [],
   "source": [
    "print(len(time_series_list[1]))"
   ]
  },
  {
   "cell_type": "code",
   "execution_count": 32,
   "id": "5cb20b24-4df6-42d9-83b6-b550eeba1a08",
   "metadata": {
    "tags": []
   },
   "outputs": [],
   "source": [
    "import pandas as pd\n",
    "from darts import TimeSeries\n",
    "\n",
    "# Assuming 'your_dataset.csv' is a string containing the dataset\n",
    "# df = pd.read_csv(pd.compat.StringIO('your_dataset.csv'))\n",
    "\n",
    "# Convert the 'Timestamp' column to datetime type\n",
    "df['Timestamp'] = pd.to_datetime(df['Timestamp'])\n",
    "\n",
    "# Create a deep copy of the DataFrame to preserve the original 'df'\n",
    "copy = df.copy()\n",
    "\n",
    "subsection = 0\n",
    "for magnetism_id, group in df.groupby('Magnetism_ID'):\n",
    "    # Sort the group by 'Timestamp' if not already sorted\n",
    "    group.sort_values('Timestamp', inplace=True)\n",
    "    \n",
    "    # Create a new 'Subsection' column and initialize it with NaN values in the 'copy' DataFrame\n",
    "    copy.loc[group.index, 'Subsection'] = float('nan')\n",
    "    \n",
    "    # Create subsections of 600 records each\n",
    "    num_subsections = len(group) // 1000\n",
    "    for i in range(num_subsections):\n",
    "        copy.loc[group.index[i * 1000: (i + 1) * 1000], 'Subsection'] = subsection\n",
    "        subsection += 1\n",
    "\n",
    "    # Assign the remaining records to the last subsection\n",
    "    remainder = len(group) % 1000\n",
    "    # if remainder > 1800:\n",
    "    #     copy.loc[group.index[-remainder:], 'Subsection'] = subsection\n",
    "    #     subsection += 1\n",
    "\n",
    "# If you want to see the 'Subsection' column in the 'copy' DataFrame:\n",
    "# print(copy['Subsection'])\n"
   ]
  },
  {
   "cell_type": "code",
   "execution_count": 96,
   "id": "291a3f01-c51c-4871-abae-5e6ed7650244",
   "metadata": {
    "tags": []
   },
   "outputs": [
    {
     "name": "stdout",
     "output_type": "stream",
     "text": [
      "2789987\n"
     ]
    }
   ],
   "source": [
    "print(len(copy))"
   ]
  },
  {
   "cell_type": "code",
   "execution_count": 97,
   "id": "b40fb551-c8f8-4e53-9416-eb0c3c888cc9",
   "metadata": {},
   "outputs": [
    {
     "data": {
      "text/plain": [
       "1394"
      ]
     },
     "execution_count": 97,
     "metadata": {},
     "output_type": "execute_result"
    }
   ],
   "source": [
    "2789987//2000"
   ]
  },
  {
   "cell_type": "code",
   "execution_count": 33,
   "id": "f833a426-f4fc-4d9b-b819-628b03181ff6",
   "metadata": {
    "tags": []
   },
   "outputs": [],
   "source": [
    "copy.to_csv('magnetism_split_1000.csv', index=False)"
   ]
  },
  {
   "cell_type": "code",
   "execution_count": 87,
   "id": "f88b007e-9206-4394-a44c-787ecb617336",
   "metadata": {
    "tags": []
   },
   "outputs": [],
   "source": [
    "result = copy[copy['Subsection'] == 0]"
   ]
  },
  {
   "cell_type": "code",
   "execution_count": 88,
   "id": "4abe0129-d2e4-4f17-bf26-2bba0f92f05f",
   "metadata": {
    "tags": []
   },
   "outputs": [
    {
     "name": "stdout",
     "output_type": "stream",
     "text": [
      "                  Timestamp  Elapsed time (minutes)  Set B field (T)  \\\n",
      "1975971 2019-02-19 12:55:40                0.195535              0.0   \n",
      "1975972 2019-02-19 12:55:46                0.309618              0.0   \n",
      "1975973 2019-02-19 12:55:53                0.417890              0.0   \n",
      "1975974 2019-02-19 12:55:59                0.524773              0.0   \n",
      "1975975 2019-02-19 12:56:06                0.630357              0.0   \n",
      "...                     ...                     ...              ...   \n",
      "1977966 2019-02-19 16:32:16              216.798080              0.0   \n",
      "1977967 2019-02-19 16:32:22              216.908188              0.0   \n",
      "1977968 2019-02-19 16:32:29              217.019394              0.0   \n",
      "1977969 2019-02-19 16:32:36              217.129593              0.0   \n",
      "1977970 2019-02-19 16:32:42              217.238525              0.0   \n",
      "\n",
      "         B field (T)  Ramp speed (T/min)  Voltage (V)  \\\n",
      "1975971      0.00426            0.091565         -0.1   \n",
      "1975972      0.00000            0.091565          0.0   \n",
      "1975973      0.00390            0.091565          0.0   \n",
      "1975974      0.00355            0.091565          0.0   \n",
      "1975975      0.00000            0.091565          0.0   \n",
      "...              ...                 ...          ...   \n",
      "1977966      0.00000            0.091565          0.0   \n",
      "1977967      0.00355            0.091565          0.0   \n",
      "1977968      0.00355            0.091565          0.0   \n",
      "1977969      0.00355            0.091565          0.0   \n",
      "1977970      0.00000            0.091565          0.0   \n",
      "\n",
      "         Inner Lower Temperature  Outer Lower Temperature  \\\n",
      "1975971                 4.960760                 4.897986   \n",
      "1975972                 4.960894                 4.898110   \n",
      "1975973                 4.961061                 4.898216   \n",
      "1975974                 4.961165                 4.898531   \n",
      "1975975                 4.961268                 4.898466   \n",
      "...                          ...                      ...   \n",
      "1977966                 4.941671                 4.877638   \n",
      "1977967                 4.941874                 4.877524   \n",
      "1977968                 4.942007                 4.877516   \n",
      "1977969                 4.941674                 4.877534   \n",
      "1977970                 4.941701                 4.877747   \n",
      "\n",
      "         Inner Upper Temperature  Outer Upper Temperature  \\\n",
      "1975971                 4.767648                 4.844874   \n",
      "1975972                 4.767785                 4.845005   \n",
      "1975973                 4.767931                 4.845133   \n",
      "1975974                 4.768043                 4.845255   \n",
      "1975975                 4.768210                 4.845380   \n",
      "...                          ...                      ...   \n",
      "1977966                 4.744552                 4.821526   \n",
      "1977967                 4.744558                 4.821545   \n",
      "1977968                 4.744554                 4.821571   \n",
      "1977969                 4.744595                 4.821572   \n",
      "1977970                 4.744579                 4.821545   \n",
      "\n",
      "         1st Stage Temperature  Shield Temperature  2nd Stage Temperature  \\\n",
      "1975971              41.731113           61.176704               3.258367   \n",
      "1975972              41.728718           61.181225               3.283702   \n",
      "1975973              41.726109           61.185841               3.383965   \n",
      "1975974              41.722797           61.191486               3.398193   \n",
      "1975975              41.719872           61.195839               3.253410   \n",
      "...                        ...                 ...                    ...   \n",
      "1977966              40.526749           64.834656               3.395942   \n",
      "1977967              40.527927           64.835739               3.324428   \n",
      "1977968              40.526527           64.833229               3.249458   \n",
      "1977969              40.526432           64.835106               3.247623   \n",
      "1977970              40.526844           64.834999               3.248220   \n",
      "\n",
      "                     Magnetism_ID  Subsection  \n",
      "1975971  ././T10/20190219_SMS.txt         0.0  \n",
      "1975972  ././T10/20190219_SMS.txt         0.0  \n",
      "1975973  ././T10/20190219_SMS.txt         0.0  \n",
      "1975974  ././T10/20190219_SMS.txt         0.0  \n",
      "1975975  ././T10/20190219_SMS.txt         0.0  \n",
      "...                           ...         ...  \n",
      "1977966  ././T10/20190219_SMS.txt         0.0  \n",
      "1977967  ././T10/20190219_SMS.txt         0.0  \n",
      "1977968  ././T10/20190219_SMS.txt         0.0  \n",
      "1977969  ././T10/20190219_SMS.txt         0.0  \n",
      "1977970  ././T10/20190219_SMS.txt         0.0  \n",
      "\n",
      "[2000 rows x 15 columns]\n"
     ]
    }
   ],
   "source": [
    "print(result)"
   ]
  },
  {
   "cell_type": "code",
   "execution_count": 30,
   "id": "fa709f80-e32f-40d3-90c2-3f342615c10e",
   "metadata": {},
   "outputs": [],
   "source": [
    "import pickle\n",
    "with open('timeseries_1000','wb') as f: pickle.dump(updated_list, f)"
   ]
  },
  {
   "cell_type": "code",
   "execution_count": 11,
   "id": "b93548a5-b30c-4d8a-9dd1-05d91c4db652",
   "metadata": {
    "tags": []
   },
   "outputs": [
    {
     "data": {
      "text/plain": [
       "'/storage/rwp2/Pipeline/Preprocessing'"
      ]
     },
     "execution_count": 11,
     "metadata": {},
     "output_type": "execute_result"
    }
   ],
   "source": [
    "cd .."
   ]
  },
  {
   "cell_type": "code",
   "execution_count": null,
   "id": "89f4bcdd-3918-4b50-b683-9c31f99ea7bf",
   "metadata": {},
   "outputs": [],
   "source": []
  }
 ],
 "metadata": {
  "kernelspec": {
   "display_name": "Python 3 (ipykernel)",
   "language": "python",
   "name": "python3"
  },
  "language_info": {
   "codemirror_mode": {
    "name": "ipython",
    "version": 3
   },
   "file_extension": ".py",
   "mimetype": "text/x-python",
   "name": "python",
   "nbconvert_exporter": "python",
   "pygments_lexer": "ipython3",
   "version": "3.10.9"
  }
 },
 "nbformat": 4,
 "nbformat_minor": 5
}
