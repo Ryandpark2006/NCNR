{
 "cells": [
  {
   "cell_type": "code",
   "execution_count": 1,
   "id": "95e7adf3-8b79-4fd1-9243-70a36c7c56ab",
   "metadata": {
    "execution": {
     "iopub.execute_input": "2023-07-27T18:22:31.238385Z",
     "iopub.status.busy": "2023-07-27T18:22:31.236337Z",
     "iopub.status.idle": "2023-07-27T18:22:31.259696Z",
     "shell.execute_reply": "2023-07-27T18:22:31.257395Z"
    }
   },
   "outputs": [
    {
     "name": "stdout",
     "output_type": "stream",
     "text": [
      "hello\n"
     ]
    }
   ],
   "source": [
    "print(\"hello\")"
   ]
  }
 ],
 "metadata": {
  "kernelspec": {
   "display_name": "Python 3 (ipykernel)",
   "language": "python",
   "name": "python3"
  },
  "language_info": {
   "codemirror_mode": {
    "name": "ipython",
    "version": 3
   },
   "file_extension": ".py",
   "mimetype": "text/x-python",
   "name": "python",
   "nbconvert_exporter": "python",
   "pygments_lexer": "ipython3",
   "version": "3.10.9"
  }
 },
 "nbformat": 4,
 "nbformat_minor": 5
}
