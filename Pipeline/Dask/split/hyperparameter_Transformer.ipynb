{
 "cells": [
  {
   "cell_type": "code",
   "execution_count": 4,
   "id": "edbd61a4-9118-42b9-ba29-6893bd620923",
   "metadata": {
    "tags": []
   },
   "outputs": [
    {
     "data": {
      "text/html": [
       "<div>\n",
       "<style scoped>\n",
       "    .dataframe tbody tr th:only-of-type {\n",
       "        vertical-align: middle;\n",
       "    }\n",
       "\n",
       "    .dataframe tbody tr th {\n",
       "        vertical-align: top;\n",
       "    }\n",
       "\n",
       "    .dataframe thead th {\n",
       "        text-align: right;\n",
       "    }\n",
       "</style>\n",
       "<table border=\"1\" class=\"dataframe\">\n",
       "  <thead>\n",
       "    <tr style=\"text-align: right;\">\n",
       "      <th></th>\n",
       "      <th>Timestamp</th>\n",
       "      <th>Elapsed time (minutes)</th>\n",
       "      <th>Set B field (T)</th>\n",
       "      <th>B field (T)</th>\n",
       "      <th>Ramp speed (T/min)</th>\n",
       "      <th>Voltage (V)</th>\n",
       "      <th>Inner Lower Temperature</th>\n",
       "      <th>Outer Lower Temperature</th>\n",
       "      <th>Inner Upper Temperature</th>\n",
       "      <th>Outer Upper Temperature</th>\n",
       "      <th>1st Stage Temperature</th>\n",
       "      <th>Shield Temperature</th>\n",
       "      <th>2nd Stage Temperature</th>\n",
       "      <th>Magnetism_ID</th>\n",
       "      <th>Subsection</th>\n",
       "    </tr>\n",
       "  </thead>\n",
       "  <tbody>\n",
       "    <tr>\n",
       "      <th>0</th>\n",
       "      <td>2019-02-08 15:27:38</td>\n",
       "      <td>2.805300</td>\n",
       "      <td>0.0</td>\n",
       "      <td>0.00000</td>\n",
       "      <td>0.000000</td>\n",
       "      <td>0.0</td>\n",
       "      <td>281.797970</td>\n",
       "      <td>285.092220</td>\n",
       "      <td>280.715420</td>\n",
       "      <td>283.969730</td>\n",
       "      <td>145.612170</td>\n",
       "      <td>279.920380</td>\n",
       "      <td>204.958080</td>\n",
       "      <td>./T10/20190208_SMS.txt</td>\n",
       "      <td>1323.0</td>\n",
       "    </tr>\n",
       "    <tr>\n",
       "      <th>1</th>\n",
       "      <td>2019-02-08 15:28:01</td>\n",
       "      <td>3.175539</td>\n",
       "      <td>0.0</td>\n",
       "      <td>0.00000</td>\n",
       "      <td>0.000000</td>\n",
       "      <td>0.0</td>\n",
       "      <td>281.768250</td>\n",
       "      <td>285.065830</td>\n",
       "      <td>280.686700</td>\n",
       "      <td>283.941650</td>\n",
       "      <td>145.521580</td>\n",
       "      <td>279.884580</td>\n",
       "      <td>204.900530</td>\n",
       "      <td>./T10/20190208_SMS.txt</td>\n",
       "      <td>1323.0</td>\n",
       "    </tr>\n",
       "    <tr>\n",
       "      <th>2</th>\n",
       "      <td>2019-02-08 15:28:23</td>\n",
       "      <td>3.554124</td>\n",
       "      <td>0.0</td>\n",
       "      <td>0.00000</td>\n",
       "      <td>0.000000</td>\n",
       "      <td>0.0</td>\n",
       "      <td>281.737340</td>\n",
       "      <td>285.041560</td>\n",
       "      <td>280.652340</td>\n",
       "      <td>283.915620</td>\n",
       "      <td>145.428630</td>\n",
       "      <td>279.849370</td>\n",
       "      <td>204.839600</td>\n",
       "      <td>./T10/20190208_SMS.txt</td>\n",
       "      <td>1323.0</td>\n",
       "    </tr>\n",
       "    <tr>\n",
       "      <th>3</th>\n",
       "      <td>2019-02-08 15:28:46</td>\n",
       "      <td>3.933961</td>\n",
       "      <td>0.0</td>\n",
       "      <td>0.00000</td>\n",
       "      <td>0.000000</td>\n",
       "      <td>0.0</td>\n",
       "      <td>281.704380</td>\n",
       "      <td>285.016630</td>\n",
       "      <td>280.621340</td>\n",
       "      <td>283.886870</td>\n",
       "      <td>145.337970</td>\n",
       "      <td>279.809780</td>\n",
       "      <td>204.778350</td>\n",
       "      <td>./T10/20190208_SMS.txt</td>\n",
       "      <td>1323.0</td>\n",
       "    </tr>\n",
       "    <tr>\n",
       "      <th>4</th>\n",
       "      <td>2019-02-08 15:29:09</td>\n",
       "      <td>4.314683</td>\n",
       "      <td>0.0</td>\n",
       "      <td>0.00000</td>\n",
       "      <td>0.000000</td>\n",
       "      <td>0.0</td>\n",
       "      <td>281.673600</td>\n",
       "      <td>284.987760</td>\n",
       "      <td>280.583250</td>\n",
       "      <td>283.856320</td>\n",
       "      <td>145.245560</td>\n",
       "      <td>279.771400</td>\n",
       "      <td>204.720980</td>\n",
       "      <td>./T10/20190208_SMS.txt</td>\n",
       "      <td>1323.0</td>\n",
       "    </tr>\n",
       "    <tr>\n",
       "      <th>...</th>\n",
       "      <td>...</td>\n",
       "      <td>...</td>\n",
       "      <td>...</td>\n",
       "      <td>...</td>\n",
       "      <td>...</td>\n",
       "      <td>...</td>\n",
       "      <td>...</td>\n",
       "      <td>...</td>\n",
       "      <td>...</td>\n",
       "      <td>...</td>\n",
       "      <td>...</td>\n",
       "      <td>...</td>\n",
       "      <td>...</td>\n",
       "      <td>...</td>\n",
       "      <td>...</td>\n",
       "    </tr>\n",
       "    <tr>\n",
       "      <th>2789982</th>\n",
       "      <td>2019-03-20 10:24:29</td>\n",
       "      <td>9833.386000</td>\n",
       "      <td>0.0</td>\n",
       "      <td>-0.00000</td>\n",
       "      <td>0.006867</td>\n",
       "      <td>0.0</td>\n",
       "      <td>5.073398</td>\n",
       "      <td>5.019095</td>\n",
       "      <td>4.877788</td>\n",
       "      <td>4.965012</td>\n",
       "      <td>41.333218</td>\n",
       "      <td>63.687042</td>\n",
       "      <td>3.241164</td>\n",
       "      <td>././T10/20190313_SMS.txt</td>\n",
       "      <td>NaN</td>\n",
       "    </tr>\n",
       "    <tr>\n",
       "      <th>2789983</th>\n",
       "      <td>2019-03-20 10:24:35</td>\n",
       "      <td>9833.492000</td>\n",
       "      <td>0.0</td>\n",
       "      <td>-0.00426</td>\n",
       "      <td>0.006867</td>\n",
       "      <td>0.0</td>\n",
       "      <td>5.071438</td>\n",
       "      <td>5.017297</td>\n",
       "      <td>4.876068</td>\n",
       "      <td>4.963015</td>\n",
       "      <td>41.332443</td>\n",
       "      <td>63.700310</td>\n",
       "      <td>3.242243</td>\n",
       "      <td>././T10/20190313_SMS.txt</td>\n",
       "      <td>NaN</td>\n",
       "    </tr>\n",
       "    <tr>\n",
       "      <th>2789984</th>\n",
       "      <td>2019-03-20 10:24:42</td>\n",
       "      <td>9833.604500</td>\n",
       "      <td>0.0</td>\n",
       "      <td>-0.00000</td>\n",
       "      <td>0.006867</td>\n",
       "      <td>0.0</td>\n",
       "      <td>5.069822</td>\n",
       "      <td>5.015468</td>\n",
       "      <td>4.874303</td>\n",
       "      <td>4.960119</td>\n",
       "      <td>41.331910</td>\n",
       "      <td>63.710247</td>\n",
       "      <td>3.248909</td>\n",
       "      <td>././T10/20190313_SMS.txt</td>\n",
       "      <td>NaN</td>\n",
       "    </tr>\n",
       "    <tr>\n",
       "      <th>2789985</th>\n",
       "      <td>2019-03-20 10:24:48</td>\n",
       "      <td>9833.707000</td>\n",
       "      <td>0.0</td>\n",
       "      <td>-0.00000</td>\n",
       "      <td>0.006867</td>\n",
       "      <td>0.0</td>\n",
       "      <td>5.068294</td>\n",
       "      <td>5.013746</td>\n",
       "      <td>4.872636</td>\n",
       "      <td>4.958283</td>\n",
       "      <td>41.331910</td>\n",
       "      <td>63.720780</td>\n",
       "      <td>3.325273</td>\n",
       "      <td>././T10/20190313_SMS.txt</td>\n",
       "      <td>NaN</td>\n",
       "    </tr>\n",
       "    <tr>\n",
       "      <th>2789986</th>\n",
       "      <td>2019-03-20 10:24:54</td>\n",
       "      <td>9833.812000</td>\n",
       "      <td>0.0</td>\n",
       "      <td>-0.00000</td>\n",
       "      <td>0.006867</td>\n",
       "      <td>0.0</td>\n",
       "      <td>5.067143</td>\n",
       "      <td>5.012027</td>\n",
       "      <td>4.871808</td>\n",
       "      <td>4.957342</td>\n",
       "      <td>41.332640</td>\n",
       "      <td>63.733204</td>\n",
       "      <td>3.376410</td>\n",
       "      <td>././T10/20190313_SMS.txt</td>\n",
       "      <td>NaN</td>\n",
       "    </tr>\n",
       "  </tbody>\n",
       "</table>\n",
       "<p>2789987 rows × 15 columns</p>\n",
       "</div>"
      ],
      "text/plain": [
       "                   Timestamp  Elapsed time (minutes)  Set B field (T)  \\\n",
       "0        2019-02-08 15:27:38                2.805300              0.0   \n",
       "1        2019-02-08 15:28:01                3.175539              0.0   \n",
       "2        2019-02-08 15:28:23                3.554124              0.0   \n",
       "3        2019-02-08 15:28:46                3.933961              0.0   \n",
       "4        2019-02-08 15:29:09                4.314683              0.0   \n",
       "...                      ...                     ...              ...   \n",
       "2789982  2019-03-20 10:24:29             9833.386000              0.0   \n",
       "2789983  2019-03-20 10:24:35             9833.492000              0.0   \n",
       "2789984  2019-03-20 10:24:42             9833.604500              0.0   \n",
       "2789985  2019-03-20 10:24:48             9833.707000              0.0   \n",
       "2789986  2019-03-20 10:24:54             9833.812000              0.0   \n",
       "\n",
       "         B field (T)  Ramp speed (T/min)  Voltage (V)  \\\n",
       "0            0.00000            0.000000          0.0   \n",
       "1            0.00000            0.000000          0.0   \n",
       "2            0.00000            0.000000          0.0   \n",
       "3            0.00000            0.000000          0.0   \n",
       "4            0.00000            0.000000          0.0   \n",
       "...              ...                 ...          ...   \n",
       "2789982     -0.00000            0.006867          0.0   \n",
       "2789983     -0.00426            0.006867          0.0   \n",
       "2789984     -0.00000            0.006867          0.0   \n",
       "2789985     -0.00000            0.006867          0.0   \n",
       "2789986     -0.00000            0.006867          0.0   \n",
       "\n",
       "         Inner Lower Temperature  Outer Lower Temperature  \\\n",
       "0                     281.797970               285.092220   \n",
       "1                     281.768250               285.065830   \n",
       "2                     281.737340               285.041560   \n",
       "3                     281.704380               285.016630   \n",
       "4                     281.673600               284.987760   \n",
       "...                          ...                      ...   \n",
       "2789982                 5.073398                 5.019095   \n",
       "2789983                 5.071438                 5.017297   \n",
       "2789984                 5.069822                 5.015468   \n",
       "2789985                 5.068294                 5.013746   \n",
       "2789986                 5.067143                 5.012027   \n",
       "\n",
       "         Inner Upper Temperature  Outer Upper Temperature  \\\n",
       "0                     280.715420               283.969730   \n",
       "1                     280.686700               283.941650   \n",
       "2                     280.652340               283.915620   \n",
       "3                     280.621340               283.886870   \n",
       "4                     280.583250               283.856320   \n",
       "...                          ...                      ...   \n",
       "2789982                 4.877788                 4.965012   \n",
       "2789983                 4.876068                 4.963015   \n",
       "2789984                 4.874303                 4.960119   \n",
       "2789985                 4.872636                 4.958283   \n",
       "2789986                 4.871808                 4.957342   \n",
       "\n",
       "         1st Stage Temperature  Shield Temperature  2nd Stage Temperature  \\\n",
       "0                   145.612170          279.920380             204.958080   \n",
       "1                   145.521580          279.884580             204.900530   \n",
       "2                   145.428630          279.849370             204.839600   \n",
       "3                   145.337970          279.809780             204.778350   \n",
       "4                   145.245560          279.771400             204.720980   \n",
       "...                        ...                 ...                    ...   \n",
       "2789982              41.333218           63.687042               3.241164   \n",
       "2789983              41.332443           63.700310               3.242243   \n",
       "2789984              41.331910           63.710247               3.248909   \n",
       "2789985              41.331910           63.720780               3.325273   \n",
       "2789986              41.332640           63.733204               3.376410   \n",
       "\n",
       "                     Magnetism_ID  Subsection  \n",
       "0          ./T10/20190208_SMS.txt      1323.0  \n",
       "1          ./T10/20190208_SMS.txt      1323.0  \n",
       "2          ./T10/20190208_SMS.txt      1323.0  \n",
       "3          ./T10/20190208_SMS.txt      1323.0  \n",
       "4          ./T10/20190208_SMS.txt      1323.0  \n",
       "...                           ...         ...  \n",
       "2789982  ././T10/20190313_SMS.txt         NaN  \n",
       "2789983  ././T10/20190313_SMS.txt         NaN  \n",
       "2789984  ././T10/20190313_SMS.txt         NaN  \n",
       "2789985  ././T10/20190313_SMS.txt         NaN  \n",
       "2789986  ././T10/20190313_SMS.txt         NaN  \n",
       "\n",
       "[2789987 rows x 15 columns]"
      ]
     },
     "execution_count": 4,
     "metadata": {},
     "output_type": "execute_result"
    }
   ],
   "source": [
    "# import pandas as pd\n",
    "\n",
    "# df = pd.read_csv(\"magnetism_split.csv\")\n",
    "# df"
   ]
  },
  {
   "cell_type": "code",
   "execution_count": 5,
   "id": "f0433077-efa7-4a8f-a539-d5aff712c255",
   "metadata": {
    "tags": []
   },
   "outputs": [],
   "source": [
    "# float64_cols = list(df.select_dtypes(include='float64'))\n",
    "# df[float64_cols] = df[float64_cols].astype('float32')"
   ]
  },
  {
   "cell_type": "code",
   "execution_count": 3,
   "id": "31da903a-5788-4a8b-b409-705b77b3a303",
   "metadata": {
    "tags": []
   },
   "outputs": [],
   "source": [
    "# df.iloc[:,3].values.dtype"
   ]
  },
  {
   "cell_type": "code",
   "execution_count": 6,
   "id": "06c4efde-177d-4543-973e-910b9ef6fb0a",
   "metadata": {},
   "outputs": [],
   "source": [
    "# import pandas as pd\n",
    "# from darts import TimeSeries\n",
    "\n",
    "# # Assuming 'your_dataset.csv' is a string containing the dataset\n",
    "\n",
    "# # df = pd.read_csv(pd.compat.StringIO('your_dataset.csv'))\n",
    "\n",
    "# # Convert the 'Timestamp' column to datetime type\n",
    "# df['Timestamp'] = pd.to_datetime(df['Timestamp'])\n",
    "\n",
    "# time_series_list = []\n",
    "# for ccr_id, group in df.groupby('Subsection'):\n",
    "#     # Sort the group by 'Timestamp' if not already sorted\n",
    "#     group.sort_values('Timestamp', inplace=True)\n",
    "    \n",
    "#     # Set the 'Timestamp' column as the index\n",
    "#     group.set_index('Timestamp', inplace=True)\n",
    "    \n",
    "#     # Exclude the 'CCR_ID' column from numeric conversion and resampling\n",
    "#     value_cols = ['Elapsed time (minutes)', 'Set B field (T)', 'B field (T)', 'Ramp speed (T/min)', 'Voltage (V)', 'Inner Lower Temperature', 'Outer Lower Temperature', 'Inner Upper Temperature', 'Outer Upper Temperature', '1st Stage Temperature', 'Shield Temperature', '2nd Stage Temperature', ]\n",
    "#     # value_cols = ['Elapsed time (minutes)','Setpoint (K)','Sensor A (K)','Sensor B (K)', 'Heater Output % (0-100)', 'Heater Range (integer 0-5)', 'Slope','Intercept','Sensor C (K) or sensor A (sensor unit)','Sensor D (K) or sensor B (sensor unit)']\n",
    "    \n",
    "#     # Convert the numeric columns to numeric format, handling non-numeric values as NaN\n",
    "#     for col in value_cols:\n",
    "#         group[col] = pd.to_numeric(group[col], errors='coerce')\n",
    "    \n",
    "#     # Select only numeric columns for resampling\n",
    "#     numeric_cols = group.select_dtypes(include='number').columns\n",
    "    \n",
    "#     # Resample the numeric columns to a fixed frequency\n",
    "#     group_resampled = group[numeric_cols].resample('1T').mean()  # Adjust '5S' to the desired frequency\n",
    "    \n",
    "#     # Handle missing values if necessary\n",
    "#     group_resampled = group_resampled.fillna(method='ffill')  # Forward fill missing values, or choose another appropriate method\n",
    "    \n",
    "#     # Convert the resampled DataFrame to a Darts TimeSeries object\n",
    "#     time_series = TimeSeries.from_dataframe(group_resampled, value_cols=value_cols)\n",
    "    \n",
    "#     time_series_list.append(time_series)\n"
   ]
  },
  {
   "cell_type": "code",
   "execution_count": 7,
   "id": "895525ed-f4c8-4490-82c8-d3390e3e65ae",
   "metadata": {
    "tags": []
   },
   "outputs": [
    {
     "data": {
      "text/plain": [
       "218"
      ]
     },
     "execution_count": 7,
     "metadata": {},
     "output_type": "execute_result"
    }
   ],
   "source": [
    "len(time_series_list[0])"
   ]
  },
  {
   "cell_type": "code",
   "execution_count": 2,
   "id": "afa2c36d-e4ab-41b6-b5fe-f1ce5a5ddc8a",
   "metadata": {
    "tags": []
   },
   "outputs": [],
   "source": [
    "import pickle"
   ]
  },
  {
   "cell_type": "code",
   "execution_count": 27,
   "id": "d4c00dc4-f8b9-4d1a-afb3-b109186d2dcb",
   "metadata": {
    "tags": []
   },
   "outputs": [],
   "source": [
    "# with open('timeseries_split_1T','wb') as f: pickle.dump(time_series_list, f)"
   ]
  },
  {
   "cell_type": "code",
   "execution_count": null,
   "id": "570fa241-1785-4ccf-8798-df0101d4640b",
   "metadata": {
    "tags": []
   },
   "outputs": [
    {
     "name": "stdout",
     "output_type": "stream",
     "text": [
      "[Errno 2] No such file or directory: 'split'\n",
      "/storage/rwp2/Pipeline/Dask/split\n"
     ]
    }
   ],
   "source": [
    "cd split"
   ]
  },
  {
   "cell_type": "code",
   "execution_count": 3,
   "id": "1e92f779-fcf7-41a1-a571-8de452dc28c0",
   "metadata": {
    "tags": []
   },
   "outputs": [],
   "source": [
    "with open('timeseries_4000','rb') as f: time_series_loaded = pickle.load(f)"
   ]
  },
  {
   "cell_type": "code",
   "execution_count": 4,
   "id": "9e7aa49b-d864-444d-b90d-4b35c68fa006",
   "metadata": {
    "tags": []
   },
   "outputs": [],
   "source": [
    "# print(time_series_loaded == time_series_list)"
   ]
  },
  {
   "cell_type": "code",
   "execution_count": 5,
   "id": "838bf62e-b881-43cb-9af0-a30c88dcc8a9",
   "metadata": {
    "tags": []
   },
   "outputs": [],
   "source": [
    "# print(len(time_series_list[0]))"
   ]
  },
  {
   "cell_type": "code",
   "execution_count": 6,
   "id": "dd8bf198-502f-4382-b750-2bba47316dc9",
   "metadata": {
    "tags": []
   },
   "outputs": [],
   "source": [
    "time_series_list = time_series_loaded"
   ]
  },
  {
   "cell_type": "code",
   "execution_count": 7,
   "id": "ae41fe6c-f235-4725-b68f-6c7c60e8defc",
   "metadata": {
    "tags": []
   },
   "outputs": [
    {
     "name": "stdout",
     "output_type": "stream",
     "text": [
      "66\n"
     ]
    }
   ],
   "source": [
    "print(len(time_series_list))"
   ]
  },
  {
   "cell_type": "code",
   "execution_count": 8,
   "id": "4a51b977-e82f-47b3-9848-6820be02046c",
   "metadata": {
    "tags": []
   },
   "outputs": [
    {
     "name": "stderr",
     "output_type": "stream",
     "text": [
      "2023-08-11 09:08:10 darts.models WARNING: The statsforecast module could not be imported. To enable support for the StatsForecastAutoARIMA, StatsForecastAutoETS and Croston models, please consider installing it.\n"
     ]
    }
   ],
   "source": [
    "# fix python path if working locally\n",
    "import pandas as pd\n",
    "import numpy as np\n",
    "import torch\n",
    "import matplotlib.pyplot as plt\n",
    "\n",
    "from darts import TimeSeries\n",
    "from darts.utils.timeseries_generation import (\n",
    "    gaussian_timeseries,\n",
    "    linear_timeseries,\n",
    "    sine_timeseries,\n",
    ")\n",
    "from darts.models import (\n",
    "    RNNModel,\n",
    "    TCNModel,\n",
    "    TransformerModel,\n",
    "    NBEATSModel,\n",
    "    BlockRNNModel,\n",
    "    VARIMA,\n",
    ")\n",
    "from darts.metrics import mape, smape, mae\n",
    "from darts.dataprocessing.transformers import Scaler\n",
    "from darts.utils.timeseries_generation import datetime_attribute_timeseries\n",
    "from darts.datasets import AirPassengersDataset, MonthlyMilkDataset, ElectricityDataset\n",
    "\n",
    "import logging\n",
    "\n",
    "logging.disable(logging.CRITICAL)\n",
    "\n",
    "import warnings\n",
    "\n",
    "warnings.filterwarnings(\"ignore\")\n",
    "\n",
    "%matplotlib inline\n",
    "\n",
    "# for reproducibility\n",
    "torch.manual_seed(1)\n",
    "np.random.seed(1)"
   ]
  },
  {
   "cell_type": "code",
   "execution_count": 9,
   "id": "c8cf2cb8-6836-4829-af72-22f3be89c828",
   "metadata": {
    "tags": []
   },
   "outputs": [],
   "source": [
    "time_series_list_scaled = []\n",
    "\n",
    "for time_series in time_series_list:\n",
    "    scaler = Scaler()\n",
    "    time_series_list_scaled.append(scaler.fit_transform(time_series))"
   ]
  },
  {
   "cell_type": "code",
   "execution_count": 10,
   "id": "36634d15-1023-48de-a9bf-0f1d5ae7b642",
   "metadata": {
    "tags": []
   },
   "outputs": [
    {
     "name": "stdout",
     "output_type": "stream",
     "text": [
      "Index(['Normalized Elapsed time (minutes)', 'Normalized Set B field (T)',\n",
      "       'Normalized B field (T)', 'Normalized Ramp speed (T/min)',\n",
      "       'Normalized Voltage (V)', 'Normalized Inner Lower Temperature',\n",
      "       'Normalized Outer Lower Temperature',\n",
      "       'Normalized Inner Upper Temperature',\n",
      "       'Normalized Outer Upper Temperature',\n",
      "       'Normalized 1st Stage Temperature', 'Normalized Shield Temperature',\n",
      "       'Normalized 2nd Stage Temperature'],\n",
      "      dtype='object', name='component')\n"
     ]
    }
   ],
   "source": [
    "# print(time_series_list_scaled[0].columns)\n",
    "from darts import TimeSeries\n",
    "temp = []\n",
    "# Assuming you have a Darts TimeSeries object named 'ts'\n",
    "\n",
    "# Convert the TimeSeries to a pandas DataFrame\n",
    "for ts in time_series_list_scaled:\n",
    "    df = ts.pd_dataframe()\n",
    "\n",
    "    # Rename the columns in the pandas DataFrame\n",
    "    new_column_names = ['Normalized Elapsed time (minutes)', 'Normalized Set B field (T)', 'Normalized B field (T)',\n",
    "       'Normalized Ramp speed (T/min)', 'Normalized Voltage (V)', 'Normalized Inner Lower Temperature',\n",
    "       'Normalized Outer Lower Temperature', 'Normalized Inner Upper Temperature',\n",
    "       'Normalized Outer Upper Temperature', 'Normalized 1st Stage Temperature',\n",
    "       'Normalized Shield Temperature', 'Normalized 2nd Stage Temperature']  # Replace with the new column names you want\n",
    "    df.columns = new_column_names\n",
    "\n",
    "    # Convert the modified pandas DataFrame back to a Darts TimeSeries\n",
    "    temp.append(TimeSeries.from_dataframe(df))\n",
    "time_series_list_scaled = temp\n",
    "print(time_series_list_scaled[0].columns)"
   ]
  },
  {
   "cell_type": "code",
   "execution_count": 11,
   "id": "af4e0a97-5477-463a-97a4-bfdb378bff0a",
   "metadata": {
    "tags": []
   },
   "outputs": [],
   "source": [
    "from darts import TimeSeries\n",
    "\n",
    "covariates = []\n",
    "for i in range(len(time_series_list)):\n",
    "    ts_df = (time_series_list[i]).pd_dataframe()\n",
    "    columns_to_keep = ['Set B field (T)', 'Elapsed time (minutes)', 'Ramp speed (T/min)', 'Inner Lower Temperature', \n",
    "                       'Outer Lower Temperature', 'Inner Upper Temperature',\n",
    "                       'Outer Upper Temperature', '1st Stage Temperature',\n",
    "                       'Shield Temperature', '2nd Stage Temperature']\n",
    "    covariate_ts_df = ts_df[columns_to_keep]\n",
    "    covariates.append(TimeSeries.from_dataframe(covariate_ts_df))\n"
   ]
  },
  {
   "cell_type": "code",
   "execution_count": 12,
   "id": "ae3c3109-a1d4-4642-821a-d9960e5d639d",
   "metadata": {
    "tags": []
   },
   "outputs": [
    {
     "name": "stdout",
     "output_type": "stream",
     "text": [
      "Index(['Set B field (T)', 'Elapsed time (minutes)', 'Ramp speed (T/min)',\n",
      "       'Inner Lower Temperature', 'Outer Lower Temperature',\n",
      "       'Inner Upper Temperature', 'Outer Upper Temperature',\n",
      "       '1st Stage Temperature', 'Shield Temperature', '2nd Stage Temperature',\n",
      "       'Normalized Elapsed time (minutes)', 'Normalized Set B field (T)',\n",
      "       'Normalized B field (T)', 'Normalized Ramp speed (T/min)',\n",
      "       'Normalized Voltage (V)', 'Normalized Inner Lower Temperature',\n",
      "       'Normalized Outer Lower Temperature',\n",
      "       'Normalized Inner Upper Temperature',\n",
      "       'Normalized Outer Upper Temperature',\n",
      "       'Normalized 1st Stage Temperature', 'Normalized Shield Temperature',\n",
      "       'Normalized 2nd Stage Temperature'],\n",
      "      dtype='object', name='component')\n"
     ]
    }
   ],
   "source": [
    "updated_covariates = []\n",
    "for i in range(len(covariates)):\n",
    "    df = covariates[i].pd_dataframe()\n",
    "    # for time_series in time_series_list_scaled:\n",
    "    temp = time_series_list_scaled[i].pd_dataframe()\n",
    "    for col in temp.columns:\n",
    "        df[col] = temp[col]\n",
    "    updated_covariates.append(TimeSeries.from_dataframe(df))\n",
    "    \n",
    "print(updated_covariates[0].columns)\n",
    "covariates = updated_covariates"
   ]
  },
  {
   "cell_type": "code",
   "execution_count": 13,
   "id": "fa7b3981-e744-401d-a41c-33f5fd36ecfd",
   "metadata": {
    "tags": []
   },
   "outputs": [
    {
     "name": "stdout",
     "output_type": "stream",
     "text": [
      "10\n"
     ]
    }
   ],
   "source": [
    "from darts import TimeSeries\n",
    "\n",
    "# ts_df = ts.pd_dataframe()\n",
    "time_final = []\n",
    "for i in range(len(time_series_list)):\n",
    "    ts_df = (time_series_list[i]).pd_dataframe()\n",
    "    columns_to_keep = ['B field (T)', 'Voltage (V)', 'Ramp speed (T/min)', 'Inner Lower Temperature', \n",
    "            'Outer Lower Temperature', 'Inner Upper Temperature',\n",
    "            'Outer Upper Temperature', '1st Stage Temperature',\n",
    "            'Shield Temperature', '2nd Stage Temperature']\n",
    "    covariate_ts_df = ts_df[columns_to_keep]\n",
    "    time_final.append(TimeSeries.from_dataframe(covariate_ts_df))\n",
    "    \n",
    "print(len(time_final[0].columns ))\n",
    "# time_final = time_series_list"
   ]
  },
  {
   "cell_type": "code",
   "execution_count": 14,
   "id": "138036d5-a15f-4a62-893d-4eff8bcfd658",
   "metadata": {
    "tags": []
   },
   "outputs": [
    {
     "name": "stdout",
     "output_type": "stream",
     "text": [
      "66\n"
     ]
    }
   ],
   "source": [
    "print(len(time_final))"
   ]
  },
  {
   "cell_type": "code",
   "execution_count": 15,
   "id": "726c4ffe-355a-4955-a4a0-17e2805f5776",
   "metadata": {
    "tags": []
   },
   "outputs": [],
   "source": [
    "# load data\n",
    "train, val = [], []\n",
    "VAL_LEN = 300\n",
    "temp1, temp2 = [], []\n",
    "\n",
    "for i in range(len(time_final)):\n",
    "    series = time_final[i]\n",
    "    train.append(series[:-VAL_LEN])\n",
    "    val.append(series[-VAL_LEN:])\n",
    "    temp1.append(covariates[i][-VAL_LEN:])\n",
    "    temp2.append(covariates[i][:-VAL_LEN])\n",
    "\n",
    "# for time_series in time_final:\n",
    "#     series = time_series.astype(np.float32)\n",
    "#     train.append(series[:-VAL_LEN])\n",
    "#     val.append(series[-VAL_LEN:])\n",
    "    \n",
    "    \n",
    "# for time_series in covariates:\n",
    "#     series = time_series.astype(np.float32)\n",
    "#     temp.append(series[:-VAL_LEN])\n",
    "val_past_covariates_past = temp1\n",
    "covariates = temp2\n",
    "\n",
    "# split in train / validation (note: in practice we would also need a test set)\n",
    "# train, val = \n"
   ]
  },
  {
   "cell_type": "code",
   "execution_count": null,
   "id": "980a4155-96a9-4d84-8848-32198807cbdd",
   "metadata": {
    "tags": []
   },
   "outputs": [
    {
     "data": {
      "text/plain": [
       "dtype('float32')"
      ]
     },
     "execution_count": 16,
     "metadata": {},
     "output_type": "execute_result"
    }
   ],
   "source": [
    "train[1].dtype"
   ]
  },
  {
   "cell_type": "code",
   "execution_count": null,
   "id": "9bc94e9b-795a-4fd2-9661-8ee3a1f76403",
   "metadata": {
    "tags": []
   },
   "outputs": [
    {
     "data": {
      "text/plain": [
       "66"
      ]
     },
     "execution_count": 17,
     "metadata": {},
     "output_type": "execute_result"
    }
   ],
   "source": [
    "len(train)"
   ]
  },
  {
   "cell_type": "code",
   "execution_count": null,
   "id": "2f017391-a6c5-4bd6-bba8-2f4498cbfb8e",
   "metadata": {
    "tags": []
   },
   "outputs": [
    {
     "name": "stdout",
     "output_type": "stream",
     "text": [
      "3700\n",
      "3700\n"
     ]
    }
   ],
   "source": [
    "print(len(train[0]))\n",
    "print(len(covariates[1]))"
   ]
  },
  {
   "cell_type": "code",
   "execution_count": null,
   "id": "58747933-dc37-47ee-87c0-922cffc43c2d",
   "metadata": {
    "tags": []
   },
   "outputs": [
    {
     "data": {
      "text/html": [
       "<div><svg style=\"position: absolute; width: 0; height: 0; overflow: hidden\">\n",
       "<defs>\n",
       "<symbol id=\"icon-database\" viewBox=\"0 0 32 32\">\n",
       "<path d=\"M16 0c-8.837 0-16 2.239-16 5v4c0 2.761 7.163 5 16 5s16-2.239 16-5v-4c0-2.761-7.163-5-16-5z\"></path>\n",
       "<path d=\"M16 17c-8.837 0-16-2.239-16-5v6c0 2.761 7.163 5 16 5s16-2.239 16-5v-6c0 2.761-7.163 5-16 5z\"></path>\n",
       "<path d=\"M16 26c-8.837 0-16-2.239-16-5v6c0 2.761 7.163 5 16 5s16-2.239 16-5v-6c0 2.761-7.163 5-16 5z\"></path>\n",
       "</symbol>\n",
       "<symbol id=\"icon-file-text2\" viewBox=\"0 0 32 32\">\n",
       "<path d=\"M28.681 7.159c-0.694-0.947-1.662-2.053-2.724-3.116s-2.169-2.030-3.116-2.724c-1.612-1.182-2.393-1.319-2.841-1.319h-15.5c-1.378 0-2.5 1.121-2.5 2.5v27c0 1.378 1.122 2.5 2.5 2.5h23c1.378 0 2.5-1.122 2.5-2.5v-19.5c0-0.448-0.137-1.23-1.319-2.841zM24.543 5.457c0.959 0.959 1.712 1.825 2.268 2.543h-4.811v-4.811c0.718 0.556 1.584 1.309 2.543 2.268zM28 29.5c0 0.271-0.229 0.5-0.5 0.5h-23c-0.271 0-0.5-0.229-0.5-0.5v-27c0-0.271 0.229-0.5 0.5-0.5 0 0 15.499-0 15.5 0v7c0 0.552 0.448 1 1 1h7v19.5z\"></path>\n",
       "<path d=\"M23 26h-14c-0.552 0-1-0.448-1-1s0.448-1 1-1h14c0.552 0 1 0.448 1 1s-0.448 1-1 1z\"></path>\n",
       "<path d=\"M23 22h-14c-0.552 0-1-0.448-1-1s0.448-1 1-1h14c0.552 0 1 0.448 1 1s-0.448 1-1 1z\"></path>\n",
       "<path d=\"M23 18h-14c-0.552 0-1-0.448-1-1s0.448-1 1-1h14c0.552 0 1 0.448 1 1s-0.448 1-1 1z\"></path>\n",
       "</symbol>\n",
       "</defs>\n",
       "</svg>\n",
       "<style>/* CSS stylesheet for displaying xarray objects in jupyterlab.\n",
       " *\n",
       " */\n",
       "\n",
       ":root {\n",
       "  --xr-font-color0: var(--jp-content-font-color0, rgba(0, 0, 0, 1));\n",
       "  --xr-font-color2: var(--jp-content-font-color2, rgba(0, 0, 0, 0.54));\n",
       "  --xr-font-color3: var(--jp-content-font-color3, rgba(0, 0, 0, 0.38));\n",
       "  --xr-border-color: var(--jp-border-color2, #e0e0e0);\n",
       "  --xr-disabled-color: var(--jp-layout-color3, #bdbdbd);\n",
       "  --xr-background-color: var(--jp-layout-color0, white);\n",
       "  --xr-background-color-row-even: var(--jp-layout-color1, white);\n",
       "  --xr-background-color-row-odd: var(--jp-layout-color2, #eeeeee);\n",
       "}\n",
       "\n",
       "html[theme=dark],\n",
       "body.vscode-dark {\n",
       "  --xr-font-color0: rgba(255, 255, 255, 1);\n",
       "  --xr-font-color2: rgba(255, 255, 255, 0.54);\n",
       "  --xr-font-color3: rgba(255, 255, 255, 0.38);\n",
       "  --xr-border-color: #1F1F1F;\n",
       "  --xr-disabled-color: #515151;\n",
       "  --xr-background-color: #111111;\n",
       "  --xr-background-color-row-even: #111111;\n",
       "  --xr-background-color-row-odd: #313131;\n",
       "}\n",
       "\n",
       ".xr-wrap {\n",
       "  display: block;\n",
       "  min-width: 300px;\n",
       "  max-width: 700px;\n",
       "}\n",
       "\n",
       ".xr-text-repr-fallback {\n",
       "  /* fallback to plain text repr when CSS is not injected (untrusted notebook) */\n",
       "  display: none;\n",
       "}\n",
       "\n",
       ".xr-header {\n",
       "  padding-top: 6px;\n",
       "  padding-bottom: 6px;\n",
       "  margin-bottom: 4px;\n",
       "  border-bottom: solid 1px var(--xr-border-color);\n",
       "}\n",
       "\n",
       ".xr-header > div,\n",
       ".xr-header > ul {\n",
       "  display: inline;\n",
       "  margin-top: 0;\n",
       "  margin-bottom: 0;\n",
       "}\n",
       "\n",
       ".xr-obj-type,\n",
       ".xr-array-name {\n",
       "  margin-left: 2px;\n",
       "  margin-right: 10px;\n",
       "}\n",
       "\n",
       ".xr-obj-type {\n",
       "  color: var(--xr-font-color2);\n",
       "}\n",
       "\n",
       ".xr-sections {\n",
       "  padding-left: 0 !important;\n",
       "  display: grid;\n",
       "  grid-template-columns: 150px auto auto 1fr 20px 20px;\n",
       "}\n",
       "\n",
       ".xr-section-item {\n",
       "  display: contents;\n",
       "}\n",
       "\n",
       ".xr-section-item input {\n",
       "  display: none;\n",
       "}\n",
       "\n",
       ".xr-section-item input + label {\n",
       "  color: var(--xr-disabled-color);\n",
       "}\n",
       "\n",
       ".xr-section-item input:enabled + label {\n",
       "  cursor: pointer;\n",
       "  color: var(--xr-font-color2);\n",
       "}\n",
       "\n",
       ".xr-section-item input:enabled + label:hover {\n",
       "  color: var(--xr-font-color0);\n",
       "}\n",
       "\n",
       ".xr-section-summary {\n",
       "  grid-column: 1;\n",
       "  color: var(--xr-font-color2);\n",
       "  font-weight: 500;\n",
       "}\n",
       "\n",
       ".xr-section-summary > span {\n",
       "  display: inline-block;\n",
       "  padding-left: 0.5em;\n",
       "}\n",
       "\n",
       ".xr-section-summary-in:disabled + label {\n",
       "  color: var(--xr-font-color2);\n",
       "}\n",
       "\n",
       ".xr-section-summary-in + label:before {\n",
       "  display: inline-block;\n",
       "  content: '►';\n",
       "  font-size: 11px;\n",
       "  width: 15px;\n",
       "  text-align: center;\n",
       "}\n",
       "\n",
       ".xr-section-summary-in:disabled + label:before {\n",
       "  color: var(--xr-disabled-color);\n",
       "}\n",
       "\n",
       ".xr-section-summary-in:checked + label:before {\n",
       "  content: '▼';\n",
       "}\n",
       "\n",
       ".xr-section-summary-in:checked + label > span {\n",
       "  display: none;\n",
       "}\n",
       "\n",
       ".xr-section-summary,\n",
       ".xr-section-inline-details {\n",
       "  padding-top: 4px;\n",
       "  padding-bottom: 4px;\n",
       "}\n",
       "\n",
       ".xr-section-inline-details {\n",
       "  grid-column: 2 / -1;\n",
       "}\n",
       "\n",
       ".xr-section-details {\n",
       "  display: none;\n",
       "  grid-column: 1 / -1;\n",
       "  margin-bottom: 5px;\n",
       "}\n",
       "\n",
       ".xr-section-summary-in:checked ~ .xr-section-details {\n",
       "  display: contents;\n",
       "}\n",
       "\n",
       ".xr-array-wrap {\n",
       "  grid-column: 1 / -1;\n",
       "  display: grid;\n",
       "  grid-template-columns: 20px auto;\n",
       "}\n",
       "\n",
       ".xr-array-wrap > label {\n",
       "  grid-column: 1;\n",
       "  vertical-align: top;\n",
       "}\n",
       "\n",
       ".xr-preview {\n",
       "  color: var(--xr-font-color3);\n",
       "}\n",
       "\n",
       ".xr-array-preview,\n",
       ".xr-array-data {\n",
       "  padding: 0 5px !important;\n",
       "  grid-column: 2;\n",
       "}\n",
       "\n",
       ".xr-array-data,\n",
       ".xr-array-in:checked ~ .xr-array-preview {\n",
       "  display: none;\n",
       "}\n",
       "\n",
       ".xr-array-in:checked ~ .xr-array-data,\n",
       ".xr-array-preview {\n",
       "  display: inline-block;\n",
       "}\n",
       "\n",
       ".xr-dim-list {\n",
       "  display: inline-block !important;\n",
       "  list-style: none;\n",
       "  padding: 0 !important;\n",
       "  margin: 0;\n",
       "}\n",
       "\n",
       ".xr-dim-list li {\n",
       "  display: inline-block;\n",
       "  padding: 0;\n",
       "  margin: 0;\n",
       "}\n",
       "\n",
       ".xr-dim-list:before {\n",
       "  content: '(';\n",
       "}\n",
       "\n",
       ".xr-dim-list:after {\n",
       "  content: ')';\n",
       "}\n",
       "\n",
       ".xr-dim-list li:not(:last-child):after {\n",
       "  content: ',';\n",
       "  padding-right: 5px;\n",
       "}\n",
       "\n",
       ".xr-has-index {\n",
       "  font-weight: bold;\n",
       "}\n",
       "\n",
       ".xr-var-list,\n",
       ".xr-var-item {\n",
       "  display: contents;\n",
       "}\n",
       "\n",
       ".xr-var-item > div,\n",
       ".xr-var-item label,\n",
       ".xr-var-item > .xr-var-name span {\n",
       "  background-color: var(--xr-background-color-row-even);\n",
       "  margin-bottom: 0;\n",
       "}\n",
       "\n",
       ".xr-var-item > .xr-var-name:hover span {\n",
       "  padding-right: 5px;\n",
       "}\n",
       "\n",
       ".xr-var-list > li:nth-child(odd) > div,\n",
       ".xr-var-list > li:nth-child(odd) > label,\n",
       ".xr-var-list > li:nth-child(odd) > .xr-var-name span {\n",
       "  background-color: var(--xr-background-color-row-odd);\n",
       "}\n",
       "\n",
       ".xr-var-name {\n",
       "  grid-column: 1;\n",
       "}\n",
       "\n",
       ".xr-var-dims {\n",
       "  grid-column: 2;\n",
       "}\n",
       "\n",
       ".xr-var-dtype {\n",
       "  grid-column: 3;\n",
       "  text-align: right;\n",
       "  color: var(--xr-font-color2);\n",
       "}\n",
       "\n",
       ".xr-var-preview {\n",
       "  grid-column: 4;\n",
       "}\n",
       "\n",
       ".xr-var-name,\n",
       ".xr-var-dims,\n",
       ".xr-var-dtype,\n",
       ".xr-preview,\n",
       ".xr-attrs dt {\n",
       "  white-space: nowrap;\n",
       "  overflow: hidden;\n",
       "  text-overflow: ellipsis;\n",
       "  padding-right: 10px;\n",
       "}\n",
       "\n",
       ".xr-var-name:hover,\n",
       ".xr-var-dims:hover,\n",
       ".xr-var-dtype:hover,\n",
       ".xr-attrs dt:hover {\n",
       "  overflow: visible;\n",
       "  width: auto;\n",
       "  z-index: 1;\n",
       "}\n",
       "\n",
       ".xr-var-attrs,\n",
       ".xr-var-data {\n",
       "  display: none;\n",
       "  background-color: var(--xr-background-color) !important;\n",
       "  padding-bottom: 5px !important;\n",
       "}\n",
       "\n",
       ".xr-var-attrs-in:checked ~ .xr-var-attrs,\n",
       ".xr-var-data-in:checked ~ .xr-var-data {\n",
       "  display: block;\n",
       "}\n",
       "\n",
       ".xr-var-data > table {\n",
       "  float: right;\n",
       "}\n",
       "\n",
       ".xr-var-name span,\n",
       ".xr-var-data,\n",
       ".xr-attrs {\n",
       "  padding-left: 25px !important;\n",
       "}\n",
       "\n",
       ".xr-attrs,\n",
       ".xr-var-attrs,\n",
       ".xr-var-data {\n",
       "  grid-column: 1 / -1;\n",
       "}\n",
       "\n",
       "dl.xr-attrs {\n",
       "  padding: 0;\n",
       "  margin: 0;\n",
       "  display: grid;\n",
       "  grid-template-columns: 125px auto;\n",
       "}\n",
       "\n",
       ".xr-attrs dt,\n",
       ".xr-attrs dd {\n",
       "  padding: 0;\n",
       "  margin: 0;\n",
       "  float: left;\n",
       "  padding-right: 10px;\n",
       "  width: auto;\n",
       "}\n",
       "\n",
       ".xr-attrs dt {\n",
       "  font-weight: normal;\n",
       "  grid-column: 1;\n",
       "}\n",
       "\n",
       ".xr-attrs dt:hover span {\n",
       "  display: inline-block;\n",
       "  background: var(--xr-background-color);\n",
       "  padding-right: 10px;\n",
       "}\n",
       "\n",
       ".xr-attrs dd {\n",
       "  grid-column: 2;\n",
       "  white-space: pre-wrap;\n",
       "  word-break: break-all;\n",
       "}\n",
       "\n",
       ".xr-icon-database,\n",
       ".xr-icon-file-text2 {\n",
       "  display: inline-block;\n",
       "  vertical-align: middle;\n",
       "  width: 1em;\n",
       "  height: 1.5em !important;\n",
       "  stroke-width: 0;\n",
       "  stroke: currentColor;\n",
       "  fill: currentColor;\n",
       "}\n",
       "</style><pre class='xr-text-repr-fallback'>&lt;TimeSeries (DataArray) (Timestamp: 3700, component: 10, sample: 1)&gt;\n",
       "array([[[ 2.9274998e-03],\n",
       "        [-2.5000000e-02],\n",
       "        [ 9.1564998e-02],\n",
       "        ...,\n",
       "        [ 4.1727184e+01],\n",
       "        [ 6.1183815e+01],\n",
       "        [ 3.3310566e+00]],\n",
       "\n",
       "       [[ 2.6399998e-03],\n",
       "        [ 0.0000000e+00],\n",
       "        [ 9.1564998e-02],\n",
       "        ...,\n",
       "        [ 4.1707878e+01],\n",
       "        [ 6.1213623e+01],\n",
       "        [ 3.2830296e+00]],\n",
       "\n",
       "       [[ 3.6277776e-03],\n",
       "        [-1.1111111e-02],\n",
       "        [ 9.1564998e-02],\n",
       "        ...,\n",
       "...\n",
       "        ...,\n",
       "        [ 4.0632843e+01],\n",
       "        [ 6.0990215e+01],\n",
       "        [ 3.4243960e+00]],\n",
       "\n",
       "       [[ 3.9917941e+00],\n",
       "        [ 5.1111108e-01],\n",
       "        [ 9.1564998e-02],\n",
       "        ...,\n",
       "        [ 4.0636391e+01],\n",
       "        [ 6.1060955e+01],\n",
       "        [ 3.4198587e+00]],\n",
       "\n",
       "       [[ 3.9919155e+00],\n",
       "        [ 5.5555558e-01],\n",
       "        [ 9.1564998e-02],\n",
       "        ...,\n",
       "        [ 4.0637276e+01],\n",
       "        [ 6.1111164e+01],\n",
       "        [ 3.4114890e+00]]], dtype=float32)\n",
       "Coordinates:\n",
       "  * Timestamp  (Timestamp) datetime64[ns] 2019-02-19T12:55:00 ... 2019-02-22T...\n",
       "  * component  (component) object &#x27;B field (T)&#x27; ... &#x27;2nd Stage Temperature&#x27;\n",
       "Dimensions without coordinates: sample\n",
       "Attributes:\n",
       "    static_covariates:  None\n",
       "    hierarchy:          None</pre><div class='xr-wrap' hidden><div class='xr-header'><div class='xr-obj-type'>TimeSeries (DataArray)</div><div class='xr-array-name'></div><ul class='xr-dim-list'><li><span class='xr-has-index'>Timestamp</span>: 3700</li><li><span class='xr-has-index'>component</span>: 10</li><li><span>sample</span>: 1</li></ul></div><ul class='xr-sections'><li class='xr-section-item'><div class='xr-array-wrap'><input id='section-fb6985b2-50b2-4fa0-bf57-459507942c98' class='xr-array-in' type='checkbox' checked><label for='section-fb6985b2-50b2-4fa0-bf57-459507942c98' title='Show/hide data repr'><svg class='icon xr-icon-database'><use xlink:href='#icon-database'></use></svg></label><div class='xr-array-preview xr-preview'><span>0.002927 -0.025 0.09156 4.961 4.898 ... 4.763 4.872 40.64 61.11 3.411</span></div><div class='xr-array-data'><pre>array([[[ 2.9274998e-03],\n",
       "        [-2.5000000e-02],\n",
       "        [ 9.1564998e-02],\n",
       "        ...,\n",
       "        [ 4.1727184e+01],\n",
       "        [ 6.1183815e+01],\n",
       "        [ 3.3310566e+00]],\n",
       "\n",
       "       [[ 2.6399998e-03],\n",
       "        [ 0.0000000e+00],\n",
       "        [ 9.1564998e-02],\n",
       "        ...,\n",
       "        [ 4.1707878e+01],\n",
       "        [ 6.1213623e+01],\n",
       "        [ 3.2830296e+00]],\n",
       "\n",
       "       [[ 3.6277776e-03],\n",
       "        [-1.1111111e-02],\n",
       "        [ 9.1564998e-02],\n",
       "        ...,\n",
       "...\n",
       "        ...,\n",
       "        [ 4.0632843e+01],\n",
       "        [ 6.0990215e+01],\n",
       "        [ 3.4243960e+00]],\n",
       "\n",
       "       [[ 3.9917941e+00],\n",
       "        [ 5.1111108e-01],\n",
       "        [ 9.1564998e-02],\n",
       "        ...,\n",
       "        [ 4.0636391e+01],\n",
       "        [ 6.1060955e+01],\n",
       "        [ 3.4198587e+00]],\n",
       "\n",
       "       [[ 3.9919155e+00],\n",
       "        [ 5.5555558e-01],\n",
       "        [ 9.1564998e-02],\n",
       "        ...,\n",
       "        [ 4.0637276e+01],\n",
       "        [ 6.1111164e+01],\n",
       "        [ 3.4114890e+00]]], dtype=float32)</pre></div></div></li><li class='xr-section-item'><input id='section-d28525c7-9bf2-4250-be2f-44d1f241d81a' class='xr-section-summary-in' type='checkbox'  checked><label for='section-d28525c7-9bf2-4250-be2f-44d1f241d81a' class='xr-section-summary' >Coordinates: <span>(2)</span></label><div class='xr-section-inline-details'></div><div class='xr-section-details'><ul class='xr-var-list'><li class='xr-var-item'><div class='xr-var-name'><span class='xr-has-index'>Timestamp</span></div><div class='xr-var-dims'>(Timestamp)</div><div class='xr-var-dtype'>datetime64[ns]</div><div class='xr-var-preview xr-preview'>2019-02-19T12:55:00 ... 2019-02-...</div><input id='attrs-e599c14d-6036-41c7-abb9-1099619b670c' class='xr-var-attrs-in' type='checkbox' disabled><label for='attrs-e599c14d-6036-41c7-abb9-1099619b670c' title='Show/Hide attributes'><svg class='icon xr-icon-file-text2'><use xlink:href='#icon-file-text2'></use></svg></label><input id='data-c9a075ab-7cb7-406f-ba72-9f430879f6e3' class='xr-var-data-in' type='checkbox'><label for='data-c9a075ab-7cb7-406f-ba72-9f430879f6e3' title='Show/Hide data repr'><svg class='icon xr-icon-database'><use xlink:href='#icon-database'></use></svg></label><div class='xr-var-attrs'><dl class='xr-attrs'></dl></div><div class='xr-var-data'><pre>array([&#x27;2019-02-19T12:55:00.000000000&#x27;, &#x27;2019-02-19T12:56:00.000000000&#x27;,\n",
       "       &#x27;2019-02-19T12:57:00.000000000&#x27;, ..., &#x27;2019-02-22T02:32:00.000000000&#x27;,\n",
       "       &#x27;2019-02-22T02:33:00.000000000&#x27;, &#x27;2019-02-22T02:34:00.000000000&#x27;],\n",
       "      dtype=&#x27;datetime64[ns]&#x27;)</pre></div></li><li class='xr-var-item'><div class='xr-var-name'><span class='xr-has-index'>component</span></div><div class='xr-var-dims'>(component)</div><div class='xr-var-dtype'>object</div><div class='xr-var-preview xr-preview'>&#x27;B field (T)&#x27; ... &#x27;2nd Stage Tem...</div><input id='attrs-ff665f69-c4b4-40ab-ba41-2ccd22a871c9' class='xr-var-attrs-in' type='checkbox' disabled><label for='attrs-ff665f69-c4b4-40ab-ba41-2ccd22a871c9' title='Show/Hide attributes'><svg class='icon xr-icon-file-text2'><use xlink:href='#icon-file-text2'></use></svg></label><input id='data-5cfeaa64-17ae-4762-aa74-f2b92c4b5bc4' class='xr-var-data-in' type='checkbox'><label for='data-5cfeaa64-17ae-4762-aa74-f2b92c4b5bc4' title='Show/Hide data repr'><svg class='icon xr-icon-database'><use xlink:href='#icon-database'></use></svg></label><div class='xr-var-attrs'><dl class='xr-attrs'></dl></div><div class='xr-var-data'><pre>array([&#x27;B field (T)&#x27;, &#x27;Voltage (V)&#x27;, &#x27;Ramp speed (T/min)&#x27;,\n",
       "       &#x27;Inner Lower Temperature&#x27;, &#x27;Outer Lower Temperature&#x27;,\n",
       "       &#x27;Inner Upper Temperature&#x27;, &#x27;Outer Upper Temperature&#x27;,\n",
       "       &#x27;1st Stage Temperature&#x27;, &#x27;Shield Temperature&#x27;, &#x27;2nd Stage Temperature&#x27;],\n",
       "      dtype=object)</pre></div></li></ul></div></li><li class='xr-section-item'><input id='section-10cda078-483c-4b94-ac46-1808a5a7bf48' class='xr-section-summary-in' type='checkbox'  checked><label for='section-10cda078-483c-4b94-ac46-1808a5a7bf48' class='xr-section-summary' >Attributes: <span>(2)</span></label><div class='xr-section-inline-details'></div><div class='xr-section-details'><dl class='xr-attrs'><dt><span>static_covariates :</span></dt><dd>None</dd><dt><span>hierarchy :</span></dt><dd>None</dd></dl></div></li></ul></div></div>"
      ],
      "text/plain": [
       "<TimeSeries (DataArray) (Timestamp: 3700, component: 10, sample: 1)>\n",
       "array([[[ 2.9274998e-03],\n",
       "        [-2.5000000e-02],\n",
       "        [ 9.1564998e-02],\n",
       "        ...,\n",
       "        [ 4.1727184e+01],\n",
       "        [ 6.1183815e+01],\n",
       "        [ 3.3310566e+00]],\n",
       "\n",
       "       [[ 2.6399998e-03],\n",
       "        [ 0.0000000e+00],\n",
       "        [ 9.1564998e-02],\n",
       "        ...,\n",
       "        [ 4.1707878e+01],\n",
       "        [ 6.1213623e+01],\n",
       "        [ 3.2830296e+00]],\n",
       "\n",
       "       [[ 3.6277776e-03],\n",
       "        [-1.1111111e-02],\n",
       "        [ 9.1564998e-02],\n",
       "        ...,\n",
       "...\n",
       "        ...,\n",
       "        [ 4.0632843e+01],\n",
       "        [ 6.0990215e+01],\n",
       "        [ 3.4243960e+00]],\n",
       "\n",
       "       [[ 3.9917941e+00],\n",
       "        [ 5.1111108e-01],\n",
       "        [ 9.1564998e-02],\n",
       "        ...,\n",
       "        [ 4.0636391e+01],\n",
       "        [ 6.1060955e+01],\n",
       "        [ 3.4198587e+00]],\n",
       "\n",
       "       [[ 3.9919155e+00],\n",
       "        [ 5.5555558e-01],\n",
       "        [ 9.1564998e-02],\n",
       "        ...,\n",
       "        [ 4.0637276e+01],\n",
       "        [ 6.1111164e+01],\n",
       "        [ 3.4114890e+00]]], dtype=float32)\n",
       "Coordinates:\n",
       "  * Timestamp  (Timestamp) datetime64[ns] 2019-02-19T12:55:00 ... 2019-02-22T...\n",
       "  * component  (component) object 'B field (T)' ... '2nd Stage Temperature'\n",
       "Dimensions without coordinates: sample\n",
       "Attributes:\n",
       "    static_covariates:  None\n",
       "    hierarchy:          None"
      ]
     },
     "execution_count": 19,
     "metadata": {},
     "output_type": "execute_result"
    }
   ],
   "source": [
    "train[0]"
   ]
  },
  {
   "cell_type": "code",
   "execution_count": null,
   "id": "e0e04aa5-a26a-488b-9c37-521943a761b2",
   "metadata": {
    "tags": []
   },
   "outputs": [
    {
     "name": "stdout",
     "output_type": "stream",
     "text": [
      "300\n"
     ]
    }
   ],
   "source": [
    "print(len(val[0]))"
   ]
  },
  {
   "cell_type": "code",
   "execution_count": 109,
   "id": "e39265f1-d3c7-4ceb-887f-389cbcefcadf",
   "metadata": {
    "tags": []
   },
   "outputs": [],
   "source": [
    "# train = train[:20]\n",
    "# val = val[:20]\n",
    "# covariates = covariates[:2]\n",
    "# val_past_covariates_past = val_past_covariates_past[:2]"
   ]
  },
  {
   "cell_type": "code",
   "execution_count": 110,
   "id": "abcf9d0c-1fc1-478a-9acd-681a12eb6a19",
   "metadata": {
    "tags": []
   },
   "outputs": [],
   "source": [
    "# class Trial():\n",
    "#     def suggest_int(self, name, low, high):\n",
    "#         return low\n",
    "#     def suggest_categorical(self, name, cats):\n",
    "#         return cats[0]\n",
    "#     def suggest_float(self, name, low, high, log = False):\n",
    "#         return low\n",
    "        "
   ]
  },
  {
   "cell_type": "code",
   "execution_count": 111,
   "id": "86b4a759-c453-4bbc-b721-5795a782ece0",
   "metadata": {
    "tags": []
   },
   "outputs": [
    {
     "name": "stdout",
     "output_type": "stream",
     "text": [
      "552\n"
     ]
    }
   ],
   "source": [
    "print(len(train[0]))"
   ]
  },
  {
   "cell_type": "code",
   "execution_count": 112,
   "id": "46b7d9f2-3871-415b-848d-dd87cbef32ab",
   "metadata": {
    "tags": []
   },
   "outputs": [
    {
     "name": "stdout",
     "output_type": "stream",
     "text": [
      "100\n"
     ]
    }
   ],
   "source": [
    "print(VAL_LEN)"
   ]
  },
  {
   "cell_type": "code",
   "execution_count": 27,
   "id": "baab6177-bf2c-48c0-a5c3-4a600a1716fe",
   "metadata": {
    "tags": []
   },
   "outputs": [
    {
     "data": {
      "application/vnd.jupyter.widget-view+json": {
       "model_id": "",
       "version_major": 2,
       "version_minor": 0
      },
      "text/plain": [
       "Sanity Checking: 0it [00:00, ?it/s]"
      ]
     },
     "metadata": {},
     "output_type": "display_data"
    },
    {
     "data": {
      "application/vnd.jupyter.widget-view+json": {
       "model_id": "675eb0eb92334cceb4d3de999eb33d08",
       "version_major": 2,
       "version_minor": 0
      },
      "text/plain": [
       "Training: 0it [00:00, ?it/s]"
      ]
     },
     "metadata": {},
     "output_type": "display_data"
    },
    {
     "data": {
      "application/vnd.jupyter.widget-view+json": {
       "model_id": "",
       "version_major": 2,
       "version_minor": 0
      },
      "text/plain": [
       "Validation: 0it [00:00, ?it/s]"
      ]
     },
     "metadata": {},
     "output_type": "display_data"
    },
    {
     "data": {
      "application/vnd.jupyter.widget-view+json": {
       "model_id": "9d98a3886b804b388b949028b21f15e8",
       "version_major": 2,
       "version_minor": 0
      },
      "text/plain": [
       "Predicting: 0it [00:00, ?it/s]"
      ]
     },
     "metadata": {},
     "output_type": "display_data"
    },
    {
     "data": {
      "application/vnd.jupyter.widget-view+json": {
       "model_id": "36d993a90ebd4201ab9aa1437b1e7d48",
       "version_major": 2,
       "version_minor": 0
      },
      "text/plain": [
       "Predicting: 0it [00:00, ?it/s]"
      ]
     },
     "metadata": {},
     "output_type": "display_data"
    },
    {
     "data": {
      "application/vnd.jupyter.widget-view+json": {
       "model_id": "45bbe2c1e7ff422eb426a63ae4cf4917",
       "version_major": 2,
       "version_minor": 0
      },
      "text/plain": [
       "Predicting: 0it [00:00, ?it/s]"
      ]
     },
     "metadata": {},
     "output_type": "display_data"
    },
    {
     "data": {
      "application/vnd.jupyter.widget-view+json": {
       "model_id": "7b702e2a79654de3afec1d05b93dc9b8",
       "version_major": 2,
       "version_minor": 0
      },
      "text/plain": [
       "Predicting: 0it [00:00, ?it/s]"
      ]
     },
     "metadata": {},
     "output_type": "display_data"
    },
    {
     "data": {
      "application/vnd.jupyter.widget-view+json": {
       "model_id": "3cbc417cef304000b8d1af7e123dc0c8",
       "version_major": 2,
       "version_minor": 0
      },
      "text/plain": [
       "Predicting: 0it [00:00, ?it/s]"
      ]
     },
     "metadata": {},
     "output_type": "display_data"
    },
    {
     "data": {
      "application/vnd.jupyter.widget-view+json": {
       "model_id": "adecd9f391ab4f98af316f4c6fa6e0fd",
       "version_major": 2,
       "version_minor": 0
      },
      "text/plain": [
       "Predicting: 0it [00:00, ?it/s]"
      ]
     },
     "metadata": {},
     "output_type": "display_data"
    },
    {
     "data": {
      "application/vnd.jupyter.widget-view+json": {
       "model_id": "364400ef107e42b7bf605ceaa4bbaf2b",
       "version_major": 2,
       "version_minor": 0
      },
      "text/plain": [
       "Predicting: 0it [00:00, ?it/s]"
      ]
     },
     "metadata": {},
     "output_type": "display_data"
    },
    {
     "data": {
      "application/vnd.jupyter.widget-view+json": {
       "model_id": "4ae8f04df2414c03b26a3c16a77e34eb",
       "version_major": 2,
       "version_minor": 0
      },
      "text/plain": [
       "Predicting: 0it [00:00, ?it/s]"
      ]
     },
     "metadata": {},
     "output_type": "display_data"
    },
    {
     "data": {
      "application/vnd.jupyter.widget-view+json": {
       "model_id": "b9bba237212e4e2cb0628f0c9a746f1c",
       "version_major": 2,
       "version_minor": 0
      },
      "text/plain": [
       "Predicting: 0it [00:00, ?it/s]"
      ]
     },
     "metadata": {},
     "output_type": "display_data"
    },
    {
     "data": {
      "application/vnd.jupyter.widget-view+json": {
       "model_id": "210bb255113b42d292e1390f892510ee",
       "version_major": 2,
       "version_minor": 0
      },
      "text/plain": [
       "Predicting: 0it [00:00, ?it/s]"
      ]
     },
     "metadata": {},
     "output_type": "display_data"
    },
    {
     "data": {
      "application/vnd.jupyter.widget-view+json": {
       "model_id": "4b7b6b278a7d4e57b3d54818abd3f8d2",
       "version_major": 2,
       "version_minor": 0
      },
      "text/plain": [
       "Predicting: 0it [00:00, ?it/s]"
      ]
     },
     "metadata": {},
     "output_type": "display_data"
    },
    {
     "data": {
      "application/vnd.jupyter.widget-view+json": {
       "model_id": "7d3049cacfe8498a90b69c86847dc0d8",
       "version_major": 2,
       "version_minor": 0
      },
      "text/plain": [
       "Predicting: 0it [00:00, ?it/s]"
      ]
     },
     "metadata": {},
     "output_type": "display_data"
    },
    {
     "data": {
      "application/vnd.jupyter.widget-view+json": {
       "model_id": "c299af7743264179a9029810c73a32c9",
       "version_major": 2,
       "version_minor": 0
      },
      "text/plain": [
       "Predicting: 0it [00:00, ?it/s]"
      ]
     },
     "metadata": {},
     "output_type": "display_data"
    },
    {
     "data": {
      "application/vnd.jupyter.widget-view+json": {
       "model_id": "c5eb711093504d32a6c9b83c6fa9501f",
       "version_major": 2,
       "version_minor": 0
      },
      "text/plain": [
       "Predicting: 0it [00:00, ?it/s]"
      ]
     },
     "metadata": {},
     "output_type": "display_data"
    },
    {
     "data": {
      "application/vnd.jupyter.widget-view+json": {
       "model_id": "e493862805bc416284570a63832a7c0f",
       "version_major": 2,
       "version_minor": 0
      },
      "text/plain": [
       "Predicting: 0it [00:00, ?it/s]"
      ]
     },
     "metadata": {},
     "output_type": "display_data"
    },
    {
     "data": {
      "application/vnd.jupyter.widget-view+json": {
       "model_id": "140b576257a044afab658fd7f26d45b6",
       "version_major": 2,
       "version_minor": 0
      },
      "text/plain": [
       "Predicting: 0it [00:00, ?it/s]"
      ]
     },
     "metadata": {},
     "output_type": "display_data"
    },
    {
     "data": {
      "application/vnd.jupyter.widget-view+json": {
       "model_id": "ef72b0762307417d9404cbb3f3f6f60c",
       "version_major": 2,
       "version_minor": 0
      },
      "text/plain": [
       "Predicting: 0it [00:00, ?it/s]"
      ]
     },
     "metadata": {},
     "output_type": "display_data"
    },
    {
     "data": {
      "application/vnd.jupyter.widget-view+json": {
       "model_id": "990f6a887c4847eaadfa3c597eca745f",
       "version_major": 2,
       "version_minor": 0
      },
      "text/plain": [
       "Predicting: 0it [00:00, ?it/s]"
      ]
     },
     "metadata": {},
     "output_type": "display_data"
    },
    {
     "data": {
      "application/vnd.jupyter.widget-view+json": {
       "model_id": "c6924c3e437549afa2667777dfca4529",
       "version_major": 2,
       "version_minor": 0
      },
      "text/plain": [
       "Predicting: 0it [00:00, ?it/s]"
      ]
     },
     "metadata": {},
     "output_type": "display_data"
    },
    {
     "data": {
      "application/vnd.jupyter.widget-view+json": {
       "model_id": "49989c2efa30459589be12e23e47a78a",
       "version_major": 2,
       "version_minor": 0
      },
      "text/plain": [
       "Predicting: 0it [00:00, ?it/s]"
      ]
     },
     "metadata": {},
     "output_type": "display_data"
    },
    {
     "data": {
      "application/vnd.jupyter.widget-view+json": {
       "model_id": "e4592a9272854ba793362f46a47b2314",
       "version_major": 2,
       "version_minor": 0
      },
      "text/plain": [
       "Predicting: 0it [00:00, ?it/s]"
      ]
     },
     "metadata": {},
     "output_type": "display_data"
    },
    {
     "data": {
      "application/vnd.jupyter.widget-view+json": {
       "model_id": "26db306f2ec741fea97acacb9983a172",
       "version_major": 2,
       "version_minor": 0
      },
      "text/plain": [
       "Predicting: 0it [00:00, ?it/s]"
      ]
     },
     "metadata": {},
     "output_type": "display_data"
    },
    {
     "data": {
      "application/vnd.jupyter.widget-view+json": {
       "model_id": "573fbdb30de140e1a12ad0382fc391e3",
       "version_major": 2,
       "version_minor": 0
      },
      "text/plain": [
       "Predicting: 0it [00:00, ?it/s]"
      ]
     },
     "metadata": {},
     "output_type": "display_data"
    },
    {
     "data": {
      "application/vnd.jupyter.widget-view+json": {
       "model_id": "779975278db94f2c843ef0b496270243",
       "version_major": 2,
       "version_minor": 0
      },
      "text/plain": [
       "Predicting: 0it [00:00, ?it/s]"
      ]
     },
     "metadata": {},
     "output_type": "display_data"
    },
    {
     "data": {
      "application/vnd.jupyter.widget-view+json": {
       "model_id": "0fffe05468e646a28420c2681549aa93",
       "version_major": 2,
       "version_minor": 0
      },
      "text/plain": [
       "Predicting: 0it [00:00, ?it/s]"
      ]
     },
     "metadata": {},
     "output_type": "display_data"
    },
    {
     "data": {
      "application/vnd.jupyter.widget-view+json": {
       "model_id": "85e514bf7e0144979cb0fd8f6c61a98e",
       "version_major": 2,
       "version_minor": 0
      },
      "text/plain": [
       "Predicting: 0it [00:00, ?it/s]"
      ]
     },
     "metadata": {},
     "output_type": "display_data"
    },
    {
     "data": {
      "application/vnd.jupyter.widget-view+json": {
       "model_id": "8cec386ee42f444b85d3adf0f339e76e",
       "version_major": 2,
       "version_minor": 0
      },
      "text/plain": [
       "Predicting: 0it [00:00, ?it/s]"
      ]
     },
     "metadata": {},
     "output_type": "display_data"
    },
    {
     "data": {
      "application/vnd.jupyter.widget-view+json": {
       "model_id": "816fb76a491f4505b5964af4f29fb98f",
       "version_major": 2,
       "version_minor": 0
      },
      "text/plain": [
       "Predicting: 0it [00:00, ?it/s]"
      ]
     },
     "metadata": {},
     "output_type": "display_data"
    },
    {
     "data": {
      "application/vnd.jupyter.widget-view+json": {
       "model_id": "bd5127cfde1d4e1e978b4644fb8a6b17",
       "version_major": 2,
       "version_minor": 0
      },
      "text/plain": [
       "Predicting: 0it [00:00, ?it/s]"
      ]
     },
     "metadata": {},
     "output_type": "display_data"
    },
    {
     "data": {
      "application/vnd.jupyter.widget-view+json": {
       "model_id": "3c98bf77fade4391adaf30d36b2fbf83",
       "version_major": 2,
       "version_minor": 0
      },
      "text/plain": [
       "Predicting: 0it [00:00, ?it/s]"
      ]
     },
     "metadata": {},
     "output_type": "display_data"
    },
    {
     "data": {
      "application/vnd.jupyter.widget-view+json": {
       "model_id": "ae4c36d7733f4584b17ae5c520af7b9e",
       "version_major": 2,
       "version_minor": 0
      },
      "text/plain": [
       "Predicting: 0it [00:00, ?it/s]"
      ]
     },
     "metadata": {},
     "output_type": "display_data"
    },
    {
     "data": {
      "application/vnd.jupyter.widget-view+json": {
       "model_id": "bbfc6a662d29418fa22d73bcf40f3ca5",
       "version_major": 2,
       "version_minor": 0
      },
      "text/plain": [
       "Predicting: 0it [00:00, ?it/s]"
      ]
     },
     "metadata": {},
     "output_type": "display_data"
    },
    {
     "data": {
      "application/vnd.jupyter.widget-view+json": {
       "model_id": "f85742013dee412da12e9435b38f53e4",
       "version_major": 2,
       "version_minor": 0
      },
      "text/plain": [
       "Predicting: 0it [00:00, ?it/s]"
      ]
     },
     "metadata": {},
     "output_type": "display_data"
    },
    {
     "data": {
      "application/vnd.jupyter.widget-view+json": {
       "model_id": "93b6aea87c1440a5951048cdaeada193",
       "version_major": 2,
       "version_minor": 0
      },
      "text/plain": [
       "Predicting: 0it [00:00, ?it/s]"
      ]
     },
     "metadata": {},
     "output_type": "display_data"
    },
    {
     "data": {
      "application/vnd.jupyter.widget-view+json": {
       "model_id": "4251d1fe25b947bf9a9e619e29d5f3c0",
       "version_major": 2,
       "version_minor": 0
      },
      "text/plain": [
       "Predicting: 0it [00:00, ?it/s]"
      ]
     },
     "metadata": {},
     "output_type": "display_data"
    },
    {
     "data": {
      "application/vnd.jupyter.widget-view+json": {
       "model_id": "813476d9d5754a39bdfe75df6092f14c",
       "version_major": 2,
       "version_minor": 0
      },
      "text/plain": [
       "Predicting: 0it [00:00, ?it/s]"
      ]
     },
     "metadata": {},
     "output_type": "display_data"
    },
    {
     "data": {
      "application/vnd.jupyter.widget-view+json": {
       "model_id": "1656ea0a12654c9a825322c0c8013c50",
       "version_major": 2,
       "version_minor": 0
      },
      "text/plain": [
       "Predicting: 0it [00:00, ?it/s]"
      ]
     },
     "metadata": {},
     "output_type": "display_data"
    },
    {
     "data": {
      "application/vnd.jupyter.widget-view+json": {
       "model_id": "f2f17e8776164c46847c88dd34ac6362",
       "version_major": 2,
       "version_minor": 0
      },
      "text/plain": [
       "Predicting: 0it [00:00, ?it/s]"
      ]
     },
     "metadata": {},
     "output_type": "display_data"
    },
    {
     "data": {
      "application/vnd.jupyter.widget-view+json": {
       "model_id": "a2113a610cbb42e3ba9123c1391933f2",
       "version_major": 2,
       "version_minor": 0
      },
      "text/plain": [
       "Predicting: 0it [00:00, ?it/s]"
      ]
     },
     "metadata": {},
     "output_type": "display_data"
    },
    {
     "data": {
      "application/vnd.jupyter.widget-view+json": {
       "model_id": "d135c29544214a16b85ffff55bbdb0ca",
       "version_major": 2,
       "version_minor": 0
      },
      "text/plain": [
       "Predicting: 0it [00:00, ?it/s]"
      ]
     },
     "metadata": {},
     "output_type": "display_data"
    },
    {
     "data": {
      "application/vnd.jupyter.widget-view+json": {
       "model_id": "11f60fbcf4254c3e82d1b1794eefa23f",
       "version_major": 2,
       "version_minor": 0
      },
      "text/plain": [
       "Predicting: 0it [00:00, ?it/s]"
      ]
     },
     "metadata": {},
     "output_type": "display_data"
    },
    {
     "data": {
      "application/vnd.jupyter.widget-view+json": {
       "model_id": "a82fb0c508de465ebaf06ed672141f13",
       "version_major": 2,
       "version_minor": 0
      },
      "text/plain": [
       "Predicting: 0it [00:00, ?it/s]"
      ]
     },
     "metadata": {},
     "output_type": "display_data"
    },
    {
     "data": {
      "application/vnd.jupyter.widget-view+json": {
       "model_id": "680a24fc45014322a150ad20797afb7c",
       "version_major": 2,
       "version_minor": 0
      },
      "text/plain": [
       "Predicting: 0it [00:00, ?it/s]"
      ]
     },
     "metadata": {},
     "output_type": "display_data"
    },
    {
     "data": {
      "application/vnd.jupyter.widget-view+json": {
       "model_id": "7aa0abc3c9c64672881fdca9bb993fc0",
       "version_major": 2,
       "version_minor": 0
      },
      "text/plain": [
       "Predicting: 0it [00:00, ?it/s]"
      ]
     },
     "metadata": {},
     "output_type": "display_data"
    },
    {
     "data": {
      "application/vnd.jupyter.widget-view+json": {
       "model_id": "79c7129bf89a4dee80768bcd2570bdb4",
       "version_major": 2,
       "version_minor": 0
      },
      "text/plain": [
       "Predicting: 0it [00:00, ?it/s]"
      ]
     },
     "metadata": {},
     "output_type": "display_data"
    },
    {
     "data": {
      "application/vnd.jupyter.widget-view+json": {
       "model_id": "f337e231ae31473e854b7f39e347f785",
       "version_major": 2,
       "version_minor": 0
      },
      "text/plain": [
       "Predicting: 0it [00:00, ?it/s]"
      ]
     },
     "metadata": {},
     "output_type": "display_data"
    },
    {
     "data": {
      "application/vnd.jupyter.widget-view+json": {
       "model_id": "595daf01dffe4a8e8fce5c4478f75f92",
       "version_major": 2,
       "version_minor": 0
      },
      "text/plain": [
       "Predicting: 0it [00:00, ?it/s]"
      ]
     },
     "metadata": {},
     "output_type": "display_data"
    },
    {
     "data": {
      "application/vnd.jupyter.widget-view+json": {
       "model_id": "0e4609a83ae04e67b8ee302f6adac087",
       "version_major": 2,
       "version_minor": 0
      },
      "text/plain": [
       "Predicting: 0it [00:00, ?it/s]"
      ]
     },
     "metadata": {},
     "output_type": "display_data"
    },
    {
     "data": {
      "application/vnd.jupyter.widget-view+json": {
       "model_id": "4c53975d1e1848479083a43e16338e26",
       "version_major": 2,
       "version_minor": 0
      },
      "text/plain": [
       "Predicting: 0it [00:00, ?it/s]"
      ]
     },
     "metadata": {},
     "output_type": "display_data"
    },
    {
     "data": {
      "application/vnd.jupyter.widget-view+json": {
       "model_id": "5c406b420dc146bda0933f2c5572c019",
       "version_major": 2,
       "version_minor": 0
      },
      "text/plain": [
       "Predicting: 0it [00:00, ?it/s]"
      ]
     },
     "metadata": {},
     "output_type": "display_data"
    },
    {
     "data": {
      "application/vnd.jupyter.widget-view+json": {
       "model_id": "a405f73d4cdd4d61bf0c0dbdb465646c",
       "version_major": 2,
       "version_minor": 0
      },
      "text/plain": [
       "Predicting: 0it [00:00, ?it/s]"
      ]
     },
     "metadata": {},
     "output_type": "display_data"
    },
    {
     "data": {
      "application/vnd.jupyter.widget-view+json": {
       "model_id": "7576a3a556524ccdb9949701044693b3",
       "version_major": 2,
       "version_minor": 0
      },
      "text/plain": [
       "Predicting: 0it [00:00, ?it/s]"
      ]
     },
     "metadata": {},
     "output_type": "display_data"
    },
    {
     "data": {
      "application/vnd.jupyter.widget-view+json": {
       "model_id": "890c285a88414824aadeaa3d767461d2",
       "version_major": 2,
       "version_minor": 0
      },
      "text/plain": [
       "Predicting: 0it [00:00, ?it/s]"
      ]
     },
     "metadata": {},
     "output_type": "display_data"
    },
    {
     "data": {
      "application/vnd.jupyter.widget-view+json": {
       "model_id": "47f632247f8c464ea3bd07be23b65e05",
       "version_major": 2,
       "version_minor": 0
      },
      "text/plain": [
       "Predicting: 0it [00:00, ?it/s]"
      ]
     },
     "metadata": {},
     "output_type": "display_data"
    },
    {
     "data": {
      "application/vnd.jupyter.widget-view+json": {
       "model_id": "fe9e3e1c222f45c59c4e597b9e69eb85",
       "version_major": 2,
       "version_minor": 0
      },
      "text/plain": [
       "Predicting: 0it [00:00, ?it/s]"
      ]
     },
     "metadata": {},
     "output_type": "display_data"
    },
    {
     "data": {
      "application/vnd.jupyter.widget-view+json": {
       "model_id": "07cf56075b80464dbf3a75f986247d00",
       "version_major": 2,
       "version_minor": 0
      },
      "text/plain": [
       "Predicting: 0it [00:00, ?it/s]"
      ]
     },
     "metadata": {},
     "output_type": "display_data"
    },
    {
     "data": {
      "application/vnd.jupyter.widget-view+json": {
       "model_id": "fc0e02658aaf4d7f95fdef74eb5202ad",
       "version_major": 2,
       "version_minor": 0
      },
      "text/plain": [
       "Predicting: 0it [00:00, ?it/s]"
      ]
     },
     "metadata": {},
     "output_type": "display_data"
    },
    {
     "data": {
      "application/vnd.jupyter.widget-view+json": {
       "model_id": "46490c37733f43f59cf103cf44b49742",
       "version_major": 2,
       "version_minor": 0
      },
      "text/plain": [
       "Predicting: 0it [00:00, ?it/s]"
      ]
     },
     "metadata": {},
     "output_type": "display_data"
    },
    {
     "data": {
      "application/vnd.jupyter.widget-view+json": {
       "model_id": "caa1ef4858e34b1196c7d3aa45c1533e",
       "version_major": 2,
       "version_minor": 0
      },
      "text/plain": [
       "Predicting: 0it [00:00, ?it/s]"
      ]
     },
     "metadata": {},
     "output_type": "display_data"
    },
    {
     "data": {
      "application/vnd.jupyter.widget-view+json": {
       "model_id": "2c4059b4355f4365ada7eade766c9f86",
       "version_major": 2,
       "version_minor": 0
      },
      "text/plain": [
       "Predicting: 0it [00:00, ?it/s]"
      ]
     },
     "metadata": {},
     "output_type": "display_data"
    },
    {
     "data": {
      "application/vnd.jupyter.widget-view+json": {
       "model_id": "1bf88a86912948768cbec008ea87536f",
       "version_major": 2,
       "version_minor": 0
      },
      "text/plain": [
       "Predicting: 0it [00:00, ?it/s]"
      ]
     },
     "metadata": {},
     "output_type": "display_data"
    },
    {
     "data": {
      "application/vnd.jupyter.widget-view+json": {
       "model_id": "c2d4aa1726bb457d9f0f15fc17479600",
       "version_major": 2,
       "version_minor": 0
      },
      "text/plain": [
       "Predicting: 0it [00:00, ?it/s]"
      ]
     },
     "metadata": {},
     "output_type": "display_data"
    },
    {
     "data": {
      "application/vnd.jupyter.widget-view+json": {
       "model_id": "1377e0696013453d89e4a64025da3603",
       "version_major": 2,
       "version_minor": 0
      },
      "text/plain": [
       "Predicting: 0it [00:00, ?it/s]"
      ]
     },
     "metadata": {},
     "output_type": "display_data"
    },
    {
     "data": {
      "application/vnd.jupyter.widget-view+json": {
       "model_id": "268bf714684d497f9a0b3c088b9e0933",
       "version_major": 2,
       "version_minor": 0
      },
      "text/plain": [
       "Predicting: 0it [00:00, ?it/s]"
      ]
     },
     "metadata": {},
     "output_type": "display_data"
    },
    {
     "data": {
      "application/vnd.jupyter.widget-view+json": {
       "model_id": "fac84c0b44e64ff5bc4a49a19aac3ec3",
       "version_major": 2,
       "version_minor": 0
      },
      "text/plain": [
       "Predicting: 0it [00:00, ?it/s]"
      ]
     },
     "metadata": {},
     "output_type": "display_data"
    },
    {
     "data": {
      "application/vnd.jupyter.widget-view+json": {
       "model_id": "db13f83dd19b413e994a9bb2630a259c",
       "version_major": 2,
       "version_minor": 0
      },
      "text/plain": [
       "Predicting: 0it [00:00, ?it/s]"
      ]
     },
     "metadata": {},
     "output_type": "display_data"
    },
    {
     "name": "stdout",
     "output_type": "stream",
     "text": [
      "Current value: 58.57258862618244, Current params: {'in_len': 138, 'out_len': 91, 'num_encoder_layers_temp': 2, 'num_decoder_layers_temp': 5, 'activation_temp': 'GEGLU', 'kernel_size': 6, 'num_filters': 4, 'weight_norm': False, 'dilation_base': 4, 'dropout': 0.24619606470119895, 'lr': 0.000381581578587822}\n",
      "Best value: 58.57258862618244, Best params: {'in_len': 138, 'out_len': 91, 'num_encoder_layers_temp': 2, 'num_decoder_layers_temp': 5, 'activation_temp': 'GEGLU', 'kernel_size': 6, 'num_filters': 4, 'weight_norm': False, 'dilation_base': 4, 'dropout': 0.24619606470119895, 'lr': 0.000381581578587822}\n"
     ]
    },
    {
     "data": {
      "application/vnd.jupyter.widget-view+json": {
       "model_id": "",
       "version_major": 2,
       "version_minor": 0
      },
      "text/plain": [
       "Sanity Checking: 0it [00:00, ?it/s]"
      ]
     },
     "metadata": {},
     "output_type": "display_data"
    },
    {
     "data": {
      "application/vnd.jupyter.widget-view+json": {
       "model_id": "71b235dc8c004a0fb3cbfa81538f0635",
       "version_major": 2,
       "version_minor": 0
      },
      "text/plain": [
       "Training: 0it [00:00, ?it/s]"
      ]
     },
     "metadata": {},
     "output_type": "display_data"
    },
    {
     "data": {
      "application/vnd.jupyter.widget-view+json": {
       "model_id": "",
       "version_major": 2,
       "version_minor": 0
      },
      "text/plain": [
       "Validation: 0it [00:00, ?it/s]"
      ]
     },
     "metadata": {},
     "output_type": "display_data"
    },
    {
     "data": {
      "application/vnd.jupyter.widget-view+json": {
       "model_id": "",
       "version_major": 2,
       "version_minor": 0
      },
      "text/plain": [
       "Validation: 0it [00:00, ?it/s]"
      ]
     },
     "metadata": {},
     "output_type": "display_data"
    },
    {
     "data": {
      "application/vnd.jupyter.widget-view+json": {
       "model_id": "11ae9b5a070741b894c3cebceadffb1a",
       "version_major": 2,
       "version_minor": 0
      },
      "text/plain": [
       "Predicting: 0it [00:00, ?it/s]"
      ]
     },
     "metadata": {},
     "output_type": "display_data"
    },
    {
     "data": {
      "application/vnd.jupyter.widget-view+json": {
       "model_id": "d43364c811af40f2b2a432dde6395771",
       "version_major": 2,
       "version_minor": 0
      },
      "text/plain": [
       "Predicting: 0it [00:00, ?it/s]"
      ]
     },
     "metadata": {},
     "output_type": "display_data"
    },
    {
     "data": {
      "application/vnd.jupyter.widget-view+json": {
       "model_id": "981205639e5b4000a03f869cb00f2255",
       "version_major": 2,
       "version_minor": 0
      },
      "text/plain": [
       "Predicting: 0it [00:00, ?it/s]"
      ]
     },
     "metadata": {},
     "output_type": "display_data"
    },
    {
     "data": {
      "application/vnd.jupyter.widget-view+json": {
       "model_id": "0d575bb5aa0544bab40e97bee491585c",
       "version_major": 2,
       "version_minor": 0
      },
      "text/plain": [
       "Predicting: 0it [00:00, ?it/s]"
      ]
     },
     "metadata": {},
     "output_type": "display_data"
    },
    {
     "data": {
      "application/vnd.jupyter.widget-view+json": {
       "model_id": "b6cd4538fbc746dcaa6315f10419f465",
       "version_major": 2,
       "version_minor": 0
      },
      "text/plain": [
       "Predicting: 0it [00:00, ?it/s]"
      ]
     },
     "metadata": {},
     "output_type": "display_data"
    },
    {
     "data": {
      "application/vnd.jupyter.widget-view+json": {
       "model_id": "e8acb6e7dcb24f57b7888c74cb83a566",
       "version_major": 2,
       "version_minor": 0
      },
      "text/plain": [
       "Predicting: 0it [00:00, ?it/s]"
      ]
     },
     "metadata": {},
     "output_type": "display_data"
    },
    {
     "data": {
      "application/vnd.jupyter.widget-view+json": {
       "model_id": "905fd548691b498ba7d9f0203307d2a8",
       "version_major": 2,
       "version_minor": 0
      },
      "text/plain": [
       "Predicting: 0it [00:00, ?it/s]"
      ]
     },
     "metadata": {},
     "output_type": "display_data"
    },
    {
     "data": {
      "application/vnd.jupyter.widget-view+json": {
       "model_id": "0c78439aa8744f6cbc54deb2264aa537",
       "version_major": 2,
       "version_minor": 0
      },
      "text/plain": [
       "Predicting: 0it [00:00, ?it/s]"
      ]
     },
     "metadata": {},
     "output_type": "display_data"
    },
    {
     "data": {
      "application/vnd.jupyter.widget-view+json": {
       "model_id": "aac8b0fdcf104e7a8976e6dbe3bffe8b",
       "version_major": 2,
       "version_minor": 0
      },
      "text/plain": [
       "Predicting: 0it [00:00, ?it/s]"
      ]
     },
     "metadata": {},
     "output_type": "display_data"
    },
    {
     "data": {
      "application/vnd.jupyter.widget-view+json": {
       "model_id": "d925217e498b4fec8d0c13c0b3d15889",
       "version_major": 2,
       "version_minor": 0
      },
      "text/plain": [
       "Predicting: 0it [00:00, ?it/s]"
      ]
     },
     "metadata": {},
     "output_type": "display_data"
    },
    {
     "data": {
      "application/vnd.jupyter.widget-view+json": {
       "model_id": "611eaa3bf2d149478a5d38dceb2e27cf",
       "version_major": 2,
       "version_minor": 0
      },
      "text/plain": [
       "Predicting: 0it [00:00, ?it/s]"
      ]
     },
     "metadata": {},
     "output_type": "display_data"
    },
    {
     "data": {
      "application/vnd.jupyter.widget-view+json": {
       "model_id": "ca345cdbba144fb38dc01aa8ac706fff",
       "version_major": 2,
       "version_minor": 0
      },
      "text/plain": [
       "Predicting: 0it [00:00, ?it/s]"
      ]
     },
     "metadata": {},
     "output_type": "display_data"
    },
    {
     "data": {
      "application/vnd.jupyter.widget-view+json": {
       "model_id": "df1ddcc6bd914a2796caa8c55ef705b7",
       "version_major": 2,
       "version_minor": 0
      },
      "text/plain": [
       "Predicting: 0it [00:00, ?it/s]"
      ]
     },
     "metadata": {},
     "output_type": "display_data"
    },
    {
     "data": {
      "application/vnd.jupyter.widget-view+json": {
       "model_id": "915c59d19b7543d19524b4af626d5dc9",
       "version_major": 2,
       "version_minor": 0
      },
      "text/plain": [
       "Predicting: 0it [00:00, ?it/s]"
      ]
     },
     "metadata": {},
     "output_type": "display_data"
    },
    {
     "data": {
      "application/vnd.jupyter.widget-view+json": {
       "model_id": "49051a85400b405ba0508db55246320d",
       "version_major": 2,
       "version_minor": 0
      },
      "text/plain": [
       "Predicting: 0it [00:00, ?it/s]"
      ]
     },
     "metadata": {},
     "output_type": "display_data"
    },
    {
     "data": {
      "application/vnd.jupyter.widget-view+json": {
       "model_id": "6d5a4418701643b9b478d28fd12623db",
       "version_major": 2,
       "version_minor": 0
      },
      "text/plain": [
       "Predicting: 0it [00:00, ?it/s]"
      ]
     },
     "metadata": {},
     "output_type": "display_data"
    },
    {
     "data": {
      "application/vnd.jupyter.widget-view+json": {
       "model_id": "85810a74dd354f6b8453761ce42de798",
       "version_major": 2,
       "version_minor": 0
      },
      "text/plain": [
       "Predicting: 0it [00:00, ?it/s]"
      ]
     },
     "metadata": {},
     "output_type": "display_data"
    },
    {
     "data": {
      "application/vnd.jupyter.widget-view+json": {
       "model_id": "276b8ade790b4f3d8feabd713492451a",
       "version_major": 2,
       "version_minor": 0
      },
      "text/plain": [
       "Predicting: 0it [00:00, ?it/s]"
      ]
     },
     "metadata": {},
     "output_type": "display_data"
    },
    {
     "data": {
      "application/vnd.jupyter.widget-view+json": {
       "model_id": "2049dd01c9ef41c496853192d72c9eef",
       "version_major": 2,
       "version_minor": 0
      },
      "text/plain": [
       "Predicting: 0it [00:00, ?it/s]"
      ]
     },
     "metadata": {},
     "output_type": "display_data"
    },
    {
     "data": {
      "application/vnd.jupyter.widget-view+json": {
       "model_id": "cc88700f691943509b10b2952c211415",
       "version_major": 2,
       "version_minor": 0
      },
      "text/plain": [
       "Predicting: 0it [00:00, ?it/s]"
      ]
     },
     "metadata": {},
     "output_type": "display_data"
    },
    {
     "data": {
      "application/vnd.jupyter.widget-view+json": {
       "model_id": "16ea1a3a92494e819d1cf95fcaa89c8a",
       "version_major": 2,
       "version_minor": 0
      },
      "text/plain": [
       "Predicting: 0it [00:00, ?it/s]"
      ]
     },
     "metadata": {},
     "output_type": "display_data"
    },
    {
     "data": {
      "application/vnd.jupyter.widget-view+json": {
       "model_id": "0c95221b825c4e7b8bb6cc7666054959",
       "version_major": 2,
       "version_minor": 0
      },
      "text/plain": [
       "Predicting: 0it [00:00, ?it/s]"
      ]
     },
     "metadata": {},
     "output_type": "display_data"
    },
    {
     "data": {
      "application/vnd.jupyter.widget-view+json": {
       "model_id": "ff738b40216544e48510ee6d5ccd706d",
       "version_major": 2,
       "version_minor": 0
      },
      "text/plain": [
       "Predicting: 0it [00:00, ?it/s]"
      ]
     },
     "metadata": {},
     "output_type": "display_data"
    },
    {
     "data": {
      "application/vnd.jupyter.widget-view+json": {
       "model_id": "e64b650df3e44b5b8f8d3ae54d70f366",
       "version_major": 2,
       "version_minor": 0
      },
      "text/plain": [
       "Predicting: 0it [00:00, ?it/s]"
      ]
     },
     "metadata": {},
     "output_type": "display_data"
    },
    {
     "data": {
      "application/vnd.jupyter.widget-view+json": {
       "model_id": "c8aa9890829842da9563621828067dea",
       "version_major": 2,
       "version_minor": 0
      },
      "text/plain": [
       "Predicting: 0it [00:00, ?it/s]"
      ]
     },
     "metadata": {},
     "output_type": "display_data"
    },
    {
     "data": {
      "application/vnd.jupyter.widget-view+json": {
       "model_id": "92470ed32ef243fd91afca9a4d9d0a7b",
       "version_major": 2,
       "version_minor": 0
      },
      "text/plain": [
       "Predicting: 0it [00:00, ?it/s]"
      ]
     },
     "metadata": {},
     "output_type": "display_data"
    },
    {
     "data": {
      "application/vnd.jupyter.widget-view+json": {
       "model_id": "eeecba197be84a08acfbd0e303aa3746",
       "version_major": 2,
       "version_minor": 0
      },
      "text/plain": [
       "Predicting: 0it [00:00, ?it/s]"
      ]
     },
     "metadata": {},
     "output_type": "display_data"
    },
    {
     "data": {
      "application/vnd.jupyter.widget-view+json": {
       "model_id": "ce909302280f479eb340261b89f331df",
       "version_major": 2,
       "version_minor": 0
      },
      "text/plain": [
       "Predicting: 0it [00:00, ?it/s]"
      ]
     },
     "metadata": {},
     "output_type": "display_data"
    },
    {
     "data": {
      "application/vnd.jupyter.widget-view+json": {
       "model_id": "eb3d896c13b64663a08c06e4d45f1d9d",
       "version_major": 2,
       "version_minor": 0
      },
      "text/plain": [
       "Predicting: 0it [00:00, ?it/s]"
      ]
     },
     "metadata": {},
     "output_type": "display_data"
    },
    {
     "data": {
      "application/vnd.jupyter.widget-view+json": {
       "model_id": "3e4867fe6a24472186c8f44af75c2c12",
       "version_major": 2,
       "version_minor": 0
      },
      "text/plain": [
       "Predicting: 0it [00:00, ?it/s]"
      ]
     },
     "metadata": {},
     "output_type": "display_data"
    },
    {
     "data": {
      "application/vnd.jupyter.widget-view+json": {
       "model_id": "5f886004fb754165ac944648a75305a3",
       "version_major": 2,
       "version_minor": 0
      },
      "text/plain": [
       "Predicting: 0it [00:00, ?it/s]"
      ]
     },
     "metadata": {},
     "output_type": "display_data"
    },
    {
     "data": {
      "application/vnd.jupyter.widget-view+json": {
       "model_id": "5a68142765ba42b4bdb91296e94bafab",
       "version_major": 2,
       "version_minor": 0
      },
      "text/plain": [
       "Predicting: 0it [00:00, ?it/s]"
      ]
     },
     "metadata": {},
     "output_type": "display_data"
    },
    {
     "data": {
      "application/vnd.jupyter.widget-view+json": {
       "model_id": "f5adc229e54245859bfab2a279dc5cae",
       "version_major": 2,
       "version_minor": 0
      },
      "text/plain": [
       "Predicting: 0it [00:00, ?it/s]"
      ]
     },
     "metadata": {},
     "output_type": "display_data"
    },
    {
     "data": {
      "application/vnd.jupyter.widget-view+json": {
       "model_id": "9527f0406ede4c45909c3a489ff698a3",
       "version_major": 2,
       "version_minor": 0
      },
      "text/plain": [
       "Predicting: 0it [00:00, ?it/s]"
      ]
     },
     "metadata": {},
     "output_type": "display_data"
    },
    {
     "data": {
      "application/vnd.jupyter.widget-view+json": {
       "model_id": "8457303804884c6998d9c762a63d801d",
       "version_major": 2,
       "version_minor": 0
      },
      "text/plain": [
       "Predicting: 0it [00:00, ?it/s]"
      ]
     },
     "metadata": {},
     "output_type": "display_data"
    },
    {
     "data": {
      "application/vnd.jupyter.widget-view+json": {
       "model_id": "7e68511c966640ef8facd7ff34e90f15",
       "version_major": 2,
       "version_minor": 0
      },
      "text/plain": [
       "Predicting: 0it [00:00, ?it/s]"
      ]
     },
     "metadata": {},
     "output_type": "display_data"
    },
    {
     "data": {
      "application/vnd.jupyter.widget-view+json": {
       "model_id": "939f66bb78704d0a80762663cc4a0241",
       "version_major": 2,
       "version_minor": 0
      },
      "text/plain": [
       "Predicting: 0it [00:00, ?it/s]"
      ]
     },
     "metadata": {},
     "output_type": "display_data"
    },
    {
     "data": {
      "application/vnd.jupyter.widget-view+json": {
       "model_id": "a4da7845442545aa9cc58c0b8d2d3735",
       "version_major": 2,
       "version_minor": 0
      },
      "text/plain": [
       "Predicting: 0it [00:00, ?it/s]"
      ]
     },
     "metadata": {},
     "output_type": "display_data"
    },
    {
     "data": {
      "application/vnd.jupyter.widget-view+json": {
       "model_id": "fd0fa519b6ac4492bf77b15ccebc0865",
       "version_major": 2,
       "version_minor": 0
      },
      "text/plain": [
       "Predicting: 0it [00:00, ?it/s]"
      ]
     },
     "metadata": {},
     "output_type": "display_data"
    },
    {
     "data": {
      "application/vnd.jupyter.widget-view+json": {
       "model_id": "b86a07b22aec4a35971e976b213f962e",
       "version_major": 2,
       "version_minor": 0
      },
      "text/plain": [
       "Predicting: 0it [00:00, ?it/s]"
      ]
     },
     "metadata": {},
     "output_type": "display_data"
    },
    {
     "data": {
      "application/vnd.jupyter.widget-view+json": {
       "model_id": "b6bad14f70f642ccba55fb36db32a887",
       "version_major": 2,
       "version_minor": 0
      },
      "text/plain": [
       "Predicting: 0it [00:00, ?it/s]"
      ]
     },
     "metadata": {},
     "output_type": "display_data"
    },
    {
     "data": {
      "application/vnd.jupyter.widget-view+json": {
       "model_id": "023a5f74e1e74cbe90969fa5caeede82",
       "version_major": 2,
       "version_minor": 0
      },
      "text/plain": [
       "Predicting: 0it [00:00, ?it/s]"
      ]
     },
     "metadata": {},
     "output_type": "display_data"
    },
    {
     "data": {
      "application/vnd.jupyter.widget-view+json": {
       "model_id": "b8a2d4c9c6ef440398b0b633e4da70ac",
       "version_major": 2,
       "version_minor": 0
      },
      "text/plain": [
       "Predicting: 0it [00:00, ?it/s]"
      ]
     },
     "metadata": {},
     "output_type": "display_data"
    },
    {
     "data": {
      "application/vnd.jupyter.widget-view+json": {
       "model_id": "f5a82b4a07144318ae3efd111b856fce",
       "version_major": 2,
       "version_minor": 0
      },
      "text/plain": [
       "Predicting: 0it [00:00, ?it/s]"
      ]
     },
     "metadata": {},
     "output_type": "display_data"
    },
    {
     "data": {
      "application/vnd.jupyter.widget-view+json": {
       "model_id": "247362d9ed944acf8385554eb410eed4",
       "version_major": 2,
       "version_minor": 0
      },
      "text/plain": [
       "Predicting: 0it [00:00, ?it/s]"
      ]
     },
     "metadata": {},
     "output_type": "display_data"
    },
    {
     "data": {
      "application/vnd.jupyter.widget-view+json": {
       "model_id": "f42183a5766847de896991a818309ca3",
       "version_major": 2,
       "version_minor": 0
      },
      "text/plain": [
       "Predicting: 0it [00:00, ?it/s]"
      ]
     },
     "metadata": {},
     "output_type": "display_data"
    },
    {
     "data": {
      "application/vnd.jupyter.widget-view+json": {
       "model_id": "d2630a742ca748fa82d767dd4b75defd",
       "version_major": 2,
       "version_minor": 0
      },
      "text/plain": [
       "Predicting: 0it [00:00, ?it/s]"
      ]
     },
     "metadata": {},
     "output_type": "display_data"
    },
    {
     "data": {
      "application/vnd.jupyter.widget-view+json": {
       "model_id": "3afa7d9f73a44aa69e7d2b5f5fcb969d",
       "version_major": 2,
       "version_minor": 0
      },
      "text/plain": [
       "Predicting: 0it [00:00, ?it/s]"
      ]
     },
     "metadata": {},
     "output_type": "display_data"
    },
    {
     "data": {
      "application/vnd.jupyter.widget-view+json": {
       "model_id": "eb625c11f04a4c04bd5739c69951303e",
       "version_major": 2,
       "version_minor": 0
      },
      "text/plain": [
       "Predicting: 0it [00:00, ?it/s]"
      ]
     },
     "metadata": {},
     "output_type": "display_data"
    },
    {
     "data": {
      "application/vnd.jupyter.widget-view+json": {
       "model_id": "ce577b17d55241518691ee87f5dce52b",
       "version_major": 2,
       "version_minor": 0
      },
      "text/plain": [
       "Predicting: 0it [00:00, ?it/s]"
      ]
     },
     "metadata": {},
     "output_type": "display_data"
    },
    {
     "data": {
      "application/vnd.jupyter.widget-view+json": {
       "model_id": "7d3be688e8284932a01c51e18532e25e",
       "version_major": 2,
       "version_minor": 0
      },
      "text/plain": [
       "Predicting: 0it [00:00, ?it/s]"
      ]
     },
     "metadata": {},
     "output_type": "display_data"
    },
    {
     "data": {
      "application/vnd.jupyter.widget-view+json": {
       "model_id": "d3b922bfdfe84654b7c78961aad488e7",
       "version_major": 2,
       "version_minor": 0
      },
      "text/plain": [
       "Predicting: 0it [00:00, ?it/s]"
      ]
     },
     "metadata": {},
     "output_type": "display_data"
    },
    {
     "data": {
      "application/vnd.jupyter.widget-view+json": {
       "model_id": "cc16d803a0774c6f847492753b582e35",
       "version_major": 2,
       "version_minor": 0
      },
      "text/plain": [
       "Predicting: 0it [00:00, ?it/s]"
      ]
     },
     "metadata": {},
     "output_type": "display_data"
    },
    {
     "data": {
      "application/vnd.jupyter.widget-view+json": {
       "model_id": "dd21c26104ad426c8a836394e62c0866",
       "version_major": 2,
       "version_minor": 0
      },
      "text/plain": [
       "Predicting: 0it [00:00, ?it/s]"
      ]
     },
     "metadata": {},
     "output_type": "display_data"
    },
    {
     "data": {
      "application/vnd.jupyter.widget-view+json": {
       "model_id": "3c2c6bbf73054c7cb12a1fa970a858f9",
       "version_major": 2,
       "version_minor": 0
      },
      "text/plain": [
       "Predicting: 0it [00:00, ?it/s]"
      ]
     },
     "metadata": {},
     "output_type": "display_data"
    },
    {
     "data": {
      "application/vnd.jupyter.widget-view+json": {
       "model_id": "a509dce930c949e9881e88f4551d872a",
       "version_major": 2,
       "version_minor": 0
      },
      "text/plain": [
       "Predicting: 0it [00:00, ?it/s]"
      ]
     },
     "metadata": {},
     "output_type": "display_data"
    },
    {
     "data": {
      "application/vnd.jupyter.widget-view+json": {
       "model_id": "fa07a07e15f54c5d851c2179e3852172",
       "version_major": 2,
       "version_minor": 0
      },
      "text/plain": [
       "Predicting: 0it [00:00, ?it/s]"
      ]
     },
     "metadata": {},
     "output_type": "display_data"
    },
    {
     "data": {
      "application/vnd.jupyter.widget-view+json": {
       "model_id": "8f0ebbf2aced411bb3ca89bfa75ad007",
       "version_major": 2,
       "version_minor": 0
      },
      "text/plain": [
       "Predicting: 0it [00:00, ?it/s]"
      ]
     },
     "metadata": {},
     "output_type": "display_data"
    },
    {
     "data": {
      "application/vnd.jupyter.widget-view+json": {
       "model_id": "324d9658e23e407aae2e2b8c4a675d13",
       "version_major": 2,
       "version_minor": 0
      },
      "text/plain": [
       "Predicting: 0it [00:00, ?it/s]"
      ]
     },
     "metadata": {},
     "output_type": "display_data"
    },
    {
     "data": {
      "application/vnd.jupyter.widget-view+json": {
       "model_id": "9c158eccfa5744d6ba94e4df907ead9f",
       "version_major": 2,
       "version_minor": 0
      },
      "text/plain": [
       "Predicting: 0it [00:00, ?it/s]"
      ]
     },
     "metadata": {},
     "output_type": "display_data"
    },
    {
     "data": {
      "application/vnd.jupyter.widget-view+json": {
       "model_id": "530cb7c3d09945d396c8bd809fcde237",
       "version_major": 2,
       "version_minor": 0
      },
      "text/plain": [
       "Predicting: 0it [00:00, ?it/s]"
      ]
     },
     "metadata": {},
     "output_type": "display_data"
    },
    {
     "data": {
      "application/vnd.jupyter.widget-view+json": {
       "model_id": "ca31fdee1f27425e9c077a85f11028a9",
       "version_major": 2,
       "version_minor": 0
      },
      "text/plain": [
       "Predicting: 0it [00:00, ?it/s]"
      ]
     },
     "metadata": {},
     "output_type": "display_data"
    },
    {
     "data": {
      "application/vnd.jupyter.widget-view+json": {
       "model_id": "8ebf4ec86e0746d2adb72804c00f8d4f",
       "version_major": 2,
       "version_minor": 0
      },
      "text/plain": [
       "Predicting: 0it [00:00, ?it/s]"
      ]
     },
     "metadata": {},
     "output_type": "display_data"
    },
    {
     "data": {
      "application/vnd.jupyter.widget-view+json": {
       "model_id": "b9900c72d23747f4a17d10f8c19e2f78",
       "version_major": 2,
       "version_minor": 0
      },
      "text/plain": [
       "Predicting: 0it [00:00, ?it/s]"
      ]
     },
     "metadata": {},
     "output_type": "display_data"
    },
    {
     "data": {
      "application/vnd.jupyter.widget-view+json": {
       "model_id": "43983f0625864cf5983c867eb6b919be",
       "version_major": 2,
       "version_minor": 0
      },
      "text/plain": [
       "Predicting: 0it [00:00, ?it/s]"
      ]
     },
     "metadata": {},
     "output_type": "display_data"
    },
    {
     "data": {
      "application/vnd.jupyter.widget-view+json": {
       "model_id": "55dd15abc7ec4563a1c0e401b5794e30",
       "version_major": 2,
       "version_minor": 0
      },
      "text/plain": [
       "Predicting: 0it [00:00, ?it/s]"
      ]
     },
     "metadata": {},
     "output_type": "display_data"
    },
    {
     "name": "stdout",
     "output_type": "stream",
     "text": [
      "Current value: 51.316206220988974, Current params: {'in_len': 149, 'out_len': 122, 'num_encoder_layers_temp': 4, 'num_decoder_layers_temp': 4, 'activation_temp': 'GELU', 'kernel_size': 7, 'num_filters': 3, 'weight_norm': False, 'dilation_base': 6, 'dropout': 0.034950217775877444, 'lr': 0.0007963285373416728}\n",
      "Best value: 51.316206220988974, Best params: {'in_len': 149, 'out_len': 122, 'num_encoder_layers_temp': 4, 'num_decoder_layers_temp': 4, 'activation_temp': 'GELU', 'kernel_size': 7, 'num_filters': 3, 'weight_norm': False, 'dilation_base': 6, 'dropout': 0.034950217775877444, 'lr': 0.0007963285373416728}\n"
     ]
    },
    {
     "data": {
      "application/vnd.jupyter.widget-view+json": {
       "model_id": "",
       "version_major": 2,
       "version_minor": 0
      },
      "text/plain": [
       "Sanity Checking: 0it [00:00, ?it/s]"
      ]
     },
     "metadata": {},
     "output_type": "display_data"
    },
    {
     "data": {
      "application/vnd.jupyter.widget-view+json": {
       "model_id": "c4f12c72c1a64fc4930c61db2c2a6b40",
       "version_major": 2,
       "version_minor": 0
      },
      "text/plain": [
       "Training: 0it [00:00, ?it/s]"
      ]
     },
     "metadata": {},
     "output_type": "display_data"
    },
    {
     "ename": "FileNotFoundError",
     "evalue": "There is no file matching prefix best-* in /storage/rwp2/Pipeline/Dask/split/darts_logs/tcn_model_1/checkpoints",
     "output_type": "error",
     "traceback": [
      "\u001b[0;31m---------------------------------------------------------------------------\u001b[0m",
      "\u001b[0;31mFileNotFoundError\u001b[0m                         Traceback (most recent call last)",
      "Cell \u001b[0;32mIn[27], line 144\u001b[0m\n\u001b[1;32m    141\u001b[0m     study\u001b[38;5;241m.\u001b[39moptimize(objective, n_trials\u001b[38;5;241m=\u001b[39m\u001b[38;5;241m3\u001b[39m, callbacks\u001b[38;5;241m=\u001b[39m[print_callback])\n\u001b[1;32m    143\u001b[0m \u001b[38;5;28;01mif\u001b[39;00m \u001b[38;5;18m__name__\u001b[39m \u001b[38;5;241m==\u001b[39m \u001b[38;5;124m\"\u001b[39m\u001b[38;5;124m__main__\u001b[39m\u001b[38;5;124m\"\u001b[39m:\n\u001b[0;32m--> 144\u001b[0m     \u001b[43mrun_trial\u001b[49m\u001b[43m(\u001b[49m\u001b[43m)\u001b[49m\n\u001b[1;32m    145\u001b[0m     \u001b[38;5;66;03m# objective(Trial())\u001b[39;00m\n",
      "Cell \u001b[0;32mIn[27], line 141\u001b[0m, in \u001b[0;36mrun_trial\u001b[0;34m()\u001b[0m\n\u001b[1;32m    139\u001b[0m \u001b[38;5;28;01mdef\u001b[39;00m \u001b[38;5;21mrun_trial\u001b[39m():\n\u001b[1;32m    140\u001b[0m     study \u001b[38;5;241m=\u001b[39m optuna\u001b[38;5;241m.\u001b[39mcreate_study(direction\u001b[38;5;241m=\u001b[39m\u001b[38;5;124m\"\u001b[39m\u001b[38;5;124mminimize\u001b[39m\u001b[38;5;124m\"\u001b[39m)\n\u001b[0;32m--> 141\u001b[0m     \u001b[43mstudy\u001b[49m\u001b[38;5;241;43m.\u001b[39;49m\u001b[43moptimize\u001b[49m\u001b[43m(\u001b[49m\u001b[43mobjective\u001b[49m\u001b[43m,\u001b[49m\u001b[43m \u001b[49m\u001b[43mn_trials\u001b[49m\u001b[38;5;241;43m=\u001b[39;49m\u001b[38;5;241;43m3\u001b[39;49m\u001b[43m,\u001b[49m\u001b[43m \u001b[49m\u001b[43mcallbacks\u001b[49m\u001b[38;5;241;43m=\u001b[39;49m\u001b[43m[\u001b[49m\u001b[43mprint_callback\u001b[49m\u001b[43m]\u001b[49m\u001b[43m)\u001b[49m\n",
      "File \u001b[0;32m~/.local/lib/python3.10/site-packages/optuna/study/study.py:443\u001b[0m, in \u001b[0;36mStudy.optimize\u001b[0;34m(self, func, n_trials, timeout, n_jobs, catch, callbacks, gc_after_trial, show_progress_bar)\u001b[0m\n\u001b[1;32m    339\u001b[0m \u001b[38;5;28;01mdef\u001b[39;00m \u001b[38;5;21moptimize\u001b[39m(\n\u001b[1;32m    340\u001b[0m     \u001b[38;5;28mself\u001b[39m,\n\u001b[1;32m    341\u001b[0m     func: ObjectiveFuncType,\n\u001b[0;32m   (...)\u001b[0m\n\u001b[1;32m    348\u001b[0m     show_progress_bar: \u001b[38;5;28mbool\u001b[39m \u001b[38;5;241m=\u001b[39m \u001b[38;5;28;01mFalse\u001b[39;00m,\n\u001b[1;32m    349\u001b[0m ) \u001b[38;5;241m-\u001b[39m\u001b[38;5;241m>\u001b[39m \u001b[38;5;28;01mNone\u001b[39;00m:\n\u001b[1;32m    350\u001b[0m \u001b[38;5;250m    \u001b[39m\u001b[38;5;124;03m\"\"\"Optimize an objective function.\u001b[39;00m\n\u001b[1;32m    351\u001b[0m \n\u001b[1;32m    352\u001b[0m \u001b[38;5;124;03m    Optimization is done by choosing a suitable set of hyperparameter values from a given\u001b[39;00m\n\u001b[0;32m   (...)\u001b[0m\n\u001b[1;32m    440\u001b[0m \u001b[38;5;124;03m            If nested invocation of this method occurs.\u001b[39;00m\n\u001b[1;32m    441\u001b[0m \u001b[38;5;124;03m    \"\"\"\u001b[39;00m\n\u001b[0;32m--> 443\u001b[0m     \u001b[43m_optimize\u001b[49m\u001b[43m(\u001b[49m\n\u001b[1;32m    444\u001b[0m \u001b[43m        \u001b[49m\u001b[43mstudy\u001b[49m\u001b[38;5;241;43m=\u001b[39;49m\u001b[38;5;28;43mself\u001b[39;49m\u001b[43m,\u001b[49m\n\u001b[1;32m    445\u001b[0m \u001b[43m        \u001b[49m\u001b[43mfunc\u001b[49m\u001b[38;5;241;43m=\u001b[39;49m\u001b[43mfunc\u001b[49m\u001b[43m,\u001b[49m\n\u001b[1;32m    446\u001b[0m \u001b[43m        \u001b[49m\u001b[43mn_trials\u001b[49m\u001b[38;5;241;43m=\u001b[39;49m\u001b[43mn_trials\u001b[49m\u001b[43m,\u001b[49m\n\u001b[1;32m    447\u001b[0m \u001b[43m        \u001b[49m\u001b[43mtimeout\u001b[49m\u001b[38;5;241;43m=\u001b[39;49m\u001b[43mtimeout\u001b[49m\u001b[43m,\u001b[49m\n\u001b[1;32m    448\u001b[0m \u001b[43m        \u001b[49m\u001b[43mn_jobs\u001b[49m\u001b[38;5;241;43m=\u001b[39;49m\u001b[43mn_jobs\u001b[49m\u001b[43m,\u001b[49m\n\u001b[1;32m    449\u001b[0m \u001b[43m        \u001b[49m\u001b[43mcatch\u001b[49m\u001b[38;5;241;43m=\u001b[39;49m\u001b[38;5;28;43mtuple\u001b[39;49m\u001b[43m(\u001b[49m\u001b[43mcatch\u001b[49m\u001b[43m)\u001b[49m\u001b[43m \u001b[49m\u001b[38;5;28;43;01mif\u001b[39;49;00m\u001b[43m \u001b[49m\u001b[38;5;28;43misinstance\u001b[39;49m\u001b[43m(\u001b[49m\u001b[43mcatch\u001b[49m\u001b[43m,\u001b[49m\u001b[43m \u001b[49m\u001b[43mIterable\u001b[49m\u001b[43m)\u001b[49m\u001b[43m \u001b[49m\u001b[38;5;28;43;01melse\u001b[39;49;00m\u001b[43m \u001b[49m\u001b[43m(\u001b[49m\u001b[43mcatch\u001b[49m\u001b[43m,\u001b[49m\u001b[43m)\u001b[49m\u001b[43m,\u001b[49m\n\u001b[1;32m    450\u001b[0m \u001b[43m        \u001b[49m\u001b[43mcallbacks\u001b[49m\u001b[38;5;241;43m=\u001b[39;49m\u001b[43mcallbacks\u001b[49m\u001b[43m,\u001b[49m\n\u001b[1;32m    451\u001b[0m \u001b[43m        \u001b[49m\u001b[43mgc_after_trial\u001b[49m\u001b[38;5;241;43m=\u001b[39;49m\u001b[43mgc_after_trial\u001b[49m\u001b[43m,\u001b[49m\n\u001b[1;32m    452\u001b[0m \u001b[43m        \u001b[49m\u001b[43mshow_progress_bar\u001b[49m\u001b[38;5;241;43m=\u001b[39;49m\u001b[43mshow_progress_bar\u001b[49m\u001b[43m,\u001b[49m\n\u001b[1;32m    453\u001b[0m \u001b[43m    \u001b[49m\u001b[43m)\u001b[49m\n",
      "File \u001b[0;32m~/.local/lib/python3.10/site-packages/optuna/study/_optimize.py:66\u001b[0m, in \u001b[0;36m_optimize\u001b[0;34m(study, func, n_trials, timeout, n_jobs, catch, callbacks, gc_after_trial, show_progress_bar)\u001b[0m\n\u001b[1;32m     64\u001b[0m \u001b[38;5;28;01mtry\u001b[39;00m:\n\u001b[1;32m     65\u001b[0m     \u001b[38;5;28;01mif\u001b[39;00m n_jobs \u001b[38;5;241m==\u001b[39m \u001b[38;5;241m1\u001b[39m:\n\u001b[0;32m---> 66\u001b[0m         \u001b[43m_optimize_sequential\u001b[49m\u001b[43m(\u001b[49m\n\u001b[1;32m     67\u001b[0m \u001b[43m            \u001b[49m\u001b[43mstudy\u001b[49m\u001b[43m,\u001b[49m\n\u001b[1;32m     68\u001b[0m \u001b[43m            \u001b[49m\u001b[43mfunc\u001b[49m\u001b[43m,\u001b[49m\n\u001b[1;32m     69\u001b[0m \u001b[43m            \u001b[49m\u001b[43mn_trials\u001b[49m\u001b[43m,\u001b[49m\n\u001b[1;32m     70\u001b[0m \u001b[43m            \u001b[49m\u001b[43mtimeout\u001b[49m\u001b[43m,\u001b[49m\n\u001b[1;32m     71\u001b[0m \u001b[43m            \u001b[49m\u001b[43mcatch\u001b[49m\u001b[43m,\u001b[49m\n\u001b[1;32m     72\u001b[0m \u001b[43m            \u001b[49m\u001b[43mcallbacks\u001b[49m\u001b[43m,\u001b[49m\n\u001b[1;32m     73\u001b[0m \u001b[43m            \u001b[49m\u001b[43mgc_after_trial\u001b[49m\u001b[43m,\u001b[49m\n\u001b[1;32m     74\u001b[0m \u001b[43m            \u001b[49m\u001b[43mreseed_sampler_rng\u001b[49m\u001b[38;5;241;43m=\u001b[39;49m\u001b[38;5;28;43;01mFalse\u001b[39;49;00m\u001b[43m,\u001b[49m\n\u001b[1;32m     75\u001b[0m \u001b[43m            \u001b[49m\u001b[43mtime_start\u001b[49m\u001b[38;5;241;43m=\u001b[39;49m\u001b[38;5;28;43;01mNone\u001b[39;49;00m\u001b[43m,\u001b[49m\n\u001b[1;32m     76\u001b[0m \u001b[43m            \u001b[49m\u001b[43mprogress_bar\u001b[49m\u001b[38;5;241;43m=\u001b[39;49m\u001b[43mprogress_bar\u001b[49m\u001b[43m,\u001b[49m\n\u001b[1;32m     77\u001b[0m \u001b[43m        \u001b[49m\u001b[43m)\u001b[49m\n\u001b[1;32m     78\u001b[0m     \u001b[38;5;28;01melse\u001b[39;00m:\n\u001b[1;32m     79\u001b[0m         \u001b[38;5;28;01mif\u001b[39;00m n_jobs \u001b[38;5;241m==\u001b[39m \u001b[38;5;241m-\u001b[39m\u001b[38;5;241m1\u001b[39m:\n",
      "File \u001b[0;32m~/.local/lib/python3.10/site-packages/optuna/study/_optimize.py:163\u001b[0m, in \u001b[0;36m_optimize_sequential\u001b[0;34m(study, func, n_trials, timeout, catch, callbacks, gc_after_trial, reseed_sampler_rng, time_start, progress_bar)\u001b[0m\n\u001b[1;32m    160\u001b[0m         \u001b[38;5;28;01mbreak\u001b[39;00m\n\u001b[1;32m    162\u001b[0m \u001b[38;5;28;01mtry\u001b[39;00m:\n\u001b[0;32m--> 163\u001b[0m     frozen_trial \u001b[38;5;241m=\u001b[39m \u001b[43m_run_trial\u001b[49m\u001b[43m(\u001b[49m\u001b[43mstudy\u001b[49m\u001b[43m,\u001b[49m\u001b[43m \u001b[49m\u001b[43mfunc\u001b[49m\u001b[43m,\u001b[49m\u001b[43m \u001b[49m\u001b[43mcatch\u001b[49m\u001b[43m)\u001b[49m\n\u001b[1;32m    164\u001b[0m \u001b[38;5;28;01mfinally\u001b[39;00m:\n\u001b[1;32m    165\u001b[0m     \u001b[38;5;66;03m# The following line mitigates memory problems that can be occurred in some\u001b[39;00m\n\u001b[1;32m    166\u001b[0m     \u001b[38;5;66;03m# environments (e.g., services that use computing containers such as GitHub Actions).\u001b[39;00m\n\u001b[1;32m    167\u001b[0m     \u001b[38;5;66;03m# Please refer to the following PR for further details:\u001b[39;00m\n\u001b[1;32m    168\u001b[0m     \u001b[38;5;66;03m# https://github.com/optuna/optuna/pull/325.\u001b[39;00m\n\u001b[1;32m    169\u001b[0m     \u001b[38;5;28;01mif\u001b[39;00m gc_after_trial:\n",
      "File \u001b[0;32m~/.local/lib/python3.10/site-packages/optuna/study/_optimize.py:251\u001b[0m, in \u001b[0;36m_run_trial\u001b[0;34m(study, func, catch)\u001b[0m\n\u001b[1;32m    244\u001b[0m         \u001b[38;5;28;01massert\u001b[39;00m \u001b[38;5;28;01mFalse\u001b[39;00m, \u001b[38;5;124m\"\u001b[39m\u001b[38;5;124mShould not reach.\u001b[39m\u001b[38;5;124m\"\u001b[39m\n\u001b[1;32m    246\u001b[0m \u001b[38;5;28;01mif\u001b[39;00m (\n\u001b[1;32m    247\u001b[0m     frozen_trial\u001b[38;5;241m.\u001b[39mstate \u001b[38;5;241m==\u001b[39m TrialState\u001b[38;5;241m.\u001b[39mFAIL\n\u001b[1;32m    248\u001b[0m     \u001b[38;5;129;01mand\u001b[39;00m func_err \u001b[38;5;129;01mis\u001b[39;00m \u001b[38;5;129;01mnot\u001b[39;00m \u001b[38;5;28;01mNone\u001b[39;00m\n\u001b[1;32m    249\u001b[0m     \u001b[38;5;129;01mand\u001b[39;00m \u001b[38;5;129;01mnot\u001b[39;00m \u001b[38;5;28misinstance\u001b[39m(func_err, catch)\n\u001b[1;32m    250\u001b[0m ):\n\u001b[0;32m--> 251\u001b[0m     \u001b[38;5;28;01mraise\u001b[39;00m func_err\n\u001b[1;32m    252\u001b[0m \u001b[38;5;28;01mreturn\u001b[39;00m frozen_trial\n",
      "File \u001b[0;32m~/.local/lib/python3.10/site-packages/optuna/study/_optimize.py:200\u001b[0m, in \u001b[0;36m_run_trial\u001b[0;34m(study, func, catch)\u001b[0m\n\u001b[1;32m    198\u001b[0m \u001b[38;5;28;01mwith\u001b[39;00m get_heartbeat_thread(trial\u001b[38;5;241m.\u001b[39m_trial_id, study\u001b[38;5;241m.\u001b[39m_storage):\n\u001b[1;32m    199\u001b[0m     \u001b[38;5;28;01mtry\u001b[39;00m:\n\u001b[0;32m--> 200\u001b[0m         value_or_values \u001b[38;5;241m=\u001b[39m \u001b[43mfunc\u001b[49m\u001b[43m(\u001b[49m\u001b[43mtrial\u001b[49m\u001b[43m)\u001b[49m\n\u001b[1;32m    201\u001b[0m     \u001b[38;5;28;01mexcept\u001b[39;00m exceptions\u001b[38;5;241m.\u001b[39mTrialPruned \u001b[38;5;28;01mas\u001b[39;00m e:\n\u001b[1;32m    202\u001b[0m         \u001b[38;5;66;03m# TODO(mamu): Handle multi-objective cases.\u001b[39;00m\n\u001b[1;32m    203\u001b[0m         state \u001b[38;5;241m=\u001b[39m TrialState\u001b[38;5;241m.\u001b[39mPRUNED\n",
      "Cell \u001b[0;32mIn[27], line 112\u001b[0m, in \u001b[0;36mobjective\u001b[0;34m(trial)\u001b[0m\n\u001b[1;32m     98\u001b[0m     model\u001b[38;5;241m.\u001b[39mfit(\n\u001b[1;32m     99\u001b[0m         series\u001b[38;5;241m=\u001b[39mtrain,\n\u001b[1;32m    100\u001b[0m         val_series\u001b[38;5;241m=\u001b[39mval,\n\u001b[0;32m   (...)\u001b[0m\n\u001b[1;32m    103\u001b[0m         \u001b[38;5;66;03m# val_past_covariates=val_past_covariates_past\u001b[39;00m\n\u001b[1;32m    104\u001b[0m     )\n\u001b[1;32m    106\u001b[0m \u001b[38;5;66;03m#     model.fit(\u001b[39;00m\n\u001b[1;32m    107\u001b[0m \u001b[38;5;66;03m#         series=train,\u001b[39;00m\n\u001b[1;32m    108\u001b[0m \u001b[38;5;66;03m#         past_covariates=covariates,\u001b[39;00m\n\u001b[1;32m    109\u001b[0m \u001b[38;5;66;03m#     );\u001b[39;00m\n\u001b[1;32m    110\u001b[0m \n\u001b[1;32m    111\u001b[0m     \u001b[38;5;66;03m# reload best model over course of training\u001b[39;00m\n\u001b[0;32m--> 112\u001b[0m     model \u001b[38;5;241m=\u001b[39m \u001b[43mTransformerModel\u001b[49m\u001b[38;5;241;43m.\u001b[39;49m\u001b[43mload_from_checkpoint\u001b[49m\u001b[43m(\u001b[49m\u001b[38;5;124;43m\"\u001b[39;49m\u001b[38;5;124;43mtcn_model_1\u001b[39;49m\u001b[38;5;124;43m\"\u001b[39;49m\u001b[43m)\u001b[49m\n\u001b[1;32m    114\u001b[0m     \u001b[38;5;66;03m# Evaluate how good it is on the validation set, using sMAPE\u001b[39;00m\n\u001b[1;32m    115\u001b[0m     \u001b[38;5;66;03m# preds = model.predict(series=train[0], n=VAL_LEN)\u001b[39;00m\n\u001b[1;32m    116\u001b[0m     smapes \u001b[38;5;241m=\u001b[39m \u001b[38;5;241m0\u001b[39m\n",
      "File \u001b[0;32m~/.local/lib/python3.10/site-packages/darts/models/forecasting/torch_forecasting_model.py:1679\u001b[0m, in \u001b[0;36mTorchForecastingModel.load_from_checkpoint\u001b[0;34m(model_name, work_dir, file_name, best, **kwargs)\u001b[0m\n\u001b[1;32m   1676\u001b[0m \u001b[38;5;66;03m# load PyTorch LightningModule from checkpoint\u001b[39;00m\n\u001b[1;32m   1677\u001b[0m \u001b[38;5;66;03m# if file_name is None, find the path of the best or most recent checkpoint in savepath\u001b[39;00m\n\u001b[1;32m   1678\u001b[0m \u001b[38;5;28;01mif\u001b[39;00m file_name \u001b[38;5;129;01mis\u001b[39;00m \u001b[38;5;28;01mNone\u001b[39;00m:\n\u001b[0;32m-> 1679\u001b[0m     file_name \u001b[38;5;241m=\u001b[39m \u001b[43m_get_checkpoint_fname\u001b[49m\u001b[43m(\u001b[49m\u001b[43mwork_dir\u001b[49m\u001b[43m,\u001b[49m\u001b[43m \u001b[49m\u001b[43mmodel_name\u001b[49m\u001b[43m,\u001b[49m\u001b[43m \u001b[49m\u001b[43mbest\u001b[49m\u001b[38;5;241;43m=\u001b[39;49m\u001b[43mbest\u001b[49m\u001b[43m)\u001b[49m\n\u001b[1;32m   1681\u001b[0m file_path \u001b[38;5;241m=\u001b[39m os\u001b[38;5;241m.\u001b[39mpath\u001b[38;5;241m.\u001b[39mjoin(checkpoint_dir, file_name)\n\u001b[1;32m   1682\u001b[0m logger\u001b[38;5;241m.\u001b[39minfo(\u001b[38;5;124mf\u001b[39m\u001b[38;5;124m\"\u001b[39m\u001b[38;5;124mloading \u001b[39m\u001b[38;5;132;01m{\u001b[39;00mfile_name\u001b[38;5;132;01m}\u001b[39;00m\u001b[38;5;124m\"\u001b[39m)\n",
      "File \u001b[0;32m~/.local/lib/python3.10/site-packages/darts/models/forecasting/torch_forecasting_model.py:118\u001b[0m, in \u001b[0;36m_get_checkpoint_fname\u001b[0;34m(work_dir, model_name, best)\u001b[0m\n\u001b[1;32m    116\u001b[0m checklist \u001b[38;5;241m=\u001b[39m glob(path)\n\u001b[1;32m    117\u001b[0m \u001b[38;5;28;01mif\u001b[39;00m \u001b[38;5;28mlen\u001b[39m(checklist) \u001b[38;5;241m==\u001b[39m \u001b[38;5;241m0\u001b[39m:\n\u001b[0;32m--> 118\u001b[0m     \u001b[43mraise_log\u001b[49m\u001b[43m(\u001b[49m\n\u001b[1;32m    119\u001b[0m \u001b[43m        \u001b[49m\u001b[38;5;167;43;01mFileNotFoundError\u001b[39;49;00m\u001b[43m(\u001b[49m\n\u001b[1;32m    120\u001b[0m \u001b[43m            \u001b[49m\u001b[38;5;124;43m\"\u001b[39;49m\u001b[38;5;124;43mThere is no file matching prefix \u001b[39;49m\u001b[38;5;132;43;01m{}\u001b[39;49;00m\u001b[38;5;124;43m in \u001b[39;49m\u001b[38;5;132;43;01m{}\u001b[39;49;00m\u001b[38;5;124;43m\"\u001b[39;49m\u001b[38;5;241;43m.\u001b[39;49m\u001b[43mformat\u001b[49m\u001b[43m(\u001b[49m\n\u001b[1;32m    121\u001b[0m \u001b[43m                \u001b[49m\u001b[38;5;124;43m\"\u001b[39;49m\u001b[38;5;124;43mbest-*\u001b[39;49m\u001b[38;5;124;43m\"\u001b[39;49m\u001b[43m \u001b[49m\u001b[38;5;28;43;01mif\u001b[39;49;00m\u001b[43m \u001b[49m\u001b[43mbest\u001b[49m\u001b[43m \u001b[49m\u001b[38;5;28;43;01melse\u001b[39;49;00m\u001b[43m \u001b[49m\u001b[38;5;124;43m\"\u001b[39;49m\u001b[38;5;124;43mlast-*\u001b[39;49m\u001b[38;5;124;43m\"\u001b[39;49m\u001b[43m,\u001b[49m\u001b[43m \u001b[49m\u001b[43mcheckpoint_dir\u001b[49m\n\u001b[1;32m    122\u001b[0m \u001b[43m            \u001b[49m\u001b[43m)\u001b[49m\n\u001b[1;32m    123\u001b[0m \u001b[43m        \u001b[49m\u001b[43m)\u001b[49m\u001b[43m,\u001b[49m\n\u001b[1;32m    124\u001b[0m \u001b[43m        \u001b[49m\u001b[43mlogger\u001b[49m\u001b[43m,\u001b[49m\n\u001b[1;32m    125\u001b[0m \u001b[43m    \u001b[49m\u001b[43m)\u001b[49m\n\u001b[1;32m    127\u001b[0m file_name \u001b[38;5;241m=\u001b[39m \u001b[38;5;28mmax\u001b[39m(checklist, key\u001b[38;5;241m=\u001b[39mos\u001b[38;5;241m.\u001b[39mpath\u001b[38;5;241m.\u001b[39mgetctime)\n\u001b[1;32m    128\u001b[0m \u001b[38;5;28;01mreturn\u001b[39;00m os\u001b[38;5;241m.\u001b[39mpath\u001b[38;5;241m.\u001b[39mbasename(file_name)\n",
      "File \u001b[0;32m~/.local/lib/python3.10/site-packages/darts/logging.py:129\u001b[0m, in \u001b[0;36mraise_log\u001b[0;34m(exception, logger)\u001b[0m\n\u001b[1;32m    126\u001b[0m message \u001b[38;5;241m=\u001b[39m \u001b[38;5;28mstr\u001b[39m(exception)\n\u001b[1;32m    127\u001b[0m logger\u001b[38;5;241m.\u001b[39merror(exception_type \u001b[38;5;241m+\u001b[39m \u001b[38;5;124m\"\u001b[39m\u001b[38;5;124m: \u001b[39m\u001b[38;5;124m\"\u001b[39m \u001b[38;5;241m+\u001b[39m message)\n\u001b[0;32m--> 129\u001b[0m \u001b[38;5;28;01mraise\u001b[39;00m exception\n",
      "\u001b[0;31mFileNotFoundError\u001b[0m: There is no file matching prefix best-* in /storage/rwp2/Pipeline/Dask/split/darts_logs/tcn_model_1/checkpoints"
     ]
    }
   ],
   "source": [
    "import numpy as np\n",
    "import optuna\n",
    "import torch\n",
    "from optuna.integration import PyTorchLightningPruningCallback\n",
    "from pytorch_lightning.callbacks import EarlyStopping\n",
    "from sklearn.preprocessing import MaxAbsScaler\n",
    "\n",
    "from darts.dataprocessing.transformers import Scaler\n",
    "from darts.datasets import AirPassengersDataset\n",
    "from darts.metrics import smape\n",
    "from darts.models import TCNModel\n",
    "from darts.utils.likelihood_models import GaussianLikelihood\n",
    "\n",
    "# scale\n",
    "# scaler = Scaler(MaxAbsScaler())\n",
    "# train = scaler.fit_transform(train)\n",
    "# val = scaler.transform(val)\n",
    "\n",
    "# define objective function\n",
    "def objective(trial):\n",
    "    # select input and output chunk lengths\n",
    "    in_len = trial.suggest_int(\"in_len\", 50, 150)\n",
    "    out_len = trial.suggest_int(\"out_len\", 10, in_len-1)\n",
    "    # d_model_length = trial.suggest_int(\"d_model_length\", 60, 68)\n",
    "    num_encoder_layers_temp = trial.suggest_int(\"num_encoder_layers_temp\", 2, 5)\n",
    "    num_decoder_layers_temp = trial.suggest_int(\"num_decoder_layers_temp\", 3, 7)\n",
    "    # dim_feedforward_temp = trial.suggest_int(\"dim_feedforward_temp\", 512, 2048)\n",
    "    activation_temp =  trial.suggest_categorical(\"activation_temp\", [\"ReGLU\", \"GEGLU\", \"SwiGLU\", \"ReLU\", \"GELU\"])\n",
    "    # activation = activation_temp,\n",
    "    \n",
    "    kernel_size = trial.suggest_int(\"kernel_size\", 4, 7)\n",
    "    num_filters = trial.suggest_int(\"num_filters\", 2, 4)\n",
    "    weight_norm = trial.suggest_categorical(\"weight_norm\", [False, True])\n",
    "    dilation_base = trial.suggest_int(\"dilation_base\", 3, 6)\n",
    "    dropout = trial.suggest_float(\"dropout\", 0.0, 0.3)\n",
    "    lr = trial.suggest_float(\"lr\", 5e-6, 1e-3, log=True)\n",
    "    # include_year = trial.suggest_categorical(\"year\", [False, True])\n",
    "\n",
    "    # throughout training we'll monitor the validation loss for both pruning and early stopping\n",
    "    pruner = PyTorchLightningPruningCallback(trial, monitor=\"val_loss\")\n",
    "    early_stopper = EarlyStopping(\"val_loss\", min_delta=0.001, patience=3, verbose=True)\n",
    "    callbacks = [pruner, early_stopper]\n",
    "    \n",
    "    num_workers = 4\n",
    "        \n",
    "    pl_trainer_kwargs = {\n",
    "        \"accelerator\": \"gpu\",\n",
    "        \"devices\": [0],\n",
    "        \"callbacks\": callbacks,\n",
    "    }\n",
    "\n",
    "    encoders = None #look into add encoders\n",
    "\n",
    "    # reproducibility\n",
    "    torch.manual_seed(42)\n",
    "    # kernel_size', 'num_filters', 'weight_norm', 'dilation_base']`\n",
    "    # build the TCN model\n",
    "    model = TransformerModel(\n",
    "        input_chunk_length=in_len,\n",
    "        output_chunk_length=out_len,\n",
    "        batch_size=32,\n",
    "        n_epochs=2,\n",
    "        nr_epochs_val_period=1,\n",
    "        num_encoder_layers = num_encoder_layers_temp,\n",
    "        num_decoder_layers = num_decoder_layers_temp,\n",
    "        # d_model = d_model_length,\n",
    "        dropout=dropout,\n",
    "        optimizer_kwargs={\"lr\": lr},\n",
    "        add_encoders=encoders,\n",
    "        likelihood=GaussianLikelihood(),\n",
    "        pl_trainer_kwargs=pl_trainer_kwargs,\n",
    "        model_name=\"tcn_model_1\",\n",
    "        force_reset=True,\n",
    "        save_checkpoints=True,\n",
    "    )\n",
    "    \n",
    "    # model = TransformerModel(\n",
    "    # input_chunk_length=in_len,\n",
    "    # output_chunk_length=out_len,\n",
    "    # model_name=\"test5\",\n",
    "    # activation=\"relu\",\n",
    "    # # random_state=42,\n",
    "    # save_checkpoints=True,\n",
    "    # # force_reset=True,\n",
    "    # pl_trainer_kwargs = {\"accelerator\": \"gpu\", \"devices\": [1]}\n",
    "    # )\n",
    "    \n",
    "    \n",
    "    # when validating during training, we can use a slightly longer validation\n",
    "    # set which also contains the first input_chunk_length time steps\n",
    "    # model_val_set = scaler.transform(series[-(VAL_LEN + in_len) :])\n",
    "    # model_val_set = []\n",
    "    # for time_series in time_final:\n",
    "    #     series = time_series.astype(np.float32)\n",
    "    #     model_val_set.append(series[-(VAL_LEN + in_len) :])\n",
    "\n",
    "    # train the model\n",
    "    model.fit(\n",
    "        series=train,\n",
    "        val_series=val,\n",
    "        # num_loader_workers=1,\n",
    "        # past_covariates = covariates,\n",
    "        # val_past_covariates=val_past_covariates_past\n",
    "    )\n",
    "    \n",
    "#     model.fit(\n",
    "#         series=train,\n",
    "#         past_covariates=covariates,\n",
    "#     );\n",
    "\n",
    "    # reload best model over course of training\n",
    "    model = TransformerModel.load_from_checkpoint(\"tcn_model_1\")\n",
    "    \n",
    "    # Evaluate how good it is on the validation set, using sMAPE\n",
    "    # preds = model.predict(series=train[0], n=VAL_LEN)\n",
    "    smapes = 0\n",
    "    for i in range(len(train)):\n",
    "        preds = model.predict(\n",
    "            series=train[i],\n",
    "            # past_covariates=covariates[i],\n",
    "            n=VAL_LEN,\n",
    "            # verbose=verbose,\n",
    "        )\n",
    "        smapes += smape(preds, val[i])\n",
    "    smapes = smapes/len(train)\n",
    "    smape_val = np.mean(smapes)\n",
    "    # if smape_val== np.nan:\n",
    "    #     print(\"nan\")\n",
    "    return smape_val if smape_val != np.nan else float(\"inf\")\n",
    "\n",
    "\n",
    "# for convenience, print some optimization trials information\n",
    "def print_callback(study, trial):\n",
    "    print(f\"Current value: {trial.value}, Current params: {trial.params}\")\n",
    "    print(f\"Best value: {study.best_value}, Best params: {study.best_trial.params}\")\n",
    "\n",
    "\n",
    "# optimize hyperparameters by minimizing the sMAPE on the validation set\n",
    "def run_trial():\n",
    "    study = optuna.create_study(direction=\"minimize\")\n",
    "    study.optimize(objective, n_trials=3, callbacks=[print_callback])\n",
    "        \n",
    "if __name__ == \"__main__\":\n",
    "    run_trial()\n",
    "    # objective(Trial())\n"
   ]
  },
  {
   "cell_type": "code",
   "execution_count": 16,
   "id": "bcc82378-b86a-4065-98c4-1ba3e27cb4c1",
   "metadata": {
    "tags": []
   },
   "outputs": [],
   "source": [
    "# fix python path if working locally\n",
    "import pandas as pd\n",
    "import numpy as np\n",
    "import torch\n",
    "import matplotlib.pyplot as plt\n",
    "import os\n",
    "\n",
    "from darts import TimeSeries\n",
    "from darts.utils.timeseries_generation import (\n",
    "    gaussian_timeseries,\n",
    "    linear_timeseries,\n",
    "    sine_timeseries,\n",
    ")\n",
    "from darts.models import (\n",
    "    RNNModel,\n",
    "    TCNModel,\n",
    "    TransformerModel,\n",
    "    NBEATSModel,\n",
    "    BlockRNNModel,\n",
    "    VARIMA,\n",
    ")\n",
    "from darts.metrics import mape, smape, mae\n",
    "from darts.dataprocessing.transformers import Scaler\n",
    "from darts.utils.timeseries_generation import datetime_attribute_timeseries\n",
    "from darts.datasets import AirPassengersDataset, MonthlyMilkDataset, ElectricityDataset\n",
    "\n",
    "import logging\n",
    "\n",
    "logging.disable(logging.CRITICAL)\n",
    "\n",
    "import warnings\n",
    "\n",
    "warnings.filterwarnings(\"ignore\")\n",
    "\n",
    "%matplotlib inline\n",
    "\n",
    "# for reproducibility\n",
    "torch.manual_seed(1)\n",
    "np.random.seed(1)"
   ]
  },
  {
   "cell_type": "code",
   "execution_count": 145,
   "id": "a4246e7a-8612-4e86-b68a-dbb39308b5db",
   "metadata": {
    "tags": []
   },
   "outputs": [
    {
     "name": "stdout",
     "output_type": "stream",
     "text": [
      "/storage/rwp2/Pipeline/Dask\n"
     ]
    }
   ],
   "source": [
    "cd .."
   ]
  },
  {
   "cell_type": "code",
   "execution_count": 107,
   "id": "3d334c1b-a9f1-485b-98a4-deff14d155f2",
   "metadata": {
    "tags": []
   },
   "outputs": [],
   "source": [
    "num = 1"
   ]
  },
  {
   "cell_type": "code",
   "execution_count": 108,
   "id": "62dd8ad1-8b6e-4049-9001-84c23737b34f",
   "metadata": {
    "tags": []
   },
   "outputs": [
    {
     "name": "stdout",
     "output_type": "stream",
     "text": [
      "300\n"
     ]
    }
   ],
   "source": [
    "print(len(val[num]))"
   ]
  },
  {
   "cell_type": "code",
   "execution_count": 109,
   "id": "5ef649ba-c639-43b0-9fb5-0dec3971e168",
   "metadata": {
    "tags": []
   },
   "outputs": [],
   "source": [
    "# temp = train[1][:7000+VAL_LEN]"
   ]
  },
  {
   "cell_type": "code",
   "execution_count": 120,
   "id": "9565bd9e-4f64-42fb-8125-8d3b63627dc0",
   "metadata": {
    "tags": []
   },
   "outputs": [
    {
     "name": "stdout",
     "output_type": "stream",
     "text": [
      "/storage/rwp2/Pipeline/Dask/filtered\n"
     ]
    }
   ],
   "source": [
    "cd filtered"
   ]
  },
  {
   "cell_type": "code",
   "execution_count": 119,
   "id": "92ce4da6-b54b-4339-9471-f9181c74defe",
   "metadata": {
    "tags": []
   },
   "outputs": [
    {
     "name": "stdout",
     "output_type": "stream",
     "text": [
      "/storage/rwp2/Pipeline/Dask\n"
     ]
    }
   ],
   "source": [
    "cd .."
   ]
  },
  {
   "cell_type": "code",
   "execution_count": 150,
   "id": "16237e4a-7aa9-42d2-96d1-b85e3f2fa4d0",
   "metadata": {
    "tags": []
   },
   "outputs": [],
   "source": [
    "loaded_model = TransformerModel.load_from_checkpoint('transformer-3357/T0314')"
   ]
  },
  {
   "cell_type": "code",
   "execution_count": 200,
   "id": "78cc9cbd-e9da-4f05-8358-e57956931403",
   "metadata": {
    "tags": []
   },
   "outputs": [
    {
     "data": {
      "application/vnd.jupyter.widget-view+json": {
       "model_id": "0982fe9655cb4bb19a749f72bf2a38f4",
       "version_major": 2,
       "version_minor": 0
      },
      "text/plain": [
       "Predicting: 0it [00:00, ?it/s]"
      ]
     },
     "metadata": {},
     "output_type": "display_data"
    }
   ],
   "source": [
    "n_forecast = len(val[num])  # Replace `test` with your test set\n",
    "pred_series = loaded_model.predict(n=n_forecast, series=train[num][:370])  # Adjust the `n` parameter as needed"
   ]
  },
  {
   "cell_type": "code",
   "execution_count": 201,
   "id": "41d6e542-9de9-44ea-ae00-d64b9f6994ba",
   "metadata": {
    "tags": []
   },
   "outputs": [],
   "source": [
    "# n_forecast = len(temp)  # Replace `test` with your test set\n",
    "# pred_series = loaded_model.predict(n=n_forecast, series=train[num][:300])  # Adjust the `n` parameter as needed"
   ]
  },
  {
   "cell_type": "code",
   "execution_count": 202,
   "id": "a8f3fae0-e07a-4e11-b7c6-238873987e4c",
   "metadata": {
    "tags": []
   },
   "outputs": [
    {
     "name": "stdout",
     "output_type": "stream",
     "text": [
      "SMAPE: 27.17%\n",
      "RMSE: 1.67\n"
     ]
    }
   ],
   "source": [
    "from darts.metrics import mape, rmse\n",
    "\n",
    "smape_score = smape(pred_series, train[num][370:670])  # Replace `test` with your true future values\n",
    "rmse_score = rmse(pred_series, train[num][370:670])  # Replace `test` with your true future values\n",
    "\n",
    "print(f\"SMAPE: {smape_score:.2f}%\")\n",
    "print(f\"RMSE: {rmse_score:.2f}\")"
   ]
  },
  {
   "cell_type": "code",
   "execution_count": 203,
   "id": "933b57ca-799d-472e-a5fd-3c9470f85b90",
   "metadata": {
    "tags": []
   },
   "outputs": [
    {
     "name": "stdout",
     "output_type": "stream",
     "text": [
      "27.169921919703484\n"
     ]
    }
   ],
   "source": [
    "print(np.mean(smape_score))"
   ]
  },
  {
   "cell_type": "code",
   "execution_count": 204,
   "id": "30abfa62-6e97-4639-b1ec-5f54590c36a6",
   "metadata": {
    "tags": []
   },
   "outputs": [
    {
     "data": {
      "image/png": "[encoded data removed]",
      "text/plain": [
       "<Figure size 1000x600 with 1 Axes>"
      ]
     },
     "metadata": {},
     "output_type": "display_data"
    }
   ],
   "source": [
    "import matplotlib.pyplot as plt\n",
    "from darts import TimeSeries\n",
    "\n",
    "# Assuming you have a multivariate Darts time series named 'multivariate_time_series'\n",
    "\n",
    "# Convert the Darts time series to a Pandas DataFrame\n",
    "df = (pred_series).pd_dataframe()\n",
    "\n",
    "# Plotting the multivariate time series\n",
    "plt.figure(figsize=(10, 6))\n",
    "\n",
    "# Plot each variable separately\n",
    "for column in df.columns:\n",
    "    plt.plot(df.index, df[column], label=column)\n",
    "\n",
    "plt.xlabel('Time')\n",
    "plt.ylabel('Value')\n",
    "plt.title('Multivariate Time Series Plot')\n",
    "# plt.legend()\n",
    "plt.grid(True)\n",
    "plt.show()\n"
   ]
  },
  {
   "cell_type": "code",
   "execution_count": 205,
   "id": "0bfeb9e0-8124-41c6-b481-05e82079132f",
   "metadata": {
    "tags": []
   },
   "outputs": [
    {
     "data": {
      "image/png": "[encoded data removed]",
      "text/plain": [
       "<Figure size 1000x600 with 1 Axes>"
      ]
     },
     "metadata": {},
     "output_type": "display_data"
    }
   ],
   "source": [
    "import matplotlib.pyplot as plt\n",
    "from darts import TimeSeries\n",
    "\n",
    "# Assuming you have a multivariate Darts time series named 'multivariate_time_series'\n",
    "\n",
    "# Convert the Darts time series to a Pandas DataFrame\n",
    "df = (train[num][370:670]).pd_dataframe()\n",
    "# df = (val[num]).pd_dataframe()\n",
    "\n",
    "# Plotting the multivariate time series\n",
    "plt.figure(figsize=(10, 6))\n",
    "\n",
    "# Plot each variable separately\n",
    "for column in df.columns:\n",
    "    plt.plot(df.index, df[column], label=column)\n",
    "\n",
    "plt.xlabel('Time')\n",
    "plt.ylabel('Value')\n",
    "plt.title('Multivariate Time Series Plot')\n",
    "# plt.legend()\n",
    "plt.grid(True)\n",
    "plt.show()\n"
   ]
  },
  {
   "cell_type": "code",
   "execution_count": null,
   "id": "870a96db-a070-4ed3-bf90-a2a38d427b0a",
   "metadata": {},
   "outputs": [],
   "source": [
    "I 2023-07-31 16:21:07,924] Trial 92 finished with value: \n",
    "    140.74493944644928 and parameters: {'d_model_length': 67, 'dilation_base': 4, \n",
    "                                        'dropout': 0.05325962047210396, 'in_len': 69, 'kernel_size': 5, \n",
    "                                        'lr': 0.00035671372383447384, 'num_decoder_layers_temp': 3, 'num_encoder_layers_temp': 5, \n",
    "                                        'num_filters': 3, 'out_len': 31, 'weight_norm': False}. Best is trial 92 with value: 140.74493944644928."
   ]
  },
  {
   "cell_type": "code",
   "execution_count": null,
   "id": "21ca7403-de5f-4c9f-b1f3-c72baf99165f",
   "metadata": {},
   "outputs": [],
   "source": []
  }
 ],
 "metadata": {
  "kernelspec": {
   "display_name": "Python [conda env:jupyterhub] *",
   "language": "python",
   "name": "conda-env-jupyterhub-py"
  },
  "language_info": {
   "codemirror_mode": {
    "name": "ipython",
    "version": 3
   },
   "file_extension": ".py",
   "mimetype": "text/x-python",
   "name": "python",
   "nbconvert_exporter": "python",
   "pygments_lexer": "ipython3",
   "version": "3.10.9"
  }
 },
 "nbformat": 4,
 "nbformat_minor": 5
}
